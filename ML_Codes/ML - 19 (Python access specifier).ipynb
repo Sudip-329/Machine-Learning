{
 "cells": [
  {
   "cell_type": "code",
   "execution_count": 2,
   "id": "6d4abf93",
   "metadata": {},
   "outputs": [],
   "source": [
    "## All the class variables are public here\n",
    "class Car():\n",
    "    def __init__(self,windows,doors,enginetype):\n",
    "        self.windows = windows\n",
    "        self.door = doors\n",
    "        self.enginetype = enginetype\n",
    "        "
   ]
  },
  {
   "cell_type": "code",
   "execution_count": 3,
   "id": "bb423ace",
   "metadata": {},
   "outputs": [],
   "source": [
    "audi=Car(4,5,'Diesel')\n"
   ]
  },
  {
   "cell_type": "code",
   "execution_count": 6,
   "id": "4fd4c8fc",
   "metadata": {},
   "outputs": [
    {
     "data": {
      "text/plain": [
       "5"
      ]
     },
     "execution_count": 6,
     "metadata": {},
     "output_type": "execute_result"
    }
   ],
   "source": [
    "audi.door\n"
   ]
  },
  {
   "cell_type": "code",
   "execution_count": 4,
   "id": "da63c406",
   "metadata": {},
   "outputs": [
    {
     "data": {
      "text/plain": [
       "['__class__',\n",
       " '__delattr__',\n",
       " '__dict__',\n",
       " '__dir__',\n",
       " '__doc__',\n",
       " '__eq__',\n",
       " '__format__',\n",
       " '__ge__',\n",
       " '__getattribute__',\n",
       " '__gt__',\n",
       " '__hash__',\n",
       " '__init__',\n",
       " '__init_subclass__',\n",
       " '__le__',\n",
       " '__lt__',\n",
       " '__module__',\n",
       " '__ne__',\n",
       " '__new__',\n",
       " '__reduce__',\n",
       " '__reduce_ex__',\n",
       " '__repr__',\n",
       " '__setattr__',\n",
       " '__sizeof__',\n",
       " '__str__',\n",
       " '__subclasshook__',\n",
       " '__weakref__',\n",
       " 'door',\n",
       " 'enginetype',\n",
       " 'windows']"
      ]
     },
     "execution_count": 4,
     "metadata": {},
     "output_type": "execute_result"
    }
   ],
   "source": [
    "dir(audi)"
   ]
  },
  {
   "cell_type": "code",
   "execution_count": 5,
   "id": "ff7f59fb",
   "metadata": {},
   "outputs": [],
   "source": [
    "## All the class variables are protected here\n",
    "class Car():\n",
    "    def __init__(self,windows,doors,enginetype):\n",
    "        self._windows = windows\n",
    "        self._door = doors\n",
    "        self._enginetype = enginetype"
   ]
  },
  {
   "cell_type": "code",
   "execution_count": 6,
   "id": "c5b36c9c",
   "metadata": {},
   "outputs": [],
   "source": [
    "audi = Car(4,4,'Disel')"
   ]
  },
  {
   "cell_type": "code",
   "execution_count": 7,
   "id": "532ae677",
   "metadata": {},
   "outputs": [
    {
     "data": {
      "text/plain": [
       "['__class__',\n",
       " '__delattr__',\n",
       " '__dict__',\n",
       " '__dir__',\n",
       " '__doc__',\n",
       " '__eq__',\n",
       " '__format__',\n",
       " '__ge__',\n",
       " '__getattribute__',\n",
       " '__gt__',\n",
       " '__hash__',\n",
       " '__init__',\n",
       " '__init_subclass__',\n",
       " '__le__',\n",
       " '__lt__',\n",
       " '__module__',\n",
       " '__ne__',\n",
       " '__new__',\n",
       " '__reduce__',\n",
       " '__reduce_ex__',\n",
       " '__repr__',\n",
       " '__setattr__',\n",
       " '__sizeof__',\n",
       " '__str__',\n",
       " '__subclasshook__',\n",
       " '__weakref__',\n",
       " '_door',\n",
       " '_enginetype',\n",
       " '_windows']"
      ]
     },
     "execution_count": 7,
     "metadata": {},
     "output_type": "execute_result"
    }
   ],
   "source": [
    "dir(audi)"
   ]
  },
  {
   "cell_type": "markdown",
   "id": "fa795a3e",
   "metadata": {},
   "source": [
    "# #defining class Student\n",
    "class Student:\n",
    "    #constructor is defined\n",
    "    def __init__(self, name, age, salary):\n",
    "        self.age = age             # public Attribute\n",
    "        self._name = name          # protected Attribute \n",
    "        self.__salary = salary     # private Attribute\n",
    "\n",
    "    def _funName(self):            # protected method\n",
    "        pass\n",
    " \n",
    "    def __funName(self):           # private method\n",
    "        pass\n",
    "\n",
    "# object creation \n",
    "obj = Student(\"pythonlobby\",21,45000)"
   ]
  },
  {
   "cell_type": "code",
   "execution_count": 8,
   "id": "3976e6f2",
   "metadata": {},
   "outputs": [],
   "source": [
    "#defining class Student\n",
    "class Student:\n",
    "    #constructor is defined\n",
    "    def __init__(self, name, age, salary):\n",
    "        self.age = age             # public Attribute\n",
    "        self._name = name          # protected Attribute \n",
    "        self.__salary = salary     # private Attribute\n",
    "\n",
    "    def _funName(self):            # protected method\n",
    "        pass\n",
    " \n",
    "    def __funName(self):           # private method\n",
    "        pass\n",
    "\n",
    "# object creation \n",
    "obj = Student(\"pythonlobby\",21,45000)"
   ]
  },
  {
   "cell_type": "code",
   "execution_count": 9,
   "id": "5870dc61",
   "metadata": {},
   "outputs": [
    {
     "data": {
      "text/plain": [
       "['_Student__funName',\n",
       " '_Student__salary',\n",
       " '__class__',\n",
       " '__delattr__',\n",
       " '__dict__',\n",
       " '__dir__',\n",
       " '__doc__',\n",
       " '__eq__',\n",
       " '__format__',\n",
       " '__ge__',\n",
       " '__getattribute__',\n",
       " '__gt__',\n",
       " '__hash__',\n",
       " '__init__',\n",
       " '__init_subclass__',\n",
       " '__le__',\n",
       " '__lt__',\n",
       " '__module__',\n",
       " '__ne__',\n",
       " '__new__',\n",
       " '__reduce__',\n",
       " '__reduce_ex__',\n",
       " '__repr__',\n",
       " '__setattr__',\n",
       " '__sizeof__',\n",
       " '__str__',\n",
       " '__subclasshook__',\n",
       " '__weakref__',\n",
       " '_funName',\n",
       " '_name',\n",
       " 'age']"
      ]
     },
     "execution_count": 9,
     "metadata": {},
     "output_type": "execute_result"
    }
   ],
   "source": [
    "dir(obj)"
   ]
  },
  {
   "cell_type": "code",
   "execution_count": 10,
   "id": "3d0488e3",
   "metadata": {},
   "outputs": [],
   "source": [
    "# private __\n",
    "# preotected _\n",
    "# public nothing"
   ]
  },
  {
   "cell_type": "code",
   "execution_count": 11,
   "id": "3f26f752",
   "metadata": {},
   "outputs": [],
   "source": [
    "class Truck(Car):\n",
    "    def __init__(self,windows,doors,enginetype,horsepower):\n",
    "        super().__init__(windows,doors,enginetype)\n",
    "        self.horsepowwer=horsepower"
   ]
  },
  {
   "cell_type": "code",
   "execution_count": 12,
   "id": "3dae2daf",
   "metadata": {},
   "outputs": [
    {
     "data": {
      "text/plain": [
       "['__class__',\n",
       " '__delattr__',\n",
       " '__dict__',\n",
       " '__dir__',\n",
       " '__doc__',\n",
       " '__eq__',\n",
       " '__format__',\n",
       " '__ge__',\n",
       " '__getattribute__',\n",
       " '__gt__',\n",
       " '__hash__',\n",
       " '__init__',\n",
       " '__init_subclass__',\n",
       " '__le__',\n",
       " '__lt__',\n",
       " '__module__',\n",
       " '__ne__',\n",
       " '__new__',\n",
       " '__reduce__',\n",
       " '__reduce_ex__',\n",
       " '__repr__',\n",
       " '__setattr__',\n",
       " '__sizeof__',\n",
       " '__str__',\n",
       " '__subclasshook__',\n",
       " '__weakref__',\n",
       " '_door',\n",
       " '_enginetype',\n",
       " '_windows',\n",
       " 'horsepowwer']"
      ]
     },
     "execution_count": 12,
     "metadata": {},
     "output_type": "execute_result"
    }
   ],
   "source": [
    "truck=Truck(4,4,\"Diesel\",4000)\n",
    "dir(truck)"
   ]
  },
  {
   "cell_type": "code",
   "execution_count": 13,
   "id": "871c49af",
   "metadata": {},
   "outputs": [],
   "source": [
    "### private\n",
    "class Car():\n",
    "    def __init__(self,windows,doors,enginetype):\n",
    "        self.__windows=windows\n",
    "        self.__doors=doors\n",
    "        self.__enginetype=enginetype"
   ]
  },
  {
   "cell_type": "code",
   "execution_count": 14,
   "id": "aa42efd0",
   "metadata": {},
   "outputs": [],
   "source": [
    "audi=Car(4,4,\"Diesel\")"
   ]
  },
  {
   "cell_type": "code",
   "execution_count": 15,
   "id": "5445b179",
   "metadata": {},
   "outputs": [],
   "source": [
    "audi._Car__doors=5"
   ]
  },
  {
   "cell_type": "code",
   "execution_count": 16,
   "id": "2f59041f",
   "metadata": {},
   "outputs": [
    {
     "data": {
      "text/plain": [
       "['_Car__doors',\n",
       " '_Car__enginetype',\n",
       " '_Car__windows',\n",
       " '__class__',\n",
       " '__delattr__',\n",
       " '__dict__',\n",
       " '__dir__',\n",
       " '__doc__',\n",
       " '__eq__',\n",
       " '__format__',\n",
       " '__ge__',\n",
       " '__getattribute__',\n",
       " '__gt__',\n",
       " '__hash__',\n",
       " '__init__',\n",
       " '__init_subclass__',\n",
       " '__le__',\n",
       " '__lt__',\n",
       " '__module__',\n",
       " '__ne__',\n",
       " '__new__',\n",
       " '__reduce__',\n",
       " '__reduce_ex__',\n",
       " '__repr__',\n",
       " '__setattr__',\n",
       " '__sizeof__',\n",
       " '__str__',\n",
       " '__subclasshook__',\n",
       " '__weakref__']"
      ]
     },
     "execution_count": 16,
     "metadata": {},
     "output_type": "execute_result"
    }
   ],
   "source": [
    "dir(audi)"
   ]
  },
  {
   "cell_type": "code",
   "execution_count": 18,
   "id": "0f89401d",
   "metadata": {},
   "outputs": [],
   "source": [
    "# End"
   ]
  },
  {
   "cell_type": "code",
   "execution_count": null,
   "id": "64bcecb3",
   "metadata": {},
   "outputs": [],
   "source": []
  }
 ],
 "metadata": {
  "kernelspec": {
   "display_name": "Python 3 (ipykernel)",
   "language": "python",
   "name": "python3"
  },
  "language_info": {
   "codemirror_mode": {
    "name": "ipython",
    "version": 3
   },
   "file_extension": ".py",
   "mimetype": "text/x-python",
   "name": "python",
   "nbconvert_exporter": "python",
   "pygments_lexer": "ipython3",
   "version": "3.10.9"
  }
 },
 "nbformat": 4,
 "nbformat_minor": 5
}
