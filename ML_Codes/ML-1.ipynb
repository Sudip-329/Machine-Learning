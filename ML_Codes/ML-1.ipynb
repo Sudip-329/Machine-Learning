{
 "cells": [
  {
   "cell_type": "code",
   "execution_count": 1,
   "id": "2481765f",
   "metadata": {},
   "outputs": [
    {
     "data": {
      "text/plain": [
       "2"
      ]
     },
     "execution_count": 1,
     "metadata": {},
     "output_type": "execute_result"
    }
   ],
   "source": [
    "1+1"
   ]
  },
  {
   "cell_type": "code",
   "execution_count": 2,
   "id": "fc660347",
   "metadata": {},
   "outputs": [
    {
     "data": {
      "text/plain": [
       "10"
      ]
     },
     "execution_count": 2,
     "metadata": {},
     "output_type": "execute_result"
    }
   ],
   "source": [
    "5*2\n"
   ]
  },
  {
   "cell_type": "code",
   "execution_count": 3,
   "id": "26267b23",
   "metadata": {},
   "outputs": [
    {
     "ename": "NameError",
     "evalue": "name 'Sudip' is not defined",
     "output_type": "error",
     "traceback": [
      "\u001b[1;31m---------------------------------------------------------------------------\u001b[0m",
      "\u001b[1;31mNameError\u001b[0m                                 Traceback (most recent call last)",
      "Input \u001b[1;32mIn [3]\u001b[0m, in \u001b[0;36m<cell line: 1>\u001b[1;34m()\u001b[0m\n\u001b[1;32m----> 1\u001b[0m \u001b[43mSudip\u001b[49m \u001b[38;5;241m+\u001b[39m Chakrabarty\n",
      "\u001b[1;31mNameError\u001b[0m: name 'Sudip' is not defined"
     ]
    }
   ],
   "source": [
    "Sudip + Chakrabarty\n"
   ]
  },
  {
   "cell_type": "code",
   "execution_count": 4,
   "id": "b9e42bb0",
   "metadata": {},
   "outputs": [],
   "source": [
    "# Sudip "
   ]
  },
  {
   "cell_type": "markdown",
   "id": "7402604f",
   "metadata": {},
   "source": [
    "# Sudip Chakrabarty\n"
   ]
  },
  {
   "cell_type": "markdown",
   "id": "0ef25886",
   "metadata": {},
   "source": [
    "## Sudip Chakrabarty\n"
   ]
  },
  {
   "cell_type": "code",
   "execution_count": 5,
   "id": "04530b0f",
   "metadata": {},
   "outputs": [
    {
     "data": {
      "text/plain": [
       "'sudipsudipsudipsudipsudipsudipsudipsudipsudipsudip'"
      ]
     },
     "execution_count": 5,
     "metadata": {},
     "output_type": "execute_result"
    }
   ],
   "source": [
    "10 * 'sudip'"
   ]
  },
  {
   "cell_type": "code",
   "execution_count": 6,
   "id": "cb356759",
   "metadata": {},
   "outputs": [
    {
     "data": {
      "text/plain": [
       "'SudipSudipSudipSudipSudipSudipSudipSudipSudipSudip'"
      ]
     },
     "execution_count": 6,
     "metadata": {},
     "output_type": "execute_result"
    }
   ],
   "source": [
    "10 * \"Sudip\""
   ]
  },
  {
   "cell_type": "code",
   "execution_count": 7,
   "id": "b69cd7d8",
   "metadata": {},
   "outputs": [
    {
     "data": {
      "text/plain": [
       "'sudipsudip'"
      ]
     },
     "execution_count": 7,
     "metadata": {},
     "output_type": "execute_result"
    }
   ],
   "source": [
    "'sudip' + 'sudip'"
   ]
  },
  {
   "cell_type": "code",
   "execution_count": 8,
   "id": "4ca71d2f",
   "metadata": {},
   "outputs": [
    {
     "data": {
      "text/plain": [
       "100"
      ]
     },
     "execution_count": 8,
     "metadata": {},
     "output_type": "execute_result"
    }
   ],
   "source": [
    "10 ** 2"
   ]
  },
  {
   "cell_type": "code",
   "execution_count": 9,
   "id": "7b696f60",
   "metadata": {},
   "outputs": [
    {
     "data": {
      "text/plain": [
       "int"
      ]
     },
     "execution_count": 9,
     "metadata": {},
     "output_type": "execute_result"
    }
   ],
   "source": [
    "type(1)"
   ]
  },
  {
   "cell_type": "code",
   "execution_count": 10,
   "id": "870f62a9",
   "metadata": {},
   "outputs": [
    {
     "data": {
      "text/plain": [
       "str"
      ]
     },
     "execution_count": 10,
     "metadata": {},
     "output_type": "execute_result"
    }
   ],
   "source": [
    "type('sudip')"
   ]
  },
  {
   "cell_type": "code",
   "execution_count": 11,
   "id": "698ed897",
   "metadata": {},
   "outputs": [
    {
     "ename": "NameError",
     "evalue": "name 'true' is not defined",
     "output_type": "error",
     "traceback": [
      "\u001b[1;31m---------------------------------------------------------------------------\u001b[0m",
      "\u001b[1;31mNameError\u001b[0m                                 Traceback (most recent call last)",
      "Input \u001b[1;32mIn [11]\u001b[0m, in \u001b[0;36m<cell line: 1>\u001b[1;34m()\u001b[0m\n\u001b[1;32m----> 1\u001b[0m \u001b[38;5;28mtype\u001b[39m(\u001b[43mtrue\u001b[49m)\n",
      "\u001b[1;31mNameError\u001b[0m: name 'true' is not defined"
     ]
    }
   ],
   "source": [
    "type(true)"
   ]
  },
  {
   "cell_type": "code",
   "execution_count": 12,
   "id": "6241b53e",
   "metadata": {},
   "outputs": [
    {
     "data": {
      "text/plain": [
       "bool"
      ]
     },
     "execution_count": 12,
     "metadata": {},
     "output_type": "execute_result"
    }
   ],
   "source": [
    "type(True)"
   ]
  },
  {
   "cell_type": "code",
   "execution_count": 13,
   "id": "933c9e55",
   "metadata": {},
   "outputs": [],
   "source": [
    " a = 10"
   ]
  },
  {
   "cell_type": "code",
   "execution_count": 14,
   "id": "22bf9ba4",
   "metadata": {},
   "outputs": [
    {
     "data": {
      "text/plain": [
       "int"
      ]
     },
     "execution_count": 14,
     "metadata": {},
     "output_type": "execute_result"
    }
   ],
   "source": [
    "type(a)"
   ]
  },
  {
   "cell_type": "code",
   "execution_count": 15,
   "id": "43c28676",
   "metadata": {},
   "outputs": [],
   "source": [
    "a = 11\n",
    "b = 21"
   ]
  },
  {
   "cell_type": "code",
   "execution_count": 16,
   "id": "838e7b83",
   "metadata": {},
   "outputs": [
    {
     "data": {
      "text/plain": [
       "231"
      ]
     },
     "execution_count": 16,
     "metadata": {},
     "output_type": "execute_result"
    }
   ],
   "source": [
    "a*b"
   ]
  },
  {
   "cell_type": "code",
   "execution_count": 17,
   "id": "f7ad5b9f",
   "metadata": {},
   "outputs": [
    {
     "data": {
      "text/plain": [
       "221"
      ]
     },
     "execution_count": 17,
     "metadata": {},
     "output_type": "execute_result"
    }
   ],
   "source": [
    "a*b\n",
    "a/b\n",
    "(a*b)+(a-b)"
   ]
  },
  {
   "cell_type": "code",
   "execution_count": 18,
   "id": "e939ee71",
   "metadata": {},
   "outputs": [
    {
     "name": "stdout",
     "output_type": "stream",
     "text": [
      "231\n",
      "0.5238095238095238\n",
      "221\n"
     ]
    }
   ],
   "source": [
    "print(a*b)\n",
    "print(a/b)\n",
    "print((a*b)+(a-b))"
   ]
  },
  {
   "cell_type": "code",
   "execution_count": 19,
   "id": "eef21165",
   "metadata": {},
   "outputs": [
    {
     "name": "stdout",
     "output_type": "stream",
     "text": [
      "S\n"
     ]
    }
   ],
   "source": [
    "print('S')"
   ]
  },
  {
   "cell_type": "code",
   "execution_count": 22,
   "id": "f2842f5e",
   "metadata": {},
   "outputs": [],
   "source": [
    "a = \"Sudip\"\n",
    "b = \"Chakrabarty\""
   ]
  },
  {
   "cell_type": "code",
   "execution_count": 23,
   "id": "372ee08a",
   "metadata": {},
   "outputs": [
    {
     "name": "stdout",
     "output_type": "stream",
     "text": [
      "My name is Sudip and surname is Chakrabarty\n"
     ]
    }
   ],
   "source": [
    "print(\"My name is {} and surname is {}\".format(a,b))"
   ]
  },
  {
   "cell_type": "code",
   "execution_count": 24,
   "id": "682f7795",
   "metadata": {},
   "outputs": [
    {
     "name": "stdout",
     "output_type": "stream",
     "text": [
      "My name is Sudip and surname is Chakrabarty\n"
     ]
    }
   ],
   "source": [
    "print(\"My name is {} and surname is {}\".format(a,b))"
   ]
  },
  {
   "cell_type": "code",
   "execution_count": 25,
   "id": "773fda7e",
   "metadata": {},
   "outputs": [
    {
     "name": "stdout",
     "output_type": "stream",
     "text": [
      "My name is Sudip and surname is Chakrabarty\n"
     ]
    }
   ],
   "source": [
    "print(\"My name is {first} and surname is {second}\".format(first=a,second=b))"
   ]
  },
  {
   "cell_type": "code",
   "execution_count": 26,
   "id": "322e7915",
   "metadata": {},
   "outputs": [
    {
     "data": {
      "text/plain": [
       "5"
      ]
     },
     "execution_count": 26,
     "metadata": {},
     "output_type": "execute_result"
    }
   ],
   "source": [
    "len('Sudip')"
   ]
  },
  {
   "cell_type": "code",
   "execution_count": 27,
   "id": "c1fbcfe1",
   "metadata": {},
   "outputs": [
    {
     "name": "stdout",
     "output_type": "stream",
     "text": [
      "[1, 2, 3, 4]\n"
     ]
    }
   ],
   "source": [
    "print([1,2,3,4])"
   ]
  },
  {
   "cell_type": "code",
   "execution_count": 28,
   "id": "413ac8a5",
   "metadata": {},
   "outputs": [
    {
     "data": {
      "text/plain": [
       "list"
      ]
     },
     "execution_count": 28,
     "metadata": {},
     "output_type": "execute_result"
    }
   ],
   "source": [
    "type([1,1,1])"
   ]
  },
  {
   "cell_type": "code",
   "execution_count": 30,
   "id": "59979f85",
   "metadata": {},
   "outputs": [
    {
     "data": {
      "text/plain": [
       "list"
      ]
     },
     "execution_count": 30,
     "metadata": {},
     "output_type": "execute_result"
    }
   ],
   "source": [
    "type([{1,1,1}])"
   ]
  },
  {
   "cell_type": "code",
   "execution_count": 31,
   "id": "7124dfb1",
   "metadata": {},
   "outputs": [
    {
     "data": {
      "text/plain": [
       "set"
      ]
     },
     "execution_count": 31,
     "metadata": {},
     "output_type": "execute_result"
    }
   ],
   "source": [
    "type({1,1,1})"
   ]
  },
  {
   "cell_type": "code",
   "execution_count": null,
   "id": "d3fad40f",
   "metadata": {},
   "outputs": [],
   "source": []
  },
  {
   "cell_type": "code",
   "execution_count": null,
   "id": "65b8e180",
   "metadata": {},
   "outputs": [],
   "source": []
  }
 ],
 "metadata": {
  "kernelspec": {
   "display_name": "Python 3 (ipykernel)",
   "language": "python",
   "name": "python3"
  },
  "language_info": {
   "codemirror_mode": {
    "name": "ipython",
    "version": 3
   },
   "file_extension": ".py",
   "mimetype": "text/x-python",
   "name": "python",
   "nbconvert_exporter": "python",
   "pygments_lexer": "ipython3",
   "version": "3.9.12"
  }
 },
 "nbformat": 4,
 "nbformat_minor": 5
}
