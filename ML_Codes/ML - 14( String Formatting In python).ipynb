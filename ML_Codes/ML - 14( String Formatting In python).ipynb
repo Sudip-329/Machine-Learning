{
 "cells": [
  {
   "cell_type": "markdown",
   "id": "c5ee1c63",
   "metadata": {},
   "source": [
    "# String Formatting"
   ]
  },
  {
   "cell_type": "code",
   "execution_count": 2,
   "id": "2f532b4e",
   "metadata": {},
   "outputs": [],
   "source": [
    "def gretting(name):\n",
    "    return \"welcome {} here\".format(name)\n"
   ]
  },
  {
   "cell_type": "code",
   "execution_count": 3,
   "id": "6bc0a398",
   "metadata": {},
   "outputs": [
    {
     "data": {
      "text/plain": [
       "'welcome Sudip here'"
      ]
     },
     "execution_count": 3,
     "metadata": {},
     "output_type": "execute_result"
    }
   ],
   "source": [
    "gretting('Sudip')"
   ]
  },
  {
   "cell_type": "code",
   "execution_count": 4,
   "id": "9dc403c4",
   "metadata": {},
   "outputs": [],
   "source": [
    "def gretting(fname,lname):\n",
    "    return \"My first name is {} and last name is {}\".format(fname,lname)"
   ]
  },
  {
   "cell_type": "code",
   "execution_count": 5,
   "id": "31909acd",
   "metadata": {},
   "outputs": [
    {
     "data": {
      "text/plain": [
       "'My first name is Sudip and last name is Chakrabarty'"
      ]
     },
     "execution_count": 5,
     "metadata": {},
     "output_type": "execute_result"
    }
   ],
   "source": [
    "gretting('Sudip','Chakrabarty')"
   ]
  },
  {
   "cell_type": "code",
   "execution_count": 6,
   "id": "2f34ee83",
   "metadata": {},
   "outputs": [],
   "source": [
    "# parameter ordering\n",
    "def gretting(fname,lname):\n",
    "    return \"My first name is {} and last name is {}\".format(fname,lname)"
   ]
  },
  {
   "cell_type": "code",
   "execution_count": 7,
   "id": "dae27faf",
   "metadata": {},
   "outputs": [
    {
     "data": {
      "text/plain": [
       "'My first name is Chak and last name is SUdip'"
      ]
     },
     "execution_count": 7,
     "metadata": {},
     "output_type": "execute_result"
    }
   ],
   "source": [
    "gretting('Chak','SUdip')"
   ]
  },
  {
   "cell_type": "code",
   "execution_count": 13,
   "id": "15c0bafa",
   "metadata": {},
   "outputs": [],
   "source": [
    "def gretting(fname1,lname1):\n",
    "    return \"My first name is {fname1} and last name is {lname1}\".format(lname1 = lname1,fname1=fname1)"
   ]
  },
  {
   "cell_type": "code",
   "execution_count": 14,
   "id": "d5836d8a",
   "metadata": {},
   "outputs": [
    {
     "data": {
      "text/plain": [
       "'My first name is SUdip and last name is chakrabarty'"
      ]
     },
     "execution_count": 14,
     "metadata": {},
     "output_type": "execute_result"
    }
   ],
   "source": [
    "gretting('SUdip','chakrabarty')"
   ]
  },
  {
   "cell_type": "code",
   "execution_count": 15,
   "id": "71ba262e",
   "metadata": {},
   "outputs": [],
   "source": [
    "# By giving alias name any variable can be defined  or used at any position"
   ]
  }
 ],
 "metadata": {
  "kernelspec": {
   "display_name": "Python 3 (ipykernel)",
   "language": "python",
   "name": "python3"
  },
  "language_info": {
   "codemirror_mode": {
    "name": "ipython",
    "version": 3
   },
   "file_extension": ".py",
   "mimetype": "text/x-python",
   "name": "python",
   "nbconvert_exporter": "python",
   "pygments_lexer": "ipython3",
   "version": "3.10.9"
  }
 },
 "nbformat": 4,
 "nbformat_minor": 5
}
