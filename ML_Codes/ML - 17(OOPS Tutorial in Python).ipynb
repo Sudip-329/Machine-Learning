{
 "cells": [
  {
   "cell_type": "code",
   "execution_count": 1,
   "id": "46a1fa20",
   "metadata": {},
   "outputs": [],
   "source": [
    "class Car:\n",
    "    def __init__(self,window,door,enginetype):\n",
    "        self.windows = window\n",
    "        self.doors=door\n",
    "        self.enginetype=enginetype\n",
    "    \n",
    "    def self_driving(self):\n",
    "        return 'This is a {} car'.format(self.enginetype)"
   ]
  },
  {
   "cell_type": "code",
   "execution_count": 6,
   "id": "845185a1",
   "metadata": {},
   "outputs": [
    {
     "ename": "TypeError",
     "evalue": "Car.__init__() missing 3 required positional arguments: 'window', 'door', and 'enginetype'",
     "output_type": "error",
     "traceback": [
      "\u001b[1;31m---------------------------------------------------------------------------\u001b[0m",
      "\u001b[1;31mTypeError\u001b[0m                                 Traceback (most recent call last)",
      "Cell \u001b[1;32mIn[6], line 1\u001b[0m\n\u001b[1;32m----> 1\u001b[0m car1 \u001b[38;5;241m=\u001b[39mCar()\n",
      "\u001b[1;31mTypeError\u001b[0m: Car.__init__() missing 3 required positional arguments: 'window', 'door', and 'enginetype'"
     ]
    }
   ],
   "source": [
    "car1 =Car()"
   ]
  },
  {
   "cell_type": "code",
   "execution_count": 3,
   "id": "4ad211c5",
   "metadata": {},
   "outputs": [],
   "source": [
    "car1 = Car(4,7,'Disel')\n",
    "car2 = Car(2,1,'Petrol')"
   ]
  },
  {
   "cell_type": "code",
   "execution_count": 4,
   "id": "d66e9b01",
   "metadata": {},
   "outputs": [
    {
     "name": "stdout",
     "output_type": "stream",
     "text": [
      "1\n"
     ]
    }
   ],
   "source": [
    "print(car2.doors)"
   ]
  },
  {
   "cell_type": "code",
   "execution_count": 5,
   "id": "8f33c184",
   "metadata": {},
   "outputs": [
    {
     "name": "stdout",
     "output_type": "stream",
     "text": [
      "4\n"
     ]
    }
   ],
   "source": [
    "print(car1.windows)"
   ]
  },
  {
   "cell_type": "code",
   "execution_count": 42,
   "id": "83277f64",
   "metadata": {},
   "outputs": [
    {
     "data": {
      "text/plain": [
       "'This is a Disel car'"
      ]
     },
     "execution_count": 42,
     "metadata": {},
     "output_type": "execute_result"
    }
   ],
   "source": [
    "car1.self_driving()"
   ]
  },
  {
   "cell_type": "code",
   "execution_count": 26,
   "id": "c60fddd0",
   "metadata": {},
   "outputs": [],
   "source": [
    "car2.windows = 3\n",
    "car2.doors = 5"
   ]
  },
  {
   "cell_type": "code",
   "execution_count": 8,
   "id": "30e1ea6e",
   "metadata": {},
   "outputs": [
    {
     "name": "stdout",
     "output_type": "stream",
     "text": [
      "3\n"
     ]
    }
   ],
   "source": [
    "print(car2.windows)"
   ]
  },
  {
   "cell_type": "code",
   "execution_count": 10,
   "id": "d6e5459e",
   "metadata": {},
   "outputs": [
    {
     "data": {
      "text/plain": [
       "['__class__',\n",
       " '__delattr__',\n",
       " '__dict__',\n",
       " '__dir__',\n",
       " '__doc__',\n",
       " '__eq__',\n",
       " '__format__',\n",
       " '__ge__',\n",
       " '__getattribute__',\n",
       " '__gt__',\n",
       " '__hash__',\n",
       " '__init__',\n",
       " '__init_subclass__',\n",
       " '__le__',\n",
       " '__lt__',\n",
       " '__module__',\n",
       " '__ne__',\n",
       " '__new__',\n",
       " '__reduce__',\n",
       " '__reduce_ex__',\n",
       " '__repr__',\n",
       " '__setattr__',\n",
       " '__sizeof__',\n",
       " '__str__',\n",
       " '__subclasshook__',\n",
       " '__weakref__',\n",
       " 'doors',\n",
       " 'windows']"
      ]
     },
     "execution_count": 10,
     "metadata": {},
     "output_type": "execute_result"
    }
   ],
   "source": [
    "dir(car1)"
   ]
  }
 ],
 "metadata": {
  "kernelspec": {
   "display_name": "Python 3 (ipykernel)",
   "language": "python",
   "name": "python3"
  },
  "language_info": {
   "codemirror_mode": {
    "name": "ipython",
    "version": 3
   },
   "file_extension": ".py",
   "mimetype": "text/x-python",
   "name": "python",
   "nbconvert_exporter": "python",
   "pygments_lexer": "ipython3",
   "version": "3.11.5"
  }
 },
 "nbformat": 4,
 "nbformat_minor": 5
}
