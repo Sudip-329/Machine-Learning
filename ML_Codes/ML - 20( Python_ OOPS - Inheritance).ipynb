{
 "cells": [
  {
   "cell_type": "code",
   "execution_count": 12,
   "id": "f55a83c2",
   "metadata": {},
   "outputs": [],
   "source": [
    "### All the class variables are public\\n\",\n",
    "    ### Car Blueprint\\n\",\n",
    "class Car():\n",
    "    def __init__(self,windows,doors,enginetype):\n",
    "        self.windows=windows\n",
    "        self.doors=doors\n",
    "        self.enginetype=enginetype\n",
    "    def drive(self):\n",
    "        print(\"The Person drives the car.\")\n",
    "        \n",
    "# If use __drive then the method is privet\n",
    "# _windows --protected\n",
    "# __windows --privet"
   ]
  },
  {
   "cell_type": "code",
   "execution_count": 13,
   "id": "0dc38a8d",
   "metadata": {},
   "outputs": [],
   "source": [
    "car = Car(4,5,'disel')"
   ]
  },
  {
   "cell_type": "code",
   "execution_count": 15,
   "id": "c036e0c8",
   "metadata": {},
   "outputs": [
    {
     "data": {
      "text/plain": [
       "4"
      ]
     },
     "execution_count": 15,
     "metadata": {},
     "output_type": "execute_result"
    }
   ],
   "source": [
    "car.windows\n"
   ]
  },
  {
   "cell_type": "code",
   "execution_count": 16,
   "id": "d7dd8e8c",
   "metadata": {},
   "outputs": [
    {
     "data": {
      "text/plain": [
       "['__class__',\n",
       " '__delattr__',\n",
       " '__dict__',\n",
       " '__dir__',\n",
       " '__doc__',\n",
       " '__eq__',\n",
       " '__format__',\n",
       " '__ge__',\n",
       " '__getattribute__',\n",
       " '__gt__',\n",
       " '__hash__',\n",
       " '__init__',\n",
       " '__init_subclass__',\n",
       " '__le__',\n",
       " '__lt__',\n",
       " '__module__',\n",
       " '__ne__',\n",
       " '__new__',\n",
       " '__reduce__',\n",
       " '__reduce_ex__',\n",
       " '__repr__',\n",
       " '__setattr__',\n",
       " '__sizeof__',\n",
       " '__str__',\n",
       " '__subclasshook__',\n",
       " '__weakref__',\n",
       " 'doors',\n",
       " 'drive',\n",
       " 'enginetype',\n",
       " 'windows']"
      ]
     },
     "execution_count": 16,
     "metadata": {},
     "output_type": "execute_result"
    }
   ],
   "source": [
    "dir(car)"
   ]
  },
  {
   "cell_type": "code",
   "execution_count": 17,
   "id": "b391d64e",
   "metadata": {},
   "outputs": [
    {
     "name": "stdout",
     "output_type": "stream",
     "text": [
      "The Person drives the car.\n"
     ]
    }
   ],
   "source": [
    "car.drive()"
   ]
  },
  {
   "cell_type": "code",
   "execution_count": 18,
   "id": "53d2bed9",
   "metadata": {},
   "outputs": [],
   "source": [
    "class Audi(Car):    # Inherited car class\n",
    "    def __init__(self,windows,doors,enginetype,enableai):  #enableai new parameter\n",
    "        super().__init__(windows,doors,enginetype)  # as inheriting need super\n",
    "        self.enableai=enableai\n",
    "    def selfdriving(self):\n",
    "        print(\"Audi supports Self Driving.\")"
   ]
  },
  {
   "cell_type": "code",
   "execution_count": 20,
   "id": "92cf6001",
   "metadata": {},
   "outputs": [],
   "source": [
    "audiQ7 = Audi(5,5,'disel',True)"
   ]
  },
  {
   "cell_type": "code",
   "execution_count": 21,
   "id": "eed1461e",
   "metadata": {},
   "outputs": [
    {
     "data": {
      "text/plain": [
       "5"
      ]
     },
     "execution_count": 21,
     "metadata": {},
     "output_type": "execute_result"
    }
   ],
   "source": [
    "audiQ7.windows"
   ]
  },
  {
   "cell_type": "code",
   "execution_count": 22,
   "id": "e7bdfb32",
   "metadata": {},
   "outputs": [
    {
     "data": {
      "text/plain": [
       "True"
      ]
     },
     "execution_count": 22,
     "metadata": {},
     "output_type": "execute_result"
    }
   ],
   "source": [
    "audiQ7.enableai"
   ]
  }
 ],
 "metadata": {
  "kernelspec": {
   "display_name": "Python 3 (ipykernel)",
   "language": "python",
   "name": "python3"
  },
  "language_info": {
   "codemirror_mode": {
    "name": "ipython",
    "version": 3
   },
   "file_extension": ".py",
   "mimetype": "text/x-python",
   "name": "python",
   "nbconvert_exporter": "python",
   "pygments_lexer": "ipython3",
   "version": "3.10.9"
  }
 },
 "nbformat": 4,
 "nbformat_minor": 5
}
