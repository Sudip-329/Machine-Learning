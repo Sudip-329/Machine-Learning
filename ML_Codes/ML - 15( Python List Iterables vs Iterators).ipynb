{
 "cells": [
  {
   "cell_type": "code",
   "execution_count": 1,
   "id": "3e77347f",
   "metadata": {},
   "outputs": [],
   "source": [
    "# lists are iterable"
   ]
  },
  {
   "cell_type": "code",
   "execution_count": 2,
   "id": "1e29e295",
   "metadata": {},
   "outputs": [
    {
     "name": "stdout",
     "output_type": "stream",
     "text": [
      "1\n",
      "2\n",
      "3\n",
      "4\n",
      "5\n",
      "6\n"
     ]
    }
   ],
   "source": [
    "lst = [1,2,3,4,5,6]\n",
    "for i in lst:\n",
    "    print(i)"
   ]
  },
  {
   "cell_type": "code",
   "execution_count": 4,
   "id": "f45c2ba8",
   "metadata": {},
   "outputs": [
    {
     "data": {
      "text/plain": [
       "<list_iterator at 0x18143e23b20>"
      ]
     },
     "execution_count": 4,
     "metadata": {},
     "output_type": "execute_result"
    }
   ],
   "source": [
    "iter(lst) # Converted the lsit as iterable"
   ]
  },
  {
   "cell_type": "code",
   "execution_count": 7,
   "id": "48a2d275",
   "metadata": {},
   "outputs": [],
   "source": [
    "lst1 = iter(lst)"
   ]
  },
  {
   "cell_type": "code",
   "execution_count": 8,
   "id": "c42b3444",
   "metadata": {},
   "outputs": [
    {
     "data": {
      "text/plain": [
       "1"
      ]
     },
     "execution_count": 8,
     "metadata": {},
     "output_type": "execute_result"
    }
   ],
   "source": [
    "next(lst1) # it will retrive the first element "
   ]
  },
  {
   "cell_type": "code",
   "execution_count": 9,
   "id": "5a3e2862",
   "metadata": {},
   "outputs": [
    {
     "data": {
      "text/plain": [
       "2"
      ]
     },
     "execution_count": 9,
     "metadata": {},
     "output_type": "execute_result"
    }
   ],
   "source": [
    "next(lst1) # 2nd time next 2nd element"
   ]
  },
  {
   "cell_type": "code",
   "execution_count": 15,
   "id": "e074f9ca",
   "metadata": {},
   "outputs": [],
   "source": [
    "# while 7th time executed we dont have any value left!"
   ]
  },
  {
   "cell_type": "code",
   "execution_count": 28,
   "id": "f9a9a9db",
   "metadata": {},
   "outputs": [],
   "source": [
    "lst2 = iter(lst)"
   ]
  },
  {
   "cell_type": "code",
   "execution_count": 29,
   "id": "c02a3612",
   "metadata": {},
   "outputs": [
    {
     "data": {
      "text/plain": [
       "1"
      ]
     },
     "execution_count": 29,
     "metadata": {},
     "output_type": "execute_result"
    }
   ],
   "source": [
    "next(lst2)"
   ]
  },
  {
   "cell_type": "code",
   "execution_count": 30,
   "id": "95b10e83",
   "metadata": {},
   "outputs": [
    {
     "name": "stdout",
     "output_type": "stream",
     "text": [
      "2\n",
      "3\n",
      "4\n",
      "5\n",
      "6\n"
     ]
    }
   ],
   "source": [
    "for i in lst2:\n",
    "    print(i)"
   ]
  },
  {
   "cell_type": "code",
   "execution_count": 32,
   "id": "ff1c4cef",
   "metadata": {},
   "outputs": [],
   "source": [
    " ## WHY?\n",
    "    \n",
    "    # If we iterate through a for loop , millons of data needs millons of memory space.\n",
    "    # to solve this problem we can use iterator"
   ]
  },
  {
   "cell_type": "code",
   "execution_count": null,
   "id": "f0050508",
   "metadata": {},
   "outputs": [],
   "source": [
    "# In for loop when last element comes automatically exceptions\n",
    "  # handled."
   ]
  }
 ],
 "metadata": {
  "kernelspec": {
   "display_name": "Python 3 (ipykernel)",
   "language": "python",
   "name": "python3"
  },
  "language_info": {
   "codemirror_mode": {
    "name": "ipython",
    "version": 3
   },
   "file_extension": ".py",
   "mimetype": "text/x-python",
   "name": "python",
   "nbconvert_exporter": "python",
   "pygments_lexer": "ipython3",
   "version": "3.10.9"
  }
 },
 "nbformat": 4,
 "nbformat_minor": 5
}
