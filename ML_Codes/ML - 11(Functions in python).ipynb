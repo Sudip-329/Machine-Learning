{
 "cells": [
  {
   "cell_type": "markdown",
   "id": "7902f315",
   "metadata": {},
   "source": [
    "# For, if functions"
   ]
  },
  {
   "cell_type": "markdown",
   "id": "868cdd59",
   "metadata": {},
   "source": [
    "Functions in Python. A function is a set of statements that take inputs, do some specific computation and produces output. These functions are called user defined function"
   ]
  },
  {
   "cell_type": "code",
   "execution_count": 3,
   "id": "ffbae09c",
   "metadata": {},
   "outputs": [
    {
     "name": "stdout",
     "output_type": "stream",
     "text": [
      "56 64\n"
     ]
    }
   ],
   "source": [
    " ## If conditions and for loops\n",
    "    \n",
    "lst = [1,2,3,4,5,6,7,8,9,10,11,12,13,14,15]\n",
    "\n",
    "even_sum = 0\n",
    "odd_sum = 0\n",
    "for i in lst:\n",
    "    if i%2==0:\n",
    "        even_sum = even_sum+i\n",
    "    else:\n",
    "        odd_sum = odd_sum+i\n",
    "print(even_sum,odd_sum)\n",
    "    "
   ]
  },
  {
   "cell_type": "code",
   "execution_count": 4,
   "id": "6d09db5c",
   "metadata": {},
   "outputs": [
    {
     "data": {
      "text/plain": [
       "'\\nSyntax\\ndef funcname(parameter1,parameter2,...):\\n    function body\\n'"
      ]
     },
     "execution_count": 4,
     "metadata": {},
     "output_type": "execute_result"
    }
   ],
   "source": [
    "'''\n",
    "Syntax\n",
    "def funcname(parameter1,parameter2,...):\n",
    "    function body\n",
    "'''"
   ]
  },
  {
   "cell_type": "code",
   "execution_count": 6,
   "id": "dda4439f",
   "metadata": {},
   "outputs": [],
   "source": [
    "def add(num1,num2):\n",
    "    return num1+num2\n",
    "    "
   ]
  },
  {
   "cell_type": "code",
   "execution_count": 7,
   "id": "025f13af",
   "metadata": {},
   "outputs": [
    {
     "data": {
      "text/plain": [
       "12"
      ]
     },
     "execution_count": 7,
     "metadata": {},
     "output_type": "execute_result"
    }
   ],
   "source": [
    "add(5,7)"
   ]
  },
  {
   "cell_type": "code",
   "execution_count": 8,
   "id": "8b075b12",
   "metadata": {},
   "outputs": [
    {
     "data": {
      "text/plain": [
       "11.4"
      ]
     },
     "execution_count": 8,
     "metadata": {},
     "output_type": "execute_result"
    }
   ],
   "source": [
    "add(7.8,3.6)"
   ]
  },
  {
   "cell_type": "code",
   "execution_count": 9,
   "id": "723c7d23",
   "metadata": {},
   "outputs": [
    {
     "data": {
      "text/plain": [
       "3.8"
      ]
     },
     "execution_count": 9,
     "metadata": {},
     "output_type": "execute_result"
    }
   ],
   "source": [
    "add(.8,3)"
   ]
  },
  {
   "cell_type": "code",
   "execution_count": 10,
   "id": "56fc1566",
   "metadata": {},
   "outputs": [],
   "source": [
    "def add_lst(lst):\n",
    "    sum1 = 0\n",
    "    for i in lst:\n",
    "        print(i)\n",
    "        sum1 = sum1+int(i)\n",
    "    return sum1"
   ]
  },
  {
   "cell_type": "code",
   "execution_count": 12,
   "id": "ff9be4c8",
   "metadata": {},
   "outputs": [
    {
     "name": "stdout",
     "output_type": "stream",
     "text": [
      "2\n",
      "4\n",
      "6\n",
      "8\n",
      "10\n"
     ]
    },
    {
     "data": {
      "text/plain": [
       "30"
      ]
     },
     "execution_count": 12,
     "metadata": {},
     "output_type": "execute_result"
    }
   ],
   "source": [
    "add_lst([2,4,6,8,10])"
   ]
  },
  {
   "cell_type": "code",
   "execution_count": 21,
   "id": "683ad2b1",
   "metadata": {},
   "outputs": [
    {
     "name": "stdout",
     "output_type": "stream",
     "text": [
      "Enter the list : 1234567\n"
     ]
    }
   ],
   "source": [
    "input_num=list(input(\"Enter the list : \"))"
   ]
  },
  {
   "cell_type": "code",
   "execution_count": 23,
   "id": "c4da3f9e",
   "metadata": {},
   "outputs": [
    {
     "data": {
      "text/plain": [
       "['1', '2', '3', '4', '5', '6', '7']"
      ]
     },
     "execution_count": 23,
     "metadata": {},
     "output_type": "execute_result"
    }
   ],
   "source": [
    "input_num  # give all the values together"
   ]
  },
  {
   "cell_type": "code",
   "execution_count": 22,
   "id": "a857b3bc",
   "metadata": {},
   "outputs": [
    {
     "name": "stdout",
     "output_type": "stream",
     "text": [
      "1\n",
      "2\n",
      "3\n",
      "4\n",
      "5\n",
      "6\n",
      "7\n"
     ]
    },
    {
     "data": {
      "text/plain": [
       "28"
      ]
     },
     "execution_count": 22,
     "metadata": {},
     "output_type": "execute_result"
    }
   ],
   "source": [
    "add_lst(input_num)"
   ]
  },
  {
   "cell_type": "code",
   "execution_count": 24,
   "id": "9eed3864",
   "metadata": {},
   "outputs": [],
   "source": [
    "def print_name():\n",
    "    print('Hello Sudip Chakrabarty')\n"
   ]
  },
  {
   "cell_type": "code",
   "execution_count": 25,
   "id": "a2024cbf",
   "metadata": {},
   "outputs": [
    {
     "name": "stdout",
     "output_type": "stream",
     "text": [
      "Hello Sudip Chakrabarty\n"
     ]
    }
   ],
   "source": [
    "print_name()"
   ]
  },
  {
   "cell_type": "code",
   "execution_count": 26,
   "id": "55c17769",
   "metadata": {},
   "outputs": [],
   "source": [
    "def print_name(name):\n",
    "    return name\n",
    " "
   ]
  },
  {
   "cell_type": "code",
   "execution_count": 27,
   "id": "3cf3b5b5",
   "metadata": {},
   "outputs": [
    {
     "name": "stdout",
     "output_type": "stream",
     "text": [
      "Sudip\n"
     ]
    }
   ],
   "source": [
    "print(print_name('Sudip'))"
   ]
  },
  {
   "cell_type": "code",
   "execution_count": 31,
   "id": "6bbc9e7d",
   "metadata": {},
   "outputs": [],
   "source": [
    "def print_name():\n",
    "    return \"Hello Sudip\""
   ]
  },
  {
   "cell_type": "code",
   "execution_count": 32,
   "id": "d3f1a91e",
   "metadata": {},
   "outputs": [
    {
     "data": {
      "text/plain": [
       "'Hello Sudip'"
      ]
     },
     "execution_count": 32,
     "metadata": {},
     "output_type": "execute_result"
    }
   ],
   "source": [
    "print_name()"
   ]
  },
  {
   "cell_type": "code",
   "execution_count": 37,
   "id": "f8bfaf4e",
   "metadata": {},
   "outputs": [],
   "source": [
    "def hello(name,age=20):\n",
    "    print(\"My name is {} and age is {}\".format(name,age))\n",
    "          \n",
    "# Keyword argument is age=20 !!"
   ]
  },
  {
   "cell_type": "code",
   "execution_count": 38,
   "id": "d95b6f12",
   "metadata": {},
   "outputs": [
    {
     "name": "stdout",
     "output_type": "stream",
     "text": [
      "My name is Sudip and age is 20\n"
     ]
    }
   ],
   "source": [
    "hello('Sudip')"
   ]
  },
  {
   "cell_type": "code",
   "execution_count": 39,
   "id": "78bf5dec",
   "metadata": {},
   "outputs": [
    {
     "name": "stdout",
     "output_type": "stream",
     "text": [
      "My name is Sudip and age is 23\n"
     ]
    }
   ],
   "source": [
    "hello('Sudip',23)"
   ]
  },
  {
   "cell_type": "code",
   "execution_count": 41,
   "id": "a245d385",
   "metadata": {},
   "outputs": [],
   "source": [
    "def hello(*args,**kwargs): # 1st one positional argument\n",
    "    print(args)            # 2nd one keyward argument\n",
    "    print(kwargs)"
   ]
  },
  {
   "cell_type": "code",
   "execution_count": 43,
   "id": "d61140be",
   "metadata": {},
   "outputs": [
    {
     "name": "stdout",
     "output_type": "stream",
     "text": [
      "('Sudip', 'Chakrabarty', 'dip')\n",
      "{'age': 23, 'dob': 23}\n"
     ]
    }
   ],
   "source": [
    "hello('Sudip','Chakrabarty','dip',age=23,dob=23)"
   ]
  },
  {
   "cell_type": "code",
   "execution_count": 44,
   "id": "9cfea3ec",
   "metadata": {},
   "outputs": [],
   "source": [
    "# but if given lsit and dictionary there will be a problem which need to solved"
   ]
  },
  {
   "cell_type": "code",
   "execution_count": 45,
   "id": "e5af5f87",
   "metadata": {},
   "outputs": [],
   "source": [
    "lst = ['Sudip','Chakrabarty','dip']\n",
    "dic_args = {'age':29,'dob':1990}"
   ]
  },
  {
   "cell_type": "code",
   "execution_count": 46,
   "id": "baaa95d1",
   "metadata": {},
   "outputs": [
    {
     "name": "stdout",
     "output_type": "stream",
     "text": [
      "(['Sudip', 'Chakrabarty', 'dip'], {'age': 29, 'dob': 1990})\n",
      "{}\n"
     ]
    }
   ],
   "source": [
    "hello(lst,dic_args) # all values are taken as positional argument\n",
    "# need to tell specifically which is keyward argument"
   ]
  },
  {
   "cell_type": "code",
   "execution_count": 47,
   "id": "0181c600",
   "metadata": {},
   "outputs": [
    {
     "name": "stdout",
     "output_type": "stream",
     "text": [
      "('Sudip', 'Chakrabarty', 'dip')\n",
      "{'age': 29, 'dob': 1990}\n"
     ]
    }
   ],
   "source": [
    "hello(*lst,**dic_args)"
   ]
  },
  {
   "cell_type": "code",
   "execution_count": null,
   "id": "01316f3f",
   "metadata": {},
   "outputs": [],
   "source": [
    "# now they are different"
   ]
  }
 ],
 "metadata": {
  "kernelspec": {
   "display_name": "Python 3 (ipykernel)",
   "language": "python",
   "name": "python3"
  },
  "language_info": {
   "codemirror_mode": {
    "name": "ipython",
    "version": 3
   },
   "file_extension": ".py",
   "mimetype": "text/x-python",
   "name": "python",
   "nbconvert_exporter": "python",
   "pygments_lexer": "ipython3",
   "version": "3.10.9"
  }
 },
 "nbformat": 4,
 "nbformat_minor": 5
}
