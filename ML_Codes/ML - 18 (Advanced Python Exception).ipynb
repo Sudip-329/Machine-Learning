{
 "cells": [
  {
   "cell_type": "markdown",
   "id": "92bcfdf6",
   "metadata": {},
   "source": [
    "# Exception Handling "
   ]
  },
  {
   "cell_type": "code",
   "execution_count": 1,
   "id": "0f411126",
   "metadata": {},
   "outputs": [
    {
     "ename": "NameError",
     "evalue": "name 'b' is not defined",
     "output_type": "error",
     "traceback": [
      "\u001b[1;31m---------------------------------------------------------------------------\u001b[0m",
      "\u001b[1;31mNameError\u001b[0m                                 Traceback (most recent call last)",
      "Cell \u001b[1;32mIn[1], line 1\u001b[0m\n\u001b[1;32m----> 1\u001b[0m a \u001b[38;5;241m=\u001b[39m \u001b[43mb\u001b[49m\n",
      "\u001b[1;31mNameError\u001b[0m: name 'b' is not defined"
     ]
    }
   ],
   "source": [
    "a = b"
   ]
  },
  {
   "cell_type": "code",
   "execution_count": null,
   "id": "ba12342e",
   "metadata": {},
   "outputs": [],
   "source": [
    "try:\n",
    "    a = b\n",
    "except NameError as ex1:\n",
    "    print(\"The user have not defined the variable.\")\n",
    "except Exception as ex:\n",
    "    print(ex)"
   ]
  },
  {
   "cell_type": "code",
   "execution_count": null,
   "id": "bbceff13",
   "metadata": {},
   "outputs": [],
   "source": [
    "try:\n",
    "    a= 1\n",
    "    b=\"s\"\n",
    "    c=a+b\n",
    "except NameError as ex1:\n",
    "    print(\"The user have not defined the variable.\")\n",
    "except TypeError:\n",
    "    print('Try to make data type simillar.')\n",
    "except Exception as ex:\n",
    "    print(ex)"
   ]
  },
  {
   "cell_type": "code",
   "execution_count": null,
   "id": "04d58876",
   "metadata": {},
   "outputs": [],
   "source": [
    "a=1\n",
    "b='s'\n",
    "c=a+b"
   ]
  },
  {
   "cell_type": "code",
   "execution_count": null,
   "id": "1df7e98b",
   "metadata": {},
   "outputs": [],
   "source": [
    "try:\n",
    "    a = int(input(\"Enter number 1 : \"))\n",
    "    b = int(input(\"enter number 2 : \"))\n",
    "    c = a+b\n",
    "    d = a*b\n",
    "    e = a/b\n",
    "    print(c,'\\n',d,'\\n',e)\n",
    "except NameError as ex1:\n",
    "    print(\"The user have not defined the variable.\")\n",
    "except ZeroDivisionError:\n",
    "    print(\"Please provide values greater than zero.\")\n",
    "except TypeError:\n",
    "    print('Try to make data type simillar.')\n",
    "except Exception as ex:\n",
    "    print(ex)"
   ]
  },
  {
   "cell_type": "code",
   "execution_count": null,
   "id": "3484ba9a",
   "metadata": {},
   "outputs": [],
   "source": [
    "12/0"
   ]
  },
  {
   "cell_type": "code",
   "execution_count": null,
   "id": "194be6b5",
   "metadata": {},
   "outputs": [],
   "source": [
    " # Here while getting an exception the program terminates\n",
    "    # to get this output print(c,'\\n',d,'\\n',e) finally block can be used"
   ]
  },
  {
   "cell_type": "code",
   "execution_count": null,
   "id": "6ae2d8b3",
   "metadata": {},
   "outputs": [],
   "source": [
    "try:\n",
    "    a = int(input(\"Enter number 1 : \"))\n",
    "    b = int(input(\"enter number 2 : \"))\n",
    "    c = a+b\n",
    "    d = a*b\n",
    "    e = a/b\n",
    "except NameError as ex1:\n",
    "    print(\"The user have not defined the variable.\")\n",
    "except ZeroDivisionError:\n",
    "    print(\"Please provide values greater than zero.\")\n",
    "except TypeError:\n",
    "    print('Try to make data type simillar.')\n",
    "except Exception as ex:\n",
    "    print(ex)\n",
    "else:\n",
    "    print(c,'\\n',d,'\\n',e)"
   ]
  },
  {
   "cell_type": "code",
   "execution_count": null,
   "id": "c8ae868a",
   "metadata": {},
   "outputs": [],
   "source": [
    "try:\n",
    "    a = int(input(\"Enter number 1 : \"))\n",
    "    b = int(input(\"enter number 2 : \"))\n",
    "    c = a+b\n",
    "    d = a*b\n",
    "    e = a/b\n",
    "except NameError as ex1:\n",
    "    print(\"The user have not defined the variable.\")\n",
    "except ZeroDivisionError:\n",
    "    print(\"Please provide values greater than zero.\")\n",
    "except TypeError:\n",
    "    print('Try to make data type simillar.')\n",
    "except Exception as ex:\n",
    "    print(ex)\n",
    "else:\n",
    "    print(c,'\\n',d,'\\n',e)\n",
    "finally:\n",
    "    print(\"The execution is done.\")"
   ]
  },
  {
   "cell_type": "markdown",
   "id": "74762fc1",
   "metadata": {},
   "source": [
    "# Custom Exception"
   ]
  },
  {
   "cell_type": "code",
   "execution_count": 3,
   "id": "d9588af7",
   "metadata": {},
   "outputs": [],
   "source": [
    "class Error(Exception):\n",
    "    pass\n",
    "class dobException(Error):\n",
    "    pass\n",
    "class customgeneric(Error):\n",
    "    pass"
   ]
  },
  {
   "cell_type": "code",
   "execution_count": 10,
   "id": "ed0af38d",
   "metadata": {},
   "outputs": [
    {
     "name": "stdout",
     "output_type": "stream",
     "text": [
      "Enter the year of Birth2000\n",
      "Valid age.\n"
     ]
    }
   ],
   "source": [
    "year= int(input(\"Enter the year of Birth\"))\n",
    "age = 2023-year\n",
    "try:\n",
    "    if age<=30 and age>=20:\n",
    "        print(\"Valid age.\")\n",
    "    else:\n",
    "        raise dobException\n",
    "except dobException:\n",
    "    print(\"The year age is not valid.\")\n",
    "        "
   ]
  },
  {
   "cell_type": "code",
   "execution_count": null,
   "id": "74daf930",
   "metadata": {},
   "outputs": [],
   "source": []
  },
  {
   "cell_type": "code",
   "execution_count": 9,
   "id": "1d0f4402",
   "metadata": {},
   "outputs": [
    {
     "name": "stdout",
     "output_type": "stream",
     "text": [
      "Enter the year of Birth 2000\n",
      "The age is valid. You can apply for the exams\n"
     ]
    }
   ],
   "source": [
    "class Error(Exception):\n",
    "    pass\n",
    "\n",
    "class dobException(Error):\n",
    "    pass\n",
    "\n",
    "class customgeneric(Error):\n",
    "    pass\n",
    "year=int(input(\"Enter the year of Birth \"))\n",
    "age=2021-year\n",
    "try:\n",
    "    if age<=30 and age>20:\n",
    "        print(\"The age is valid. You can apply for the exams\")\n",
    "    else:\n",
    "        raise dobException\n",
    "except dobException:\n",
    "    print('The age is not within the range. You cannot apply for')"
   ]
  }
 ],
 "metadata": {
  "kernelspec": {
   "display_name": "Python 3 (ipykernel)",
   "language": "python",
   "name": "python3"
  },
  "language_info": {
   "codemirror_mode": {
    "name": "ipython",
    "version": 3
   },
   "file_extension": ".py",
   "mimetype": "text/x-python",
   "name": "python",
   "nbconvert_exporter": "python",
   "pygments_lexer": "ipython3",
   "version": "3.10.9"
  }
 },
 "nbformat": 4,
 "nbformat_minor": 5
}
