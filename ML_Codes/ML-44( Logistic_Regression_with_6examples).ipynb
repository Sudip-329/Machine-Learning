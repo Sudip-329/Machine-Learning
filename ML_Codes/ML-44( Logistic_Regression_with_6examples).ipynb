{
 "cells": [
  {
   "cell_type": "markdown",
   "id": "9c9ef5a1",
   "metadata": {},
   "source": [
    "# Logistic Vs. Linear Regression"
   ]
  },
  {
   "cell_type": "markdown",
   "id": "785a7f08",
   "metadata": {},
   "source": [
    "## In linear regression, the outcome (dependent variable) is continuous. It can have any one of an infinite number of possible values.\n",
    "\n",
    "## • In logistic regression, the outcome (dependentvariable) has only a limited number of possiblevalues. Logistic regression is used when there rsponse variable is categorical in nature."
   ]
  },
  {
   "cell_type": "code",
   "execution_count": 1,
   "id": "b2908511",
   "metadata": {},
   "outputs": [],
   "source": [
    "# to understand 9a-Introduction-to-Logistic-Regression_pptx_lyst3829.pdf"
   ]
  },
  {
   "cell_type": "code",
   "execution_count": 2,
   "id": "b0d103d4",
   "metadata": {},
   "outputs": [],
   "source": [
    "# logistic regression : prdicted y lies in range of 0 and 1\n",
    "# Linear regression : predicted y exceeds in range of 0 and 1"
   ]
  },
  {
   "cell_type": "markdown",
   "id": "2ca23d4b",
   "metadata": {},
   "source": [
    "# Ex - 1"
   ]
  },
  {
   "cell_type": "code",
   "execution_count": 3,
   "id": "bcb6eadb",
   "metadata": {},
   "outputs": [],
   "source": [
    "import pandas as pd\n",
    "from sklearn.model_selection import train_test_split\n",
    "from sklearn.linear_model import LogisticRegression\n",
    "from sklearn import metrics\n",
    "import seaborn as sn"
   ]
  },
  {
   "cell_type": "code",
   "execution_count": 4,
   "id": "174ad807",
   "metadata": {},
   "outputs": [
    {
     "data": {
      "text/html": [
       "<div>\n",
       "<style scoped>\n",
       "    .dataframe tbody tr th:only-of-type {\n",
       "        vertical-align: middle;\n",
       "    }\n",
       "\n",
       "    .dataframe tbody tr th {\n",
       "        vertical-align: top;\n",
       "    }\n",
       "\n",
       "    .dataframe thead th {\n",
       "        text-align: right;\n",
       "    }\n",
       "</style>\n",
       "<table border=\"1\" class=\"dataframe\">\n",
       "  <thead>\n",
       "    <tr style=\"text-align: right;\">\n",
       "      <th></th>\n",
       "      <th>gmat</th>\n",
       "      <th>gpa</th>\n",
       "      <th>work_experience</th>\n",
       "      <th>admitted</th>\n",
       "    </tr>\n",
       "  </thead>\n",
       "  <tbody>\n",
       "    <tr>\n",
       "      <th>0</th>\n",
       "      <td>780</td>\n",
       "      <td>4.0</td>\n",
       "      <td>3</td>\n",
       "      <td>1</td>\n",
       "    </tr>\n",
       "    <tr>\n",
       "      <th>1</th>\n",
       "      <td>750</td>\n",
       "      <td>3.9</td>\n",
       "      <td>4</td>\n",
       "      <td>1</td>\n",
       "    </tr>\n",
       "    <tr>\n",
       "      <th>2</th>\n",
       "      <td>690</td>\n",
       "      <td>3.3</td>\n",
       "      <td>3</td>\n",
       "      <td>0</td>\n",
       "    </tr>\n",
       "    <tr>\n",
       "      <th>3</th>\n",
       "      <td>710</td>\n",
       "      <td>3.7</td>\n",
       "      <td>5</td>\n",
       "      <td>1</td>\n",
       "    </tr>\n",
       "    <tr>\n",
       "      <th>4</th>\n",
       "      <td>680</td>\n",
       "      <td>3.9</td>\n",
       "      <td>4</td>\n",
       "      <td>0</td>\n",
       "    </tr>\n",
       "  </tbody>\n",
       "</table>\n",
       "</div>"
      ],
      "text/plain": [
       "   gmat  gpa  work_experience  admitted\n",
       "0   780  4.0                3         1\n",
       "1   750  3.9                4         1\n",
       "2   690  3.3                3         0\n",
       "3   710  3.7                5         1\n",
       "4   680  3.9                4         0"
      ]
     },
     "execution_count": 4,
     "metadata": {},
     "output_type": "execute_result"
    }
   ],
   "source": [
    "import pandas as pd\n",
    "candidates = {'gmat': [780,750,690,710,680,730,690,720,740,690,610,690,710,680,770,610,580,650,540,590,620,600,550,550,570,670,660,580,650,660,640,620,660,660,680,650,670,580,590,690],\n",
    "              'gpa': [4,3.9,3.3,3.7,3.9,3.7,2.3,3.3,3.3,1.7,2.7,3.7,3.7,3.3,3.3,3,2.7,3.7,2.7,2.3,3.3,2,2.3,2.7,3,3.3,3.7,2.3,3.7,3.3,3,2.7,4,3.3,3.3,2.3,2.7,3.3,1.7,3.7],\n",
    "              'work_experience': [3,4,3,5,4,6,1,4,5,1,3,5,6,4,3,1,4,6,2,3,2,1,4,1,2,6,4,2,6,5,1,2,4,6,5,1,2,1,4,5],\n",
    "              'admitted': [1,1,0,1,0,1,0,1,1,0,0,1,1,0,1,0,0,1,0,0,1,0,0,0,0,1,1,0,1,1,0,0,1,1,1,0,0,0,0,1]\n",
    "              }\n",
    "df = pd.DataFrame(candidates,columns= ['gmat', 'gpa','work_experience','admitted'])\n",
    "df.head()"
   ]
  },
  {
   "cell_type": "code",
   "execution_count": 5,
   "id": "de6a214b",
   "metadata": {},
   "outputs": [],
   "source": [
    "X = df[['gmat', 'gpa','work_experience']]\n",
    "y = df['admitted']"
   ]
  },
  {
   "cell_type": "code",
   "execution_count": 6,
   "id": "455e75e1",
   "metadata": {},
   "outputs": [],
   "source": [
    "X_train,X_test,y_train,y_test = train_test_split(X,y,test_size=0.25,random_state=0)\n",
    "# Train will be done on 75% data and 25% data will be used for test"
   ]
  },
  {
   "cell_type": "code",
   "execution_count": 7,
   "id": "5e4c2dd7",
   "metadata": {},
   "outputs": [],
   "source": [
    "logistic_regression = LogisticRegression()"
   ]
  },
  {
   "cell_type": "code",
   "execution_count": 8,
   "id": "9b4346a3",
   "metadata": {},
   "outputs": [
    {
     "data": {
      "text/html": [
       "<style>#sk-container-id-1 {color: black;background-color: white;}#sk-container-id-1 pre{padding: 0;}#sk-container-id-1 div.sk-toggleable {background-color: white;}#sk-container-id-1 label.sk-toggleable__label {cursor: pointer;display: block;width: 100%;margin-bottom: 0;padding: 0.3em;box-sizing: border-box;text-align: center;}#sk-container-id-1 label.sk-toggleable__label-arrow:before {content: \"▸\";float: left;margin-right: 0.25em;color: #696969;}#sk-container-id-1 label.sk-toggleable__label-arrow:hover:before {color: black;}#sk-container-id-1 div.sk-estimator:hover label.sk-toggleable__label-arrow:before {color: black;}#sk-container-id-1 div.sk-toggleable__content {max-height: 0;max-width: 0;overflow: hidden;text-align: left;background-color: #f0f8ff;}#sk-container-id-1 div.sk-toggleable__content pre {margin: 0.2em;color: black;border-radius: 0.25em;background-color: #f0f8ff;}#sk-container-id-1 input.sk-toggleable__control:checked~div.sk-toggleable__content {max-height: 200px;max-width: 100%;overflow: auto;}#sk-container-id-1 input.sk-toggleable__control:checked~label.sk-toggleable__label-arrow:before {content: \"▾\";}#sk-container-id-1 div.sk-estimator input.sk-toggleable__control:checked~label.sk-toggleable__label {background-color: #d4ebff;}#sk-container-id-1 div.sk-label input.sk-toggleable__control:checked~label.sk-toggleable__label {background-color: #d4ebff;}#sk-container-id-1 input.sk-hidden--visually {border: 0;clip: rect(1px 1px 1px 1px);clip: rect(1px, 1px, 1px, 1px);height: 1px;margin: -1px;overflow: hidden;padding: 0;position: absolute;width: 1px;}#sk-container-id-1 div.sk-estimator {font-family: monospace;background-color: #f0f8ff;border: 1px dotted black;border-radius: 0.25em;box-sizing: border-box;margin-bottom: 0.5em;}#sk-container-id-1 div.sk-estimator:hover {background-color: #d4ebff;}#sk-container-id-1 div.sk-parallel-item::after {content: \"\";width: 100%;border-bottom: 1px solid gray;flex-grow: 1;}#sk-container-id-1 div.sk-label:hover label.sk-toggleable__label {background-color: #d4ebff;}#sk-container-id-1 div.sk-serial::before {content: \"\";position: absolute;border-left: 1px solid gray;box-sizing: border-box;top: 0;bottom: 0;left: 50%;z-index: 0;}#sk-container-id-1 div.sk-serial {display: flex;flex-direction: column;align-items: center;background-color: white;padding-right: 0.2em;padding-left: 0.2em;position: relative;}#sk-container-id-1 div.sk-item {position: relative;z-index: 1;}#sk-container-id-1 div.sk-parallel {display: flex;align-items: stretch;justify-content: center;background-color: white;position: relative;}#sk-container-id-1 div.sk-item::before, #sk-container-id-1 div.sk-parallel-item::before {content: \"\";position: absolute;border-left: 1px solid gray;box-sizing: border-box;top: 0;bottom: 0;left: 50%;z-index: -1;}#sk-container-id-1 div.sk-parallel-item {display: flex;flex-direction: column;z-index: 1;position: relative;background-color: white;}#sk-container-id-1 div.sk-parallel-item:first-child::after {align-self: flex-end;width: 50%;}#sk-container-id-1 div.sk-parallel-item:last-child::after {align-self: flex-start;width: 50%;}#sk-container-id-1 div.sk-parallel-item:only-child::after {width: 0;}#sk-container-id-1 div.sk-dashed-wrapped {border: 1px dashed gray;margin: 0 0.4em 0.5em 0.4em;box-sizing: border-box;padding-bottom: 0.4em;background-color: white;}#sk-container-id-1 div.sk-label label {font-family: monospace;font-weight: bold;display: inline-block;line-height: 1.2em;}#sk-container-id-1 div.sk-label-container {text-align: center;}#sk-container-id-1 div.sk-container {/* jupyter's `normalize.less` sets `[hidden] { display: none; }` but bootstrap.min.css set `[hidden] { display: none !important; }` so we also need the `!important` here to be able to override the default hidden behavior on the sphinx rendered scikit-learn.org. See: https://github.com/scikit-learn/scikit-learn/issues/21755 */display: inline-block !important;position: relative;}#sk-container-id-1 div.sk-text-repr-fallback {display: none;}</style><div id=\"sk-container-id-1\" class=\"sk-top-container\"><div class=\"sk-text-repr-fallback\"><pre>LogisticRegression()</pre><b>In a Jupyter environment, please rerun this cell to show the HTML representation or trust the notebook. <br />On GitHub, the HTML representation is unable to render, please try loading this page with nbviewer.org.</b></div><div class=\"sk-container\" hidden><div class=\"sk-item\"><div class=\"sk-estimator sk-toggleable\"><input class=\"sk-toggleable__control sk-hidden--visually\" id=\"sk-estimator-id-1\" type=\"checkbox\" checked><label for=\"sk-estimator-id-1\" class=\"sk-toggleable__label sk-toggleable__label-arrow\">LogisticRegression</label><div class=\"sk-toggleable__content\"><pre>LogisticRegression()</pre></div></div></div></div></div>"
      ],
      "text/plain": [
       "LogisticRegression()"
      ]
     },
     "execution_count": 8,
     "metadata": {},
     "output_type": "execute_result"
    }
   ],
   "source": [
    "logistic_regression.fit(X_train, y_train)"
   ]
  },
  {
   "cell_type": "code",
   "execution_count": 9,
   "id": "be625ab6",
   "metadata": {},
   "outputs": [],
   "source": [
    "y_pred=logistic_regression.predict(X_test)"
   ]
  },
  {
   "cell_type": "code",
   "execution_count": 10,
   "id": "099ae30f",
   "metadata": {},
   "outputs": [
    {
     "data": {
      "text/plain": [
       "array([0, 0, 1, 1, 0, 0, 1, 1, 0, 1], dtype=int64)"
      ]
     },
     "execution_count": 10,
     "metadata": {},
     "output_type": "execute_result"
    }
   ],
   "source": [
    "y_pred"
   ]
  },
  {
   "cell_type": "code",
   "execution_count": 11,
   "id": "b25f47d2",
   "metadata": {},
   "outputs": [
    {
     "data": {
      "text/plain": [
       "<Axes: xlabel='Predicted', ylabel='Actual'>"
      ]
     },
     "execution_count": 11,
     "metadata": {},
     "output_type": "execute_result"
    },
    {
     "data": {
      "image/png": "[encoded data removed]",
      "text/plain": [
       "<Figure size 640x480 with 2 Axes>"
      ]
     },
     "metadata": {},
     "output_type": "display_data"
    }
   ],
   "source": [
    "confusion_matrix = pd.crosstab(y_test, y_pred, rownames=['Actual'], colnames=['Predicted'])\n",
    "sn.heatmap(confusion_matrix, annot=True)"
   ]
  },
  {
   "cell_type": "code",
   "execution_count": 12,
   "id": "ee66df14",
   "metadata": {},
   "outputs": [
    {
     "name": "stdout",
     "output_type": "stream",
     "text": [
      "Accuracy:  0.8\n"
     ]
    }
   ],
   "source": [
    "print('Accuracy: ',metrics.accuracy_score(y_test, y_pred))"
   ]
  },
  {
   "cell_type": "code",
   "execution_count": 13,
   "id": "b9b4dcd2",
   "metadata": {},
   "outputs": [],
   "source": [
    "## Out of 10 result 2 result are faulty that is why the ans is 0.8"
   ]
  },
  {
   "cell_type": "markdown",
   "id": "907dc6c8",
   "metadata": {},
   "source": [
    "# Ex - 2"
   ]
  },
  {
   "cell_type": "code",
   "execution_count": 14,
   "id": "cef77895",
   "metadata": {},
   "outputs": [],
   "source": [
    "#Logistic Regression\n",
    "\n",
    "# Importing the libraries\n",
    "import numpy as np\n",
    "import matplotlib.pyplot as plt\n",
    "import pandas as pd"
   ]
  },
  {
   "cell_type": "code",
   "execution_count": 15,
   "id": "df453229",
   "metadata": {},
   "outputs": [
    {
     "data": {
      "text/plain": [
       "(array([[1.90e+01, 1.90e+04],\n",
       "        [3.50e+01, 2.00e+04],\n",
       "        [2.60e+01, 4.30e+04],\n",
       "        [2.70e+01, 5.70e+04],\n",
       "        [1.90e+01, 7.60e+04],\n",
       "        [2.70e+01, 5.80e+04],\n",
       "        [2.70e+01, 8.40e+04],\n",
       "        [3.20e+01, 1.50e+05],\n",
       "        [2.50e+01, 3.30e+04],\n",
       "        [3.50e+01, 6.50e+04],\n",
       "        [2.60e+01, 8.00e+04],\n",
       "        [2.60e+01, 5.20e+04],\n",
       "        [2.00e+01, 8.60e+04],\n",
       "        [3.20e+01, 1.80e+04],\n",
       "        [1.80e+01, 8.20e+04],\n",
       "        [2.90e+01, 8.00e+04],\n",
       "        [4.70e+01, 2.50e+04],\n",
       "        [4.50e+01, 2.60e+04],\n",
       "        [4.60e+01, 2.80e+04],\n",
       "        [4.80e+01, 2.90e+04],\n",
       "        [4.50e+01, 2.20e+04],\n",
       "        [4.70e+01, 4.90e+04],\n",
       "        [4.80e+01, 4.10e+04],\n",
       "        [4.50e+01, 2.20e+04],\n",
       "        [4.60e+01, 2.30e+04],\n",
       "        [4.70e+01, 2.00e+04],\n",
       "        [4.90e+01, 2.80e+04],\n",
       "        [4.70e+01, 3.00e+04],\n",
       "        [2.90e+01, 4.30e+04],\n",
       "        [3.10e+01, 1.80e+04],\n",
       "        [3.10e+01, 7.40e+04],\n",
       "        [2.70e+01, 1.37e+05],\n",
       "        [2.10e+01, 1.60e+04],\n",
       "        [2.80e+01, 4.40e+04],\n",
       "        [2.70e+01, 9.00e+04],\n",
       "        [3.50e+01, 2.70e+04],\n",
       "        [3.30e+01, 2.80e+04],\n",
       "        [3.00e+01, 4.90e+04],\n",
       "        [2.60e+01, 7.20e+04],\n",
       "        [2.70e+01, 3.10e+04],\n",
       "        [2.70e+01, 1.70e+04],\n",
       "        [3.30e+01, 5.10e+04],\n",
       "        [3.50e+01, 1.08e+05],\n",
       "        [3.00e+01, 1.50e+04],\n",
       "        [2.80e+01, 8.40e+04],\n",
       "        [2.30e+01, 2.00e+04],\n",
       "        [2.50e+01, 7.90e+04],\n",
       "        [2.70e+01, 5.40e+04],\n",
       "        [3.00e+01, 1.35e+05],\n",
       "        [3.10e+01, 8.90e+04],\n",
       "        [2.40e+01, 3.20e+04],\n",
       "        [1.80e+01, 4.40e+04],\n",
       "        [2.90e+01, 8.30e+04],\n",
       "        [3.50e+01, 2.30e+04],\n",
       "        [2.70e+01, 5.80e+04],\n",
       "        [2.40e+01, 5.50e+04],\n",
       "        [2.30e+01, 4.80e+04],\n",
       "        [2.80e+01, 7.90e+04],\n",
       "        [2.20e+01, 1.80e+04],\n",
       "        [3.20e+01, 1.17e+05],\n",
       "        [2.70e+01, 2.00e+04],\n",
       "        [2.50e+01, 8.70e+04],\n",
       "        [2.30e+01, 6.60e+04],\n",
       "        [3.20e+01, 1.20e+05],\n",
       "        [5.90e+01, 8.30e+04],\n",
       "        [2.40e+01, 5.80e+04],\n",
       "        [2.40e+01, 1.90e+04],\n",
       "        [2.30e+01, 8.20e+04],\n",
       "        [2.20e+01, 6.30e+04],\n",
       "        [3.10e+01, 6.80e+04],\n",
       "        [2.50e+01, 8.00e+04],\n",
       "        [2.40e+01, 2.70e+04],\n",
       "        [2.00e+01, 2.30e+04],\n",
       "        [3.30e+01, 1.13e+05],\n",
       "        [3.20e+01, 1.80e+04],\n",
       "        [3.40e+01, 1.12e+05],\n",
       "        [1.80e+01, 5.20e+04],\n",
       "        [2.20e+01, 2.70e+04],\n",
       "        [2.80e+01, 8.70e+04],\n",
       "        [2.60e+01, 1.70e+04],\n",
       "        [3.00e+01, 8.00e+04],\n",
       "        [3.90e+01, 4.20e+04],\n",
       "        [2.00e+01, 4.90e+04],\n",
       "        [3.50e+01, 8.80e+04],\n",
       "        [3.00e+01, 6.20e+04],\n",
       "        [3.10e+01, 1.18e+05],\n",
       "        [2.40e+01, 5.50e+04],\n",
       "        [2.80e+01, 8.50e+04],\n",
       "        [2.60e+01, 8.10e+04],\n",
       "        [3.50e+01, 5.00e+04],\n",
       "        [2.20e+01, 8.10e+04],\n",
       "        [3.00e+01, 1.16e+05],\n",
       "        [2.60e+01, 1.50e+04],\n",
       "        [2.90e+01, 2.80e+04],\n",
       "        [2.90e+01, 8.30e+04],\n",
       "        [3.50e+01, 4.40e+04],\n",
       "        [3.50e+01, 2.50e+04],\n",
       "        [2.80e+01, 1.23e+05],\n",
       "        [3.50e+01, 7.30e+04],\n",
       "        [2.80e+01, 3.70e+04],\n",
       "        [2.70e+01, 8.80e+04],\n",
       "        [2.80e+01, 5.90e+04],\n",
       "        [3.20e+01, 8.60e+04],\n",
       "        [3.30e+01, 1.49e+05],\n",
       "        [1.90e+01, 2.10e+04],\n",
       "        [2.10e+01, 7.20e+04],\n",
       "        [2.60e+01, 3.50e+04],\n",
       "        [2.70e+01, 8.90e+04],\n",
       "        [2.60e+01, 8.60e+04],\n",
       "        [3.80e+01, 8.00e+04],\n",
       "        [3.90e+01, 7.10e+04],\n",
       "        [3.70e+01, 7.10e+04],\n",
       "        [3.80e+01, 6.10e+04],\n",
       "        [3.70e+01, 5.50e+04],\n",
       "        [4.20e+01, 8.00e+04],\n",
       "        [4.00e+01, 5.70e+04],\n",
       "        [3.50e+01, 7.50e+04],\n",
       "        [3.60e+01, 5.20e+04],\n",
       "        [4.00e+01, 5.90e+04],\n",
       "        [4.10e+01, 5.90e+04],\n",
       "        [3.60e+01, 7.50e+04],\n",
       "        [3.70e+01, 7.20e+04],\n",
       "        [4.00e+01, 7.50e+04],\n",
       "        [3.50e+01, 5.30e+04],\n",
       "        [4.10e+01, 5.10e+04],\n",
       "        [3.90e+01, 6.10e+04],\n",
       "        [4.20e+01, 6.50e+04],\n",
       "        [2.60e+01, 3.20e+04],\n",
       "        [3.00e+01, 1.70e+04],\n",
       "        [2.60e+01, 8.40e+04],\n",
       "        [3.10e+01, 5.80e+04],\n",
       "        [3.30e+01, 3.10e+04],\n",
       "        [3.00e+01, 8.70e+04],\n",
       "        [2.10e+01, 6.80e+04],\n",
       "        [2.80e+01, 5.50e+04],\n",
       "        [2.30e+01, 6.30e+04],\n",
       "        [2.00e+01, 8.20e+04],\n",
       "        [3.00e+01, 1.07e+05],\n",
       "        [2.80e+01, 5.90e+04],\n",
       "        [1.90e+01, 2.50e+04],\n",
       "        [1.90e+01, 8.50e+04],\n",
       "        [1.80e+01, 6.80e+04],\n",
       "        [3.50e+01, 5.90e+04],\n",
       "        [3.00e+01, 8.90e+04],\n",
       "        [3.40e+01, 2.50e+04],\n",
       "        [2.40e+01, 8.90e+04],\n",
       "        [2.70e+01, 9.60e+04],\n",
       "        [4.10e+01, 3.00e+04],\n",
       "        [2.90e+01, 6.10e+04],\n",
       "        [2.00e+01, 7.40e+04],\n",
       "        [2.60e+01, 1.50e+04],\n",
       "        [4.10e+01, 4.50e+04],\n",
       "        [3.10e+01, 7.60e+04],\n",
       "        [3.60e+01, 5.00e+04],\n",
       "        [4.00e+01, 4.70e+04],\n",
       "        [3.10e+01, 1.50e+04],\n",
       "        [4.60e+01, 5.90e+04],\n",
       "        [2.90e+01, 7.50e+04],\n",
       "        [2.60e+01, 3.00e+04],\n",
       "        [3.20e+01, 1.35e+05],\n",
       "        [3.20e+01, 1.00e+05],\n",
       "        [2.50e+01, 9.00e+04],\n",
       "        [3.70e+01, 3.30e+04],\n",
       "        [3.50e+01, 3.80e+04],\n",
       "        [3.30e+01, 6.90e+04],\n",
       "        [1.80e+01, 8.60e+04],\n",
       "        [2.20e+01, 5.50e+04],\n",
       "        [3.50e+01, 7.10e+04],\n",
       "        [2.90e+01, 1.48e+05],\n",
       "        [2.90e+01, 4.70e+04],\n",
       "        [2.10e+01, 8.80e+04],\n",
       "        [3.40e+01, 1.15e+05],\n",
       "        [2.60e+01, 1.18e+05],\n",
       "        [3.40e+01, 4.30e+04],\n",
       "        [3.40e+01, 7.20e+04],\n",
       "        [2.30e+01, 2.80e+04],\n",
       "        [3.50e+01, 4.70e+04],\n",
       "        [2.50e+01, 2.20e+04],\n",
       "        [2.40e+01, 2.30e+04],\n",
       "        [3.10e+01, 3.40e+04],\n",
       "        [2.60e+01, 1.60e+04],\n",
       "        [3.10e+01, 7.10e+04],\n",
       "        [3.20e+01, 1.17e+05],\n",
       "        [3.30e+01, 4.30e+04],\n",
       "        [3.30e+01, 6.00e+04],\n",
       "        [3.10e+01, 6.60e+04],\n",
       "        [2.00e+01, 8.20e+04],\n",
       "        [3.30e+01, 4.10e+04],\n",
       "        [3.50e+01, 7.20e+04],\n",
       "        [2.80e+01, 3.20e+04],\n",
       "        [2.40e+01, 8.40e+04],\n",
       "        [1.90e+01, 2.60e+04],\n",
       "        [2.90e+01, 4.30e+04],\n",
       "        [1.90e+01, 7.00e+04],\n",
       "        [2.80e+01, 8.90e+04],\n",
       "        [3.40e+01, 4.30e+04],\n",
       "        [3.00e+01, 7.90e+04],\n",
       "        [2.00e+01, 3.60e+04],\n",
       "        [2.60e+01, 8.00e+04],\n",
       "        [3.50e+01, 2.20e+04],\n",
       "        [3.50e+01, 3.90e+04],\n",
       "        [4.90e+01, 7.40e+04],\n",
       "        [3.90e+01, 1.34e+05],\n",
       "        [4.10e+01, 7.10e+04],\n",
       "        [5.80e+01, 1.01e+05],\n",
       "        [4.70e+01, 4.70e+04],\n",
       "        [5.50e+01, 1.30e+05],\n",
       "        [5.20e+01, 1.14e+05],\n",
       "        [4.00e+01, 1.42e+05],\n",
       "        [4.60e+01, 2.20e+04],\n",
       "        [4.80e+01, 9.60e+04],\n",
       "        [5.20e+01, 1.50e+05],\n",
       "        [5.90e+01, 4.20e+04],\n",
       "        [3.50e+01, 5.80e+04],\n",
       "        [4.70e+01, 4.30e+04],\n",
       "        [6.00e+01, 1.08e+05],\n",
       "        [4.90e+01, 6.50e+04],\n",
       "        [4.00e+01, 7.80e+04],\n",
       "        [4.60e+01, 9.60e+04],\n",
       "        [5.90e+01, 1.43e+05],\n",
       "        [4.10e+01, 8.00e+04],\n",
       "        [3.50e+01, 9.10e+04],\n",
       "        [3.70e+01, 1.44e+05],\n",
       "        [6.00e+01, 1.02e+05],\n",
       "        [3.50e+01, 6.00e+04],\n",
       "        [3.70e+01, 5.30e+04],\n",
       "        [3.60e+01, 1.26e+05],\n",
       "        [5.60e+01, 1.33e+05],\n",
       "        [4.00e+01, 7.20e+04],\n",
       "        [4.20e+01, 8.00e+04],\n",
       "        [3.50e+01, 1.47e+05],\n",
       "        [3.90e+01, 4.20e+04],\n",
       "        [4.00e+01, 1.07e+05],\n",
       "        [4.90e+01, 8.60e+04],\n",
       "        [3.80e+01, 1.12e+05],\n",
       "        [4.60e+01, 7.90e+04],\n",
       "        [4.00e+01, 5.70e+04],\n",
       "        [3.70e+01, 8.00e+04],\n",
       "        [4.60e+01, 8.20e+04],\n",
       "        [5.30e+01, 1.43e+05],\n",
       "        [4.20e+01, 1.49e+05],\n",
       "        [3.80e+01, 5.90e+04],\n",
       "        [5.00e+01, 8.80e+04],\n",
       "        [5.60e+01, 1.04e+05],\n",
       "        [4.10e+01, 7.20e+04],\n",
       "        [5.10e+01, 1.46e+05],\n",
       "        [3.50e+01, 5.00e+04],\n",
       "        [5.70e+01, 1.22e+05],\n",
       "        [4.10e+01, 5.20e+04],\n",
       "        [3.50e+01, 9.70e+04],\n",
       "        [4.40e+01, 3.90e+04],\n",
       "        [3.70e+01, 5.20e+04],\n",
       "        [4.80e+01, 1.34e+05],\n",
       "        [3.70e+01, 1.46e+05],\n",
       "        [5.00e+01, 4.40e+04],\n",
       "        [5.20e+01, 9.00e+04],\n",
       "        [4.10e+01, 7.20e+04],\n",
       "        [4.00e+01, 5.70e+04],\n",
       "        [5.80e+01, 9.50e+04],\n",
       "        [4.50e+01, 1.31e+05],\n",
       "        [3.50e+01, 7.70e+04],\n",
       "        [3.60e+01, 1.44e+05],\n",
       "        [5.50e+01, 1.25e+05],\n",
       "        [3.50e+01, 7.20e+04],\n",
       "        [4.80e+01, 9.00e+04],\n",
       "        [4.20e+01, 1.08e+05],\n",
       "        [4.00e+01, 7.50e+04],\n",
       "        [3.70e+01, 7.40e+04],\n",
       "        [4.70e+01, 1.44e+05],\n",
       "        [4.00e+01, 6.10e+04],\n",
       "        [4.30e+01, 1.33e+05],\n",
       "        [5.90e+01, 7.60e+04],\n",
       "        [6.00e+01, 4.20e+04],\n",
       "        [3.90e+01, 1.06e+05],\n",
       "        [5.70e+01, 2.60e+04],\n",
       "        [5.70e+01, 7.40e+04],\n",
       "        [3.80e+01, 7.10e+04],\n",
       "        [4.90e+01, 8.80e+04],\n",
       "        [5.20e+01, 3.80e+04],\n",
       "        [5.00e+01, 3.60e+04],\n",
       "        [5.90e+01, 8.80e+04],\n",
       "        [3.50e+01, 6.10e+04],\n",
       "        [3.70e+01, 7.00e+04],\n",
       "        [5.20e+01, 2.10e+04],\n",
       "        [4.80e+01, 1.41e+05],\n",
       "        [3.70e+01, 9.30e+04],\n",
       "        [3.70e+01, 6.20e+04],\n",
       "        [4.80e+01, 1.38e+05],\n",
       "        [4.10e+01, 7.90e+04],\n",
       "        [3.70e+01, 7.80e+04],\n",
       "        [3.90e+01, 1.34e+05],\n",
       "        [4.90e+01, 8.90e+04],\n",
       "        [5.50e+01, 3.90e+04],\n",
       "        [3.70e+01, 7.70e+04],\n",
       "        [3.50e+01, 5.70e+04],\n",
       "        [3.60e+01, 6.30e+04],\n",
       "        [4.20e+01, 7.30e+04],\n",
       "        [4.30e+01, 1.12e+05],\n",
       "        [4.50e+01, 7.90e+04],\n",
       "        [4.60e+01, 1.17e+05],\n",
       "        [5.80e+01, 3.80e+04],\n",
       "        [4.80e+01, 7.40e+04],\n",
       "        [3.70e+01, 1.37e+05],\n",
       "        [3.70e+01, 7.90e+04],\n",
       "        [4.00e+01, 6.00e+04],\n",
       "        [4.20e+01, 5.40e+04],\n",
       "        [5.10e+01, 1.34e+05],\n",
       "        [4.70e+01, 1.13e+05],\n",
       "        [3.60e+01, 1.25e+05],\n",
       "        [3.80e+01, 5.00e+04],\n",
       "        [4.20e+01, 7.00e+04],\n",
       "        [3.90e+01, 9.60e+04],\n",
       "        [3.80e+01, 5.00e+04],\n",
       "        [4.90e+01, 1.41e+05],\n",
       "        [3.90e+01, 7.90e+04],\n",
       "        [3.90e+01, 7.50e+04],\n",
       "        [5.40e+01, 1.04e+05],\n",
       "        [3.50e+01, 5.50e+04],\n",
       "        [4.50e+01, 3.20e+04],\n",
       "        [3.60e+01, 6.00e+04],\n",
       "        [5.20e+01, 1.38e+05],\n",
       "        [5.30e+01, 8.20e+04],\n",
       "        [4.10e+01, 5.20e+04],\n",
       "        [4.80e+01, 3.00e+04],\n",
       "        [4.80e+01, 1.31e+05],\n",
       "        [4.10e+01, 6.00e+04],\n",
       "        [4.10e+01, 7.20e+04],\n",
       "        [4.20e+01, 7.50e+04],\n",
       "        [3.60e+01, 1.18e+05],\n",
       "        [4.70e+01, 1.07e+05],\n",
       "        [3.80e+01, 5.10e+04],\n",
       "        [4.80e+01, 1.19e+05],\n",
       "        [4.20e+01, 6.50e+04],\n",
       "        [4.00e+01, 6.50e+04],\n",
       "        [5.70e+01, 6.00e+04],\n",
       "        [3.60e+01, 5.40e+04],\n",
       "        [5.80e+01, 1.44e+05],\n",
       "        [3.50e+01, 7.90e+04],\n",
       "        [3.80e+01, 5.50e+04],\n",
       "        [3.90e+01, 1.22e+05],\n",
       "        [5.30e+01, 1.04e+05],\n",
       "        [3.50e+01, 7.50e+04],\n",
       "        [3.80e+01, 6.50e+04],\n",
       "        [4.70e+01, 5.10e+04],\n",
       "        [4.70e+01, 1.05e+05],\n",
       "        [4.10e+01, 6.30e+04],\n",
       "        [5.30e+01, 7.20e+04],\n",
       "        [5.40e+01, 1.08e+05],\n",
       "        [3.90e+01, 7.70e+04],\n",
       "        [3.80e+01, 6.10e+04],\n",
       "        [3.80e+01, 1.13e+05],\n",
       "        [3.70e+01, 7.50e+04],\n",
       "        [4.20e+01, 9.00e+04],\n",
       "        [3.70e+01, 5.70e+04],\n",
       "        [3.60e+01, 9.90e+04],\n",
       "        [6.00e+01, 3.40e+04],\n",
       "        [5.40e+01, 7.00e+04],\n",
       "        [4.10e+01, 7.20e+04],\n",
       "        [4.00e+01, 7.10e+04],\n",
       "        [4.20e+01, 5.40e+04],\n",
       "        [4.30e+01, 1.29e+05],\n",
       "        [5.30e+01, 3.40e+04],\n",
       "        [4.70e+01, 5.00e+04],\n",
       "        [4.20e+01, 7.90e+04],\n",
       "        [4.20e+01, 1.04e+05],\n",
       "        [5.90e+01, 2.90e+04],\n",
       "        [5.80e+01, 4.70e+04],\n",
       "        [4.60e+01, 8.80e+04],\n",
       "        [3.80e+01, 7.10e+04],\n",
       "        [5.40e+01, 2.60e+04],\n",
       "        [6.00e+01, 4.60e+04],\n",
       "        [6.00e+01, 8.30e+04],\n",
       "        [3.90e+01, 7.30e+04],\n",
       "        [5.90e+01, 1.30e+05],\n",
       "        [3.70e+01, 8.00e+04],\n",
       "        [4.60e+01, 3.20e+04],\n",
       "        [4.60e+01, 7.40e+04],\n",
       "        [4.20e+01, 5.30e+04],\n",
       "        [4.10e+01, 8.70e+04],\n",
       "        [5.80e+01, 2.30e+04],\n",
       "        [4.20e+01, 6.40e+04],\n",
       "        [4.80e+01, 3.30e+04],\n",
       "        [4.40e+01, 1.39e+05],\n",
       "        [4.90e+01, 2.80e+04],\n",
       "        [5.70e+01, 3.30e+04],\n",
       "        [5.60e+01, 6.00e+04],\n",
       "        [4.90e+01, 3.90e+04],\n",
       "        [3.90e+01, 7.10e+04],\n",
       "        [4.70e+01, 3.40e+04],\n",
       "        [4.80e+01, 3.50e+04],\n",
       "        [4.80e+01, 3.30e+04],\n",
       "        [4.70e+01, 2.30e+04],\n",
       "        [4.50e+01, 4.50e+04],\n",
       "        [6.00e+01, 4.20e+04],\n",
       "        [3.90e+01, 5.90e+04],\n",
       "        [4.60e+01, 4.10e+04],\n",
       "        [5.10e+01, 2.30e+04],\n",
       "        [5.00e+01, 2.00e+04],\n",
       "        [3.60e+01, 3.30e+04],\n",
       "        [4.90e+01, 3.60e+04]]),\n",
       " array([0, 0, 0, 0, 0, 0, 0, 1, 0, 0, 0, 0, 0, 0, 0, 0, 1, 1, 1, 1, 1, 1,\n",
       "        1, 1, 1, 1, 1, 1, 0, 0, 0, 1, 0, 0, 0, 0, 0, 0, 0, 0, 0, 0, 0, 0,\n",
       "        0, 0, 0, 0, 1, 0, 0, 0, 0, 0, 0, 0, 0, 0, 0, 0, 0, 0, 0, 1, 0, 0,\n",
       "        0, 0, 0, 0, 0, 0, 0, 0, 0, 1, 0, 0, 0, 0, 0, 0, 0, 0, 0, 1, 0, 0,\n",
       "        0, 0, 0, 0, 0, 0, 0, 0, 0, 1, 0, 0, 0, 0, 0, 1, 0, 0, 0, 0, 0, 0,\n",
       "        0, 0, 0, 0, 0, 0, 0, 0, 0, 0, 0, 0, 0, 0, 0, 0, 0, 0, 0, 0, 0, 0,\n",
       "        0, 0, 0, 0, 0, 1, 0, 0, 0, 0, 0, 0, 0, 0, 1, 0, 0, 0, 0, 0, 0, 0,\n",
       "        0, 0, 0, 0, 0, 1, 1, 0, 0, 0, 0, 0, 0, 0, 1, 0, 0, 0, 0, 0, 0, 0,\n",
       "        0, 0, 0, 0, 0, 0, 1, 0, 0, 0, 0, 0, 0, 0, 0, 0, 0, 0, 0, 0, 0, 0,\n",
       "        0, 0, 0, 0, 1, 0, 1, 0, 1, 0, 1, 0, 1, 1, 0, 0, 0, 1, 0, 0, 0, 1,\n",
       "        0, 1, 1, 1, 0, 0, 1, 1, 0, 1, 1, 0, 1, 1, 0, 1, 0, 0, 0, 1, 1, 0,\n",
       "        1, 1, 0, 1, 0, 1, 0, 1, 0, 0, 1, 1, 0, 1, 0, 0, 1, 1, 0, 1, 1, 0,\n",
       "        1, 1, 0, 0, 1, 0, 0, 1, 1, 1, 1, 1, 0, 1, 1, 1, 1, 0, 1, 1, 0, 1,\n",
       "        0, 1, 0, 1, 1, 1, 1, 0, 0, 0, 1, 1, 0, 1, 1, 1, 1, 1, 0, 0, 0, 1,\n",
       "        1, 0, 0, 1, 0, 1, 0, 1, 1, 0, 1, 0, 1, 1, 0, 1, 1, 0, 0, 0, 1, 1,\n",
       "        0, 1, 0, 0, 1, 0, 1, 0, 0, 1, 1, 0, 0, 1, 1, 0, 1, 1, 0, 0, 1, 0,\n",
       "        1, 0, 1, 1, 1, 0, 1, 0, 1, 1, 1, 0, 1, 1, 1, 1, 0, 1, 1, 1, 0, 1,\n",
       "        0, 1, 0, 0, 1, 1, 0, 1, 1, 1, 1, 1, 1, 0, 1, 1, 1, 1, 1, 1, 0, 1,\n",
       "        1, 1, 0, 1], dtype=int64))"
      ]
     },
     "execution_count": 15,
     "metadata": {},
     "output_type": "execute_result"
    }
   ],
   "source": [
    "# Importing the dataset\n",
    "dataset = pd.read_csv('Ads.csv')\n",
    "x = dataset.iloc[:, [2,3]].values\n",
    "y = dataset.iloc[:, 4].values\n",
    "x, y"
   ]
  },
  {
   "cell_type": "code",
   "execution_count": 16,
   "id": "b4356d14",
   "metadata": {},
   "outputs": [],
   "source": [
    "# Splitting the dataset into the Training set and Test set\n",
    "from sklearn.model_selection import train_test_split\n",
    "x_train, x_test, y_train, y_test = train_test_split(x, y, test_size = 0.25)"
   ]
  },
  {
   "cell_type": "code",
   "execution_count": 17,
   "id": "178ad677",
   "metadata": {},
   "outputs": [
    {
     "data": {
      "text/plain": [
       "(array([[-0.05381622,  0.23298519],\n",
       "        [-1.46179866, -1.55691382],\n",
       "        [-0.99247118, -1.58674547],\n",
       "        [-1.27406767,  0.56113334],\n",
       "        [-0.80474019, -1.25859732],\n",
       "        [-0.24154721, -0.36364781],\n",
       "        [-1.18020217, -1.43758722],\n",
       "        [ 0.04004928, -0.27415286],\n",
       "        [-0.24154721, -0.69179597],\n",
       "        [-0.14768171,  1.42625119],\n",
       "        [ 0.97870424,  2.02288419],\n",
       "        [ 1.35416623,  2.02288419],\n",
       "        [ 0.04004928, -0.27415286],\n",
       "        [-0.6170092 , -0.12499461],\n",
       "        [-0.6170092 , -1.64640877],\n",
       "        [ 1.35416623,  1.30692459],\n",
       "        [ 0.41551126,  2.35103235],\n",
       "        [-0.89860568, -0.78129092],\n",
       "        [-0.99247118,  0.76995489],\n",
       "        [ 0.88483874, -0.60230102],\n",
       "        [ 1.54189722,  1.00860809],\n",
       "        [-0.4292782 , -0.03549966],\n",
       "        [ 0.79097325, -1.13927072],\n",
       "        [-0.5231437 ,  1.48591449],\n",
       "        [-0.80474019,  0.14349024],\n",
       "        [ 0.69710775, -1.43758722],\n",
       "        [ 2.1050902 , -0.84095422],\n",
       "        [ 0.13391477,  1.90355759],\n",
       "        [-1.27406767, -0.36364781],\n",
       "        [-1.27406767, -1.52708217],\n",
       "        [ 1.26030073,  2.26153739],\n",
       "        [ 1.44803172,  0.35231179],\n",
       "        [ 1.9173592 , -0.69179597],\n",
       "        [-0.05381622,  2.20187409],\n",
       "        [-0.14768171,  1.66490439],\n",
       "        [ 1.9173592 , -1.40775557],\n",
       "        [-0.6170092 ,  1.42625119],\n",
       "        [ 2.1050902 , -0.72162762],\n",
       "        [ 0.22778027, -0.69179597],\n",
       "        [-1.08633668, -1.64640877],\n",
       "        [ 1.82349371, -0.30398451],\n",
       "        [ 0.32164577, -0.21448956],\n",
       "        [ 0.13391477, -0.84095422],\n",
       "        [ 0.22778027, -0.30398451],\n",
       "        [-1.18020217,  0.59096499],\n",
       "        [ 0.32164577,  0.05399529],\n",
       "        [-0.5231437 ,  1.39641954],\n",
       "        [ 0.97870424,  0.76995489],\n",
       "        [ 2.0112247 ,  1.78423099],\n",
       "        [-0.4292782 , -0.30398451],\n",
       "        [-0.05381622,  2.26153739],\n",
       "        [ 0.79097325, -1.40775557],\n",
       "        [ 0.32164577,  0.26281684],\n",
       "        [-1.64952965,  0.35231179],\n",
       "        [-1.18020217,  0.50147004],\n",
       "        [-0.24154721, -0.60230102],\n",
       "        [-0.71087469,  1.09810304],\n",
       "        [-0.05381622, -0.45314277],\n",
       "        [-0.71087469,  1.36658789],\n",
       "        [ 0.97870424, -1.10943907],\n",
       "        [-0.6170092 ,  0.02416364],\n",
       "        [-1.64952965, -1.01994412],\n",
       "        [ 0.32164577,  0.29264849],\n",
       "        [-0.5231437 , -1.55691382],\n",
       "        [ 0.41551126,  1.12793469],\n",
       "        [ 1.54189722, -0.00566801],\n",
       "        [ 0.97870424,  1.90355759],\n",
       "        [-0.89860568,  0.56113334],\n",
       "        [ 2.1050902 , -1.07960742],\n",
       "        [ 1.07256974,  0.47163839],\n",
       "        [ 0.04004928,  1.24726129],\n",
       "        [ 0.41551126,  1.00860809],\n",
       "        [-1.08633668, -1.64640877],\n",
       "        [-0.4292782 , -1.16910237],\n",
       "        [ 1.16643523, -0.78129092],\n",
       "        [ 1.82349371,  1.54557779],\n",
       "        [-1.36793317, -1.25859732],\n",
       "        [-0.99247118, -1.49725052],\n",
       "        [-1.55566416, -0.06533131],\n",
       "        [-1.36793317, -0.66196432],\n",
       "        [-0.6170092 ,  0.56113334],\n",
       "        [-0.89860568,  0.50147004],\n",
       "        [-0.71087469,  0.50147004],\n",
       "        [ 0.13391477,  0.20315354],\n",
       "        [ 0.22778027,  0.14349024],\n",
       "        [ 0.22778027,  0.14349024],\n",
       "        [-1.36793317, -1.49725052],\n",
       "        [ 0.69710775,  0.26281684],\n",
       "        [ 0.22778027,  0.05399529],\n",
       "        [-1.83726065, -0.54263772],\n",
       "        [-1.55566416,  0.53130169],\n",
       "        [-0.24154721, -0.60230102],\n",
       "        [ 0.22778027,  0.02416364],\n",
       "        [-0.33541271,  1.33675624],\n",
       "        [-1.74339515, -1.52708217],\n",
       "        [-1.08633668,  0.29264849],\n",
       "        [ 0.13391477,  0.08382694],\n",
       "        [-1.46179866, -0.21448956],\n",
       "        [ 0.79097325,  0.76995489],\n",
       "        [ 0.41551126,  0.08382694],\n",
       "        [-0.71087469, -0.24432121],\n",
       "        [ 1.07256974, -1.25859732],\n",
       "        [-0.14768171,  0.85944984],\n",
       "        [-0.80474019, -0.27415286],\n",
       "        [ 0.88483874,  1.27709294],\n",
       "        [-1.83726065, -0.78129092],\n",
       "        [-0.24154721, -1.34809227],\n",
       "        [-0.24154721, -1.43758722],\n",
       "        [-0.24154721,  2.29136905],\n",
       "        [ 0.13391477, -0.84095422],\n",
       "        [-0.99247118, -1.16910237],\n",
       "        [-0.24154721,  0.14349024],\n",
       "        [-0.24154721,  1.12793469],\n",
       "        [-0.5231437 ,  1.39641954],\n",
       "        [ 0.32164577, -0.75145927],\n",
       "        [ 0.97870424,  1.45608284],\n",
       "        [-0.24154721, -0.30398451],\n",
       "        [-0.05381622,  0.11365859],\n",
       "        [-0.71087469, -1.58674547],\n",
       "        [ 1.63576272,  1.78423099],\n",
       "        [ 0.22778027,  2.14221079],\n",
       "        [ 1.63576272, -0.93044917],\n",
       "        [-0.05381622,  0.20315354],\n",
       "        [ 0.22778027, -0.39347946],\n",
       "        [-0.71087469,  0.26281684],\n",
       "        [ 0.69710775,  1.81406264],\n",
       "        [ 0.13391477,  1.06827139],\n",
       "        [ 0.13391477,  0.02416364],\n",
       "        [-0.24154721, -0.51280607],\n",
       "        [ 0.32164577,  0.02416364],\n",
       "        [ 0.41551126,  0.59096499],\n",
       "        [-1.08633668,  0.29264849],\n",
       "        [ 1.54189722,  1.12793469],\n",
       "        [-0.05381622,  0.05399529],\n",
       "        [-0.24154721, -0.45314277],\n",
       "        [ 0.97870424,  0.59096499],\n",
       "        [ 1.9173592 ,  0.91911314],\n",
       "        [-0.05381622,  0.68045994],\n",
       "        [-0.05381622, -0.39347946],\n",
       "        [-0.33541271,  0.05399529],\n",
       "        [ 0.88483874, -0.69179597],\n",
       "        [ 0.69710775, -1.31826062],\n",
       "        [ 0.97870424, -0.87078587],\n",
       "        [-1.74339515, -1.31826062],\n",
       "        [ 1.72962821,  1.87372594],\n",
       "        [ 0.79097325,  0.26281684],\n",
       "        [ 0.13391477, -0.27415286],\n",
       "        [-0.24154721, -0.93044917],\n",
       "        [ 0.88483874, -0.81112257],\n",
       "        [-1.74339515,  0.17332189],\n",
       "        [ 0.04004928, -0.33381616],\n",
       "        [ 0.32164577,  0.05399529],\n",
       "        [ 0.32164577, -0.30398451],\n",
       "        [-0.24154721,  0.05399529],\n",
       "        [-0.24154721, -0.33381616],\n",
       "        [-0.05381622, -0.54263772],\n",
       "        [-0.71087469, -1.64640877],\n",
       "        [-0.99247118, -0.39347946],\n",
       "        [-0.99247118, -0.48297442],\n",
       "        [-1.18020217, -1.10943907],\n",
       "        [-1.46179866, -0.45314277],\n",
       "        [ 0.88483874, -0.63213267],\n",
       "        [-0.99247118,  0.56113334],\n",
       "        [-1.27406767, -1.40775557],\n",
       "        [-0.89860568, -0.45314277],\n",
       "        [-0.71087469,  1.93338924],\n",
       "        [-0.89860568, -1.13927072],\n",
       "        [-0.71087469, -0.63213267],\n",
       "        [-0.14768171, -0.54263772],\n",
       "        [-0.14768171, -0.21448956],\n",
       "        [ 0.88483874, -1.19893402],\n",
       "        [ 1.72962821,  1.00860809],\n",
       "        [-0.05381622,  1.99305254],\n",
       "        [ 0.22778027, -0.15482626],\n",
       "        [ 1.9173592 ,  0.74012324],\n",
       "        [-0.05381622,  0.29264849],\n",
       "        [ 0.97870424, -1.19893402],\n",
       "        [ 0.13391477,  1.90355759],\n",
       "        [-0.80474019, -0.69179597],\n",
       "        [ 0.88483874,  1.09810304],\n",
       "        [ 0.79097325,  0.11365859],\n",
       "        [-0.24154721, -0.27415286],\n",
       "        [ 2.1050902 , -0.84095422],\n",
       "        [-0.24154721,  0.79978654],\n",
       "        [ 1.44803172, -1.07960742],\n",
       "        [-0.24154721, -0.96028082],\n",
       "        [-0.99247118,  0.59096499],\n",
       "        [-0.05381622,  0.29264849],\n",
       "        [-0.24154721,  0.14349024],\n",
       "        [-0.14768171, -1.10943907],\n",
       "        [ 1.35416623,  0.59096499],\n",
       "        [ 0.41551126,  0.29264849],\n",
       "        [-0.5231437 ,  2.380864  ],\n",
       "        [ 1.44803172,  1.00860809],\n",
       "        [ 0.79097325,  1.39641954],\n",
       "        [-1.08633668,  1.42625119],\n",
       "        [-1.27406767, -1.13927072],\n",
       "        [-1.83726065,  0.35231179],\n",
       "        [ 1.44803172,  2.17204244],\n",
       "        [-1.74339515, -0.00566801],\n",
       "        [ 0.41551126, -0.48297442],\n",
       "        [ 0.69710775, -1.13927072],\n",
       "        [-0.80474019,  0.29264849],\n",
       "        [-0.6170092 , -1.07960742],\n",
       "        [-1.08633668, -1.61657712],\n",
       "        [-0.99247118,  0.53130169],\n",
       "        [-1.08633668,  0.41197509],\n",
       "        [-1.08633668,  0.32248014],\n",
       "        [ 1.07256974,  0.56113334],\n",
       "        [-0.05381622,  0.26281684],\n",
       "        [-1.18020217,  0.26281684],\n",
       "        [-0.4292782 , -1.25859732],\n",
       "        [-0.24154721,  0.08382694],\n",
       "        [-0.5231437 ,  1.93338924],\n",
       "        [ 0.32164577, -0.33381616],\n",
       "        [ 1.82349371,  0.11365859],\n",
       "        [ 1.72962821, -0.30398451],\n",
       "        [-1.27406767, -0.45314277],\n",
       "        [-0.24154721,  0.20315354],\n",
       "        [-0.14768171, -0.48297442],\n",
       "        [-1.83726065, -0.06533131],\n",
       "        [ 0.32164577, -0.57246937],\n",
       "        [-1.55566416,  0.05399529],\n",
       "        [-0.24154721,  0.53130169],\n",
       "        [-0.14768171,  0.14349024],\n",
       "        [-0.14768171, -0.60230102],\n",
       "        [ 2.0112247 , -0.84095422],\n",
       "        [-0.89860568,  0.26281684],\n",
       "        [-0.14768171, -0.30398451],\n",
       "        [-1.64952965,  0.35231179],\n",
       "        [ 0.79097325, -1.43758722],\n",
       "        [-0.24154721,  0.02416364],\n",
       "        [-0.89860568,  0.44180674],\n",
       "        [ 0.32164577, -1.19893402],\n",
       "        [ 1.26030073, -1.40775557],\n",
       "        [-0.89860568, -0.33381616],\n",
       "        [-0.24154721, -0.15482626],\n",
       "        [-0.4292782 ,  1.27709294],\n",
       "        [ 0.69710775, -0.75145927],\n",
       "        [ 0.04004928,  0.29264849],\n",
       "        [ 0.79097325,  0.35231179],\n",
       "        [ 0.22778027, -0.39347946],\n",
       "        [-0.99247118, -0.36364781],\n",
       "        [-1.55566416, -1.61657712],\n",
       "        [ 1.54189722, -1.31826062],\n",
       "        [-0.05381622, -0.24432121],\n",
       "        [ 2.1050902 ,  0.38214344],\n",
       "        [-0.80474019,  0.38214344],\n",
       "        [-1.08633668, -1.04977577],\n",
       "        [ 1.82349371, -1.31826062],\n",
       "        [-0.6170092 , -1.55691382],\n",
       "        [ 0.13391477,  0.02416364],\n",
       "        [ 0.04004928, -0.57246937],\n",
       "        [-0.24154721, -1.28842897],\n",
       "        [ 1.16643523, -1.01994412],\n",
       "        [ 0.22778027,  1.09810304],\n",
       "        [ 0.13391477,  0.26281684],\n",
       "        [ 0.50937676,  1.75439934],\n",
       "        [-0.71087469,  0.29264849],\n",
       "        [ 0.41551126,  0.14349024],\n",
       "        [ 0.88483874, -0.57246937],\n",
       "        [ 0.41551126, -0.18465791],\n",
       "        [ 0.41551126, -0.48297442],\n",
       "        [-1.08633668, -0.54263772],\n",
       "        [ 0.41551126,  0.29264849],\n",
       "        [ 0.13391477,  1.54557779],\n",
       "        [ 2.1050902 ,  1.12793469],\n",
       "        [-0.89860568,  1.57540944],\n",
       "        [ 0.32164577, -0.54263772],\n",
       "        [-0.6170092 , -0.06533131],\n",
       "        [ 0.88483874, -1.49725052],\n",
       "        [ 1.82349371, -1.10943907],\n",
       "        [-1.36793317, -0.12499461],\n",
       "        [ 1.07256974,  0.11365859],\n",
       "        [ 2.1050902 ,  0.94894479],\n",
       "        [ 1.07256974, -1.01994412],\n",
       "        [ 1.63576272,  1.63507274],\n",
       "        [ 0.22778027,  0.23298519],\n",
       "        [ 1.26030073,  1.90355759],\n",
       "        [-0.6170092 ,  0.11365859],\n",
       "        [-0.4292782 , -0.87078587],\n",
       "        [-1.74339515,  0.44180674],\n",
       "        [ 0.32164577,  0.05399529],\n",
       "        [ 1.07256974,  2.11237914],\n",
       "        [-1.18020217,  0.29264849],\n",
       "        [-0.33541271, -1.34809227],\n",
       "        [-0.99247118, -0.36364781],\n",
       "        [-1.74339515, -1.34809227],\n",
       "        [-0.99247118,  0.41197509],\n",
       "        [-1.08633668, -1.13927072],\n",
       "        [ 0.41551126,  0.26281684],\n",
       "        [-1.64952965, -0.63213267],\n",
       "        [ 1.07256974,  0.53130169],\n",
       "        [ 2.0112247 ,  2.17204244],\n",
       "        [-0.05381622,  0.14349024],\n",
       "        [ 0.69710775, -1.43758722],\n",
       "        [ 2.0112247 ,  0.17332189],\n",
       "        [ 1.35416623, -0.96028082],\n",
       "        [-1.36793317,  0.35231179],\n",
       "        [-0.80474019, -0.81112257]]),\n",
       " array([[ 0.97870424, -1.10943907],\n",
       "        [-1.27406767, -0.45314277],\n",
       "        [ 0.79097325, -0.33381616],\n",
       "        [ 0.04004928, -0.15482626],\n",
       "        [ 2.0112247 , -1.22876567],\n",
       "        [-0.80474019,  2.3212007 ],\n",
       "        [ 0.13391477, -0.33381616],\n",
       "        [ 0.04004928,  0.02416364],\n",
       "        [ 0.41551126, -0.51280607],\n",
       "        [ 1.16643523,  0.53130169],\n",
       "        [-0.33541271, -0.81112257],\n",
       "        [ 2.0112247 ,  0.53130169],\n",
       "        [-0.24154721,  0.26281684],\n",
       "        [-0.6170092 ,  0.17332189],\n",
       "        [-1.64952965,  0.11365859],\n",
       "        [-0.14768171,  2.20187409],\n",
       "        [-1.08633668,  0.05399529],\n",
       "        [-1.46179866,  0.32248014],\n",
       "        [-1.08633668, -0.81112257],\n",
       "        [-0.89860568, -0.99011247],\n",
       "        [ 0.13391477,  0.76995489],\n",
       "        [-0.4292782 , -0.57246937],\n",
       "        [ 0.04004928, -0.60230102],\n",
       "        [-1.08633668,  0.47163839],\n",
       "        [ 0.60324226, -0.93044917],\n",
       "        [-0.71087469,  0.56113334],\n",
       "        [-1.27406767, -1.28842897],\n",
       "        [ 0.32164577,  0.05399529],\n",
       "        [ 0.50937676,  1.87372594],\n",
       "        [-0.5231437 ,  0.88928149],\n",
       "        [-0.80474019, -0.81112257],\n",
       "        [ 0.88483874, -1.07960742],\n",
       "        [ 1.9173592 ,  2.20187409],\n",
       "        [-0.24154721, -1.40775557],\n",
       "        [-0.6170092 , -0.36364781],\n",
       "        [ 0.97870424,  0.11365859],\n",
       "        [-0.14768171,  1.63507274],\n",
       "        [ 0.22778027, -0.33381616],\n",
       "        [ 0.88483874, -1.40775557],\n",
       "        [ 0.97870424,  2.11237914],\n",
       "        [ 0.22778027, -0.39347946],\n",
       "        [ 1.07256974, -0.93044917],\n",
       "        [ 0.79097325, -0.87078587],\n",
       "        [-0.24154721, -1.49725052],\n",
       "        [-0.89860568, -0.33381616],\n",
       "        [ 0.88483874, -1.34809227],\n",
       "        [ 0.41551126, -0.15482626],\n",
       "        [ 0.97870424, -1.22876567],\n",
       "        [ 0.32164577, -0.54263772],\n",
       "        [ 1.9173592 , -0.96028082],\n",
       "        [ 1.16643523, -1.49725052],\n",
       "        [ 0.97870424,  1.81406264],\n",
       "        [ 1.44803172,  0.05399529],\n",
       "        [-0.4292782 ,  2.35103235],\n",
       "        [ 0.04004928,  1.27709294],\n",
       "        [-1.46179866, -1.28842897],\n",
       "        [ 0.60324226,  2.05271584],\n",
       "        [-1.08633668, -1.58674547],\n",
       "        [-1.74339515, -1.46741887],\n",
       "        [ 0.22778027, -0.27415286],\n",
       "        [-1.27406767,  0.41197509],\n",
       "        [ 0.04004928, -0.45314277],\n",
       "        [ 0.04004928, -0.60230102],\n",
       "        [-1.64952965,  0.47163839],\n",
       "        [ 1.35416623, -1.46741887],\n",
       "        [ 1.35416623,  2.380864  ],\n",
       "        [ 0.88483874,  1.03843974],\n",
       "        [-0.24154721, -0.39347946],\n",
       "        [-0.24154721,  0.05399529],\n",
       "        [-0.05381622, -0.51280607],\n",
       "        [-0.4292782 , -0.81112257],\n",
       "        [-0.05381622,  0.02416364],\n",
       "        [ 0.04004928,  0.02416364],\n",
       "        [-0.33541271,  1.24726129],\n",
       "        [-0.05381622, -1.10943907],\n",
       "        [ 0.88483874,  2.20187409],\n",
       "        [ 0.13391477,  0.14349024],\n",
       "        [-0.24154721,  0.62079664],\n",
       "        [ 1.07256974, -0.15482626],\n",
       "        [-0.99247118,  1.99305254],\n",
       "        [-0.33541271, -0.81112257],\n",
       "        [ 1.07256974, -1.25859732],\n",
       "        [-0.5231437 ,  0.47163839],\n",
       "        [ 0.41551126, -0.00566801],\n",
       "        [ 0.41551126, -0.15482626],\n",
       "        [ 0.50937676,  1.24726129],\n",
       "        [-0.89860568,  0.41197509],\n",
       "        [ 2.0112247 ,  0.38214344],\n",
       "        [ 0.32164577,  0.50147004],\n",
       "        [-0.80474019,  0.38214344],\n",
       "        [-1.36793317, -0.21448956],\n",
       "        [ 0.79097325, -1.25859732],\n",
       "        [-1.08633668, -1.19893402],\n",
       "        [-1.64952965, -1.40775557],\n",
       "        [-0.24154721, -0.78129092],\n",
       "        [-0.05381622, -0.00566801],\n",
       "        [ 0.97870424, -1.04977577],\n",
       "        [-1.83726065,  0.47163839],\n",
       "        [-0.5231437 , -1.55691382],\n",
       "        [ 0.79097325,  0.53130169]]))"
      ]
     },
     "execution_count": 17,
     "metadata": {},
     "output_type": "execute_result"
    }
   ],
   "source": [
    "# Feature Scaling\n",
    "from sklearn.preprocessing import StandardScaler\n",
    "sc_x = StandardScaler()\n",
    "x_train = sc_x.fit_transform(x_train)\n",
    "x_test = sc_x.transform(x_test)\n",
    "x_train, x_test"
   ]
  },
  {
   "cell_type": "code",
   "execution_count": 18,
   "id": "761a2eb4",
   "metadata": {},
   "outputs": [
    {
     "data": {
      "text/html": [
       "<style>#sk-container-id-2 {color: black;background-color: white;}#sk-container-id-2 pre{padding: 0;}#sk-container-id-2 div.sk-toggleable {background-color: white;}#sk-container-id-2 label.sk-toggleable__label {cursor: pointer;display: block;width: 100%;margin-bottom: 0;padding: 0.3em;box-sizing: border-box;text-align: center;}#sk-container-id-2 label.sk-toggleable__label-arrow:before {content: \"▸\";float: left;margin-right: 0.25em;color: #696969;}#sk-container-id-2 label.sk-toggleable__label-arrow:hover:before {color: black;}#sk-container-id-2 div.sk-estimator:hover label.sk-toggleable__label-arrow:before {color: black;}#sk-container-id-2 div.sk-toggleable__content {max-height: 0;max-width: 0;overflow: hidden;text-align: left;background-color: #f0f8ff;}#sk-container-id-2 div.sk-toggleable__content pre {margin: 0.2em;color: black;border-radius: 0.25em;background-color: #f0f8ff;}#sk-container-id-2 input.sk-toggleable__control:checked~div.sk-toggleable__content {max-height: 200px;max-width: 100%;overflow: auto;}#sk-container-id-2 input.sk-toggleable__control:checked~label.sk-toggleable__label-arrow:before {content: \"▾\";}#sk-container-id-2 div.sk-estimator input.sk-toggleable__control:checked~label.sk-toggleable__label {background-color: #d4ebff;}#sk-container-id-2 div.sk-label input.sk-toggleable__control:checked~label.sk-toggleable__label {background-color: #d4ebff;}#sk-container-id-2 input.sk-hidden--visually {border: 0;clip: rect(1px 1px 1px 1px);clip: rect(1px, 1px, 1px, 1px);height: 1px;margin: -1px;overflow: hidden;padding: 0;position: absolute;width: 1px;}#sk-container-id-2 div.sk-estimator {font-family: monospace;background-color: #f0f8ff;border: 1px dotted black;border-radius: 0.25em;box-sizing: border-box;margin-bottom: 0.5em;}#sk-container-id-2 div.sk-estimator:hover {background-color: #d4ebff;}#sk-container-id-2 div.sk-parallel-item::after {content: \"\";width: 100%;border-bottom: 1px solid gray;flex-grow: 1;}#sk-container-id-2 div.sk-label:hover label.sk-toggleable__label {background-color: #d4ebff;}#sk-container-id-2 div.sk-serial::before {content: \"\";position: absolute;border-left: 1px solid gray;box-sizing: border-box;top: 0;bottom: 0;left: 50%;z-index: 0;}#sk-container-id-2 div.sk-serial {display: flex;flex-direction: column;align-items: center;background-color: white;padding-right: 0.2em;padding-left: 0.2em;position: relative;}#sk-container-id-2 div.sk-item {position: relative;z-index: 1;}#sk-container-id-2 div.sk-parallel {display: flex;align-items: stretch;justify-content: center;background-color: white;position: relative;}#sk-container-id-2 div.sk-item::before, #sk-container-id-2 div.sk-parallel-item::before {content: \"\";position: absolute;border-left: 1px solid gray;box-sizing: border-box;top: 0;bottom: 0;left: 50%;z-index: -1;}#sk-container-id-2 div.sk-parallel-item {display: flex;flex-direction: column;z-index: 1;position: relative;background-color: white;}#sk-container-id-2 div.sk-parallel-item:first-child::after {align-self: flex-end;width: 50%;}#sk-container-id-2 div.sk-parallel-item:last-child::after {align-self: flex-start;width: 50%;}#sk-container-id-2 div.sk-parallel-item:only-child::after {width: 0;}#sk-container-id-2 div.sk-dashed-wrapped {border: 1px dashed gray;margin: 0 0.4em 0.5em 0.4em;box-sizing: border-box;padding-bottom: 0.4em;background-color: white;}#sk-container-id-2 div.sk-label label {font-family: monospace;font-weight: bold;display: inline-block;line-height: 1.2em;}#sk-container-id-2 div.sk-label-container {text-align: center;}#sk-container-id-2 div.sk-container {/* jupyter's `normalize.less` sets `[hidden] { display: none; }` but bootstrap.min.css set `[hidden] { display: none !important; }` so we also need the `!important` here to be able to override the default hidden behavior on the sphinx rendered scikit-learn.org. See: https://github.com/scikit-learn/scikit-learn/issues/21755 */display: inline-block !important;position: relative;}#sk-container-id-2 div.sk-text-repr-fallback {display: none;}</style><div id=\"sk-container-id-2\" class=\"sk-top-container\"><div class=\"sk-text-repr-fallback\"><pre>LogisticRegression(random_state=0)</pre><b>In a Jupyter environment, please rerun this cell to show the HTML representation or trust the notebook. <br />On GitHub, the HTML representation is unable to render, please try loading this page with nbviewer.org.</b></div><div class=\"sk-container\" hidden><div class=\"sk-item\"><div class=\"sk-estimator sk-toggleable\"><input class=\"sk-toggleable__control sk-hidden--visually\" id=\"sk-estimator-id-2\" type=\"checkbox\" checked><label for=\"sk-estimator-id-2\" class=\"sk-toggleable__label sk-toggleable__label-arrow\">LogisticRegression</label><div class=\"sk-toggleable__content\"><pre>LogisticRegression(random_state=0)</pre></div></div></div></div></div>"
      ],
      "text/plain": [
       "LogisticRegression(random_state=0)"
      ]
     },
     "execution_count": 18,
     "metadata": {},
     "output_type": "execute_result"
    }
   ],
   "source": [
    "#Fitting Logistic Regresssion to Training Set\n",
    "from sklearn.linear_model import LogisticRegression\n",
    "classifier = LogisticRegression(random_state =0)\n",
    "classifier.fit(x_train,y_train)"
   ]
  },
  {
   "cell_type": "markdown",
   "id": "729b9a7b",
   "metadata": {},
   "source": [
    "# Predicting the results"
   ]
  },
  {
   "cell_type": "code",
   "execution_count": 19,
   "id": "b9eabeff",
   "metadata": {},
   "outputs": [
    {
     "data": {
      "text/plain": [
       "array([0, 0, 1, 0, 1, 0, 0, 0, 0, 1, 0, 1, 0, 0, 0, 1, 0, 0, 0, 0, 1, 0,\n",
       "       0, 0, 0, 0, 0, 0, 1, 0, 0, 0, 1, 0, 0, 1, 1, 0, 0, 1, 0, 1, 0, 0,\n",
       "       0, 0, 0, 0, 0, 1, 0, 1, 1, 1, 1, 0, 1, 0, 0, 0, 0, 0, 0, 0, 1, 1,\n",
       "       1, 0, 0, 0, 0, 0, 0, 0, 0, 1, 0, 0, 1, 0, 0, 0, 0, 0, 0, 1, 0, 1,\n",
       "       1, 0, 0, 0, 0, 0, 0, 0, 0, 0, 0, 1], dtype=int64)"
      ]
     },
     "execution_count": 19,
     "metadata": {},
     "output_type": "execute_result"
    }
   ],
   "source": [
    "#Predicting the Test Set Results\n",
    "y_pred = classifier.predict(x_test)\n",
    "y_pred"
   ]
  },
  {
   "cell_type": "markdown",
   "id": "37cb8f28",
   "metadata": {},
   "source": [
    "# Cross Validation"
   ]
  },
  {
   "cell_type": "code",
   "execution_count": 20,
   "id": "89e749db",
   "metadata": {},
   "outputs": [
    {
     "name": "stdout",
     "output_type": "stream",
     "text": [
      "Cross-Validation Accuracy Scores [0.84210526 0.89473684 0.78947368 0.92105263 0.75675676 0.86486486\n",
      " 0.91891892 0.83783784]\n"
     ]
    }
   ],
   "source": [
    "from sklearn.model_selection import cross_val_score\n",
    "scores = cross_val_score(classifier, x_train , y_train, cv=8)\n",
    "print('Cross-Validation Accuracy Scores', scores)"
   ]
  },
  {
   "cell_type": "markdown",
   "id": "1437e27a",
   "metadata": {},
   "source": [
    "# Confusion Matrix"
   ]
  },
  {
   "cell_type": "code",
   "execution_count": 21,
   "id": "241b25d5",
   "metadata": {},
   "outputs": [
    {
     "data": {
      "text/plain": [
       "array([[56,  5],\n",
       "       [17, 22]], dtype=int64)"
      ]
     },
     "execution_count": 21,
     "metadata": {},
     "output_type": "execute_result"
    }
   ],
   "source": [
    "#Making the Confusion Matrix\n",
    "from sklearn.metrics import confusion_matrix\n",
    "cm = confusion_matrix(y_test,y_pred)\n",
    "cm"
   ]
  },
  {
   "cell_type": "code",
   "execution_count": 22,
   "id": "9a1a6e69",
   "metadata": {},
   "outputs": [
    {
     "data": {
      "text/plain": [
       "<Axes: >"
      ]
     },
     "execution_count": 22,
     "metadata": {},
     "output_type": "execute_result"
    },
    {
     "data": {
      "image/png": "[encoded data removed]",
      "text/plain": [
       "<Figure size 640x480 with 2 Axes>"
      ]
     },
     "metadata": {},
     "output_type": "display_data"
    }
   ],
   "source": [
    "import seaborn as sns\n",
    "sns.heatmap(cm, annot=True, cmap='Blues')"
   ]
  },
  {
   "cell_type": "code",
   "execution_count": 23,
   "id": "91344dea",
   "metadata": {},
   "outputs": [
    {
     "data": {
      "text/plain": [
       "<Axes: >"
      ]
     },
     "execution_count": 23,
     "metadata": {},
     "output_type": "execute_result"
    },
    {
     "data": {
      "image/png": "[encoded data removed]",
      "text/plain": [
       "<Figure size 640x480 with 2 Axes>"
      ]
     },
     "metadata": {},
     "output_type": "display_data"
    }
   ],
   "source": [
    "sns.heatmap(cm/np.sum(cm), annot=True, \n",
    "            fmt='.2%', cmap='Blues')"
   ]
  },
  {
   "cell_type": "markdown",
   "id": "cf1ec8c3",
   "metadata": {},
   "source": [
    "# Analysing result parameters"
   ]
  },
  {
   "cell_type": "code",
   "execution_count": 24,
   "id": "fe1a5d1a",
   "metadata": {},
   "outputs": [
    {
     "name": "stderr",
     "output_type": "stream",
     "text": [
      "C:\\Users\\KIIT\\AppData\\Local\\Temp\\ipykernel_17940\\799483784.py:11: UserWarning: *c* argument looks like a single numeric RGB or RGBA sequence, which should be avoided as value-mapping will have precedence in case its length matches with *x* & *y*.  Please use the *color* keyword-argument or provide a 2D array with a single row if you intend to specify the same RGB or RGBA value for all points.\n",
      "  plt.scatter(x_set[y_set == j ,0], x_set[y_set == j,1],\n"
     ]
    },
    {
     "data": {
      "image/png": "[encoded data removed]",
      "text/plain": [
       "<Figure size 640x480 with 1 Axes>"
      ]
     },
     "metadata": {},
     "output_type": "display_data"
    }
   ],
   "source": [
    "#Visualizing the Training Set Results\n",
    "from matplotlib.colors import ListedColormap\n",
    "x_set , y_set = x_train ,y_train\n",
    "x1, x2 = np.meshgrid(np.arange(start = x_set[:,0].min()-1,stop =x_set[:,0].max()+1,step=0.01),\n",
    "                    np.arange(start = x_set[:,1].min()-1,stop =x_set[:,1].max()+1,step=0.01))\n",
    "plt.contour(x1,x2,classifier.predict(np.array([x1.ravel(),x2.ravel()]).T).reshape(x1.shape),\n",
    "            alpha= 0.75 ,cmap = ListedColormap(('red','green')))\n",
    "plt.xlim(x1.min() ,x1.max())\n",
    "plt.ylim(x2.min() ,x2.max())\n",
    "for i,j in enumerate(np.unique(y_set)):\n",
    "    plt.scatter(x_set[y_set == j ,0], x_set[y_set == j,1],\n",
    "                c= ListedColormap(('red' , 'green'))(i) , label = j)\n",
    "plt.title('Logistic Regression(Training Set)')\n",
    "plt.xlabel('Age')\n",
    "plt.ylabel('Estimated Salary')\n",
    "plt.legend()\n",
    "plt.show()"
   ]
  },
  {
   "cell_type": "code",
   "execution_count": 25,
   "id": "4fac01c5",
   "metadata": {},
   "outputs": [
    {
     "name": "stderr",
     "output_type": "stream",
     "text": [
      "C:\\Users\\KIIT\\AppData\\Local\\Temp\\ipykernel_17940\\3987814032.py:11: UserWarning: *c* argument looks like a single numeric RGB or RGBA sequence, which should be avoided as value-mapping will have precedence in case its length matches with *x* & *y*.  Please use the *color* keyword-argument or provide a 2D array with a single row if you intend to specify the same RGB or RGBA value for all points.\n",
      "  plt.scatter(x_set[y_set == j ,0], x_set[y_set == j,1],\n"
     ]
    },
    {
     "data": {
      "image/png": "[encoded data removed]",
      "text/plain": [
       "<Figure size 640x480 with 1 Axes>"
      ]
     },
     "metadata": {},
     "output_type": "display_data"
    }
   ],
   "source": [
    "#Visualizing the Test Set Results\n",
    "from matplotlib.colors import ListedColormap\n",
    "x_set , y_set = x_test ,y_test\n",
    "x1, x2 = np.meshgrid(np.arange(start = x_set[:,0].min()-1,stop =x_set[:,0].max()+1,step=0.01),\n",
    "                    np.arange(start = x_set[:,1].min()-1,stop =x_set[:,1].max()+1,step=0.01))\n",
    "plt.contour(x1,x2,classifier.predict(np.array([x1.ravel(),x2.ravel()]).T).reshape(x1.shape),\n",
    "            alpha= 0.75 ,cmap = ListedColormap(('red','green')))\n",
    "plt.xlim(x1.min() ,x1.max())\n",
    "plt.ylim(x2.min() ,x2.max())\n",
    "for i,j in enumerate(np.unique(y_set)):\n",
    "    plt.scatter(x_set[y_set == j ,0], x_set[y_set == j,1],\n",
    "                c= ListedColormap(('red' , 'green'))(i) , label = j)\n",
    "plt.title('Logistic Regression(Test Set)')\n",
    "plt.xlabel('Age')\n",
    "plt.ylabel('Estimated Salary')\n",
    "plt.legend()\n",
    "plt.show()"
   ]
  },
  {
   "cell_type": "code",
   "execution_count": 26,
   "id": "bcc08a39",
   "metadata": {},
   "outputs": [
    {
     "data": {
      "text/plain": [
       "0.78"
      ]
     },
     "execution_count": 26,
     "metadata": {},
     "output_type": "execute_result"
    }
   ],
   "source": [
    "metrics.accuracy_score(y_test, y_pred)"
   ]
  },
  {
   "cell_type": "code",
   "execution_count": null,
   "id": "e3e4ba5f",
   "metadata": {},
   "outputs": [],
   "source": []
  },
  {
   "cell_type": "markdown",
   "id": "bca4b811",
   "metadata": {},
   "source": [
    "# Third example with Iris Dataset"
   ]
  },
  {
   "cell_type": "code",
   "execution_count": 27,
   "id": "b4565160",
   "metadata": {},
   "outputs": [],
   "source": [
    "from sklearn import datasets\n",
    "import matplotlib.pyplot as plt"
   ]
  },
  {
   "cell_type": "code",
   "execution_count": 28,
   "id": "78ea631c",
   "metadata": {},
   "outputs": [],
   "source": [
    "#import data\n",
    "data = datasets.load_iris()"
   ]
  },
  {
   "cell_type": "code",
   "execution_count": 29,
   "id": "0bbd48b6",
   "metadata": {},
   "outputs": [
    {
     "data": {
      "text/plain": [
       "array([[5.1, 3.5, 1.4, 0.2],\n",
       "       [4.9, 3. , 1.4, 0.2],\n",
       "       [4.7, 3.2, 1.3, 0.2],\n",
       "       [4.6, 3.1, 1.5, 0.2],\n",
       "       [5. , 3.6, 1.4, 0.2],\n",
       "       [5.4, 3.9, 1.7, 0.4],\n",
       "       [4.6, 3.4, 1.4, 0.3],\n",
       "       [5. , 3.4, 1.5, 0.2],\n",
       "       [4.4, 2.9, 1.4, 0.2],\n",
       "       [4.9, 3.1, 1.5, 0.1],\n",
       "       [5.4, 3.7, 1.5, 0.2],\n",
       "       [4.8, 3.4, 1.6, 0.2],\n",
       "       [4.8, 3. , 1.4, 0.1],\n",
       "       [4.3, 3. , 1.1, 0.1],\n",
       "       [5.8, 4. , 1.2, 0.2],\n",
       "       [5.7, 4.4, 1.5, 0.4],\n",
       "       [5.4, 3.9, 1.3, 0.4],\n",
       "       [5.1, 3.5, 1.4, 0.3],\n",
       "       [5.7, 3.8, 1.7, 0.3],\n",
       "       [5.1, 3.8, 1.5, 0.3],\n",
       "       [5.4, 3.4, 1.7, 0.2],\n",
       "       [5.1, 3.7, 1.5, 0.4],\n",
       "       [4.6, 3.6, 1. , 0.2],\n",
       "       [5.1, 3.3, 1.7, 0.5],\n",
       "       [4.8, 3.4, 1.9, 0.2],\n",
       "       [5. , 3. , 1.6, 0.2],\n",
       "       [5. , 3.4, 1.6, 0.4],\n",
       "       [5.2, 3.5, 1.5, 0.2],\n",
       "       [5.2, 3.4, 1.4, 0.2],\n",
       "       [4.7, 3.2, 1.6, 0.2],\n",
       "       [4.8, 3.1, 1.6, 0.2],\n",
       "       [5.4, 3.4, 1.5, 0.4],\n",
       "       [5.2, 4.1, 1.5, 0.1],\n",
       "       [5.5, 4.2, 1.4, 0.2],\n",
       "       [4.9, 3.1, 1.5, 0.2],\n",
       "       [5. , 3.2, 1.2, 0.2],\n",
       "       [5.5, 3.5, 1.3, 0.2],\n",
       "       [4.9, 3.6, 1.4, 0.1],\n",
       "       [4.4, 3. , 1.3, 0.2],\n",
       "       [5.1, 3.4, 1.5, 0.2],\n",
       "       [5. , 3.5, 1.3, 0.3],\n",
       "       [4.5, 2.3, 1.3, 0.3],\n",
       "       [4.4, 3.2, 1.3, 0.2],\n",
       "       [5. , 3.5, 1.6, 0.6],\n",
       "       [5.1, 3.8, 1.9, 0.4],\n",
       "       [4.8, 3. , 1.4, 0.3],\n",
       "       [5.1, 3.8, 1.6, 0.2],\n",
       "       [4.6, 3.2, 1.4, 0.2],\n",
       "       [5.3, 3.7, 1.5, 0.2],\n",
       "       [5. , 3.3, 1.4, 0.2],\n",
       "       [7. , 3.2, 4.7, 1.4],\n",
       "       [6.4, 3.2, 4.5, 1.5],\n",
       "       [6.9, 3.1, 4.9, 1.5],\n",
       "       [5.5, 2.3, 4. , 1.3],\n",
       "       [6.5, 2.8, 4.6, 1.5],\n",
       "       [5.7, 2.8, 4.5, 1.3],\n",
       "       [6.3, 3.3, 4.7, 1.6],\n",
       "       [4.9, 2.4, 3.3, 1. ],\n",
       "       [6.6, 2.9, 4.6, 1.3],\n",
       "       [5.2, 2.7, 3.9, 1.4],\n",
       "       [5. , 2. , 3.5, 1. ],\n",
       "       [5.9, 3. , 4.2, 1.5],\n",
       "       [6. , 2.2, 4. , 1. ],\n",
       "       [6.1, 2.9, 4.7, 1.4],\n",
       "       [5.6, 2.9, 3.6, 1.3],\n",
       "       [6.7, 3.1, 4.4, 1.4],\n",
       "       [5.6, 3. , 4.5, 1.5],\n",
       "       [5.8, 2.7, 4.1, 1. ],\n",
       "       [6.2, 2.2, 4.5, 1.5],\n",
       "       [5.6, 2.5, 3.9, 1.1],\n",
       "       [5.9, 3.2, 4.8, 1.8],\n",
       "       [6.1, 2.8, 4. , 1.3],\n",
       "       [6.3, 2.5, 4.9, 1.5],\n",
       "       [6.1, 2.8, 4.7, 1.2],\n",
       "       [6.4, 2.9, 4.3, 1.3],\n",
       "       [6.6, 3. , 4.4, 1.4],\n",
       "       [6.8, 2.8, 4.8, 1.4],\n",
       "       [6.7, 3. , 5. , 1.7],\n",
       "       [6. , 2.9, 4.5, 1.5],\n",
       "       [5.7, 2.6, 3.5, 1. ],\n",
       "       [5.5, 2.4, 3.8, 1.1],\n",
       "       [5.5, 2.4, 3.7, 1. ],\n",
       "       [5.8, 2.7, 3.9, 1.2],\n",
       "       [6. , 2.7, 5.1, 1.6],\n",
       "       [5.4, 3. , 4.5, 1.5],\n",
       "       [6. , 3.4, 4.5, 1.6],\n",
       "       [6.7, 3.1, 4.7, 1.5],\n",
       "       [6.3, 2.3, 4.4, 1.3],\n",
       "       [5.6, 3. , 4.1, 1.3],\n",
       "       [5.5, 2.5, 4. , 1.3],\n",
       "       [5.5, 2.6, 4.4, 1.2],\n",
       "       [6.1, 3. , 4.6, 1.4],\n",
       "       [5.8, 2.6, 4. , 1.2],\n",
       "       [5. , 2.3, 3.3, 1. ],\n",
       "       [5.6, 2.7, 4.2, 1.3],\n",
       "       [5.7, 3. , 4.2, 1.2],\n",
       "       [5.7, 2.9, 4.2, 1.3],\n",
       "       [6.2, 2.9, 4.3, 1.3],\n",
       "       [5.1, 2.5, 3. , 1.1],\n",
       "       [5.7, 2.8, 4.1, 1.3],\n",
       "       [6.3, 3.3, 6. , 2.5],\n",
       "       [5.8, 2.7, 5.1, 1.9],\n",
       "       [7.1, 3. , 5.9, 2.1],\n",
       "       [6.3, 2.9, 5.6, 1.8],\n",
       "       [6.5, 3. , 5.8, 2.2],\n",
       "       [7.6, 3. , 6.6, 2.1],\n",
       "       [4.9, 2.5, 4.5, 1.7],\n",
       "       [7.3, 2.9, 6.3, 1.8],\n",
       "       [6.7, 2.5, 5.8, 1.8],\n",
       "       [7.2, 3.6, 6.1, 2.5],\n",
       "       [6.5, 3.2, 5.1, 2. ],\n",
       "       [6.4, 2.7, 5.3, 1.9],\n",
       "       [6.8, 3. , 5.5, 2.1],\n",
       "       [5.7, 2.5, 5. , 2. ],\n",
       "       [5.8, 2.8, 5.1, 2.4],\n",
       "       [6.4, 3.2, 5.3, 2.3],\n",
       "       [6.5, 3. , 5.5, 1.8],\n",
       "       [7.7, 3.8, 6.7, 2.2],\n",
       "       [7.7, 2.6, 6.9, 2.3],\n",
       "       [6. , 2.2, 5. , 1.5],\n",
       "       [6.9, 3.2, 5.7, 2.3],\n",
       "       [5.6, 2.8, 4.9, 2. ],\n",
       "       [7.7, 2.8, 6.7, 2. ],\n",
       "       [6.3, 2.7, 4.9, 1.8],\n",
       "       [6.7, 3.3, 5.7, 2.1],\n",
       "       [7.2, 3.2, 6. , 1.8],\n",
       "       [6.2, 2.8, 4.8, 1.8],\n",
       "       [6.1, 3. , 4.9, 1.8],\n",
       "       [6.4, 2.8, 5.6, 2.1],\n",
       "       [7.2, 3. , 5.8, 1.6],\n",
       "       [7.4, 2.8, 6.1, 1.9],\n",
       "       [7.9, 3.8, 6.4, 2. ],\n",
       "       [6.4, 2.8, 5.6, 2.2],\n",
       "       [6.3, 2.8, 5.1, 1.5],\n",
       "       [6.1, 2.6, 5.6, 1.4],\n",
       "       [7.7, 3. , 6.1, 2.3],\n",
       "       [6.3, 3.4, 5.6, 2.4],\n",
       "       [6.4, 3.1, 5.5, 1.8],\n",
       "       [6. , 3. , 4.8, 1.8],\n",
       "       [6.9, 3.1, 5.4, 2.1],\n",
       "       [6.7, 3.1, 5.6, 2.4],\n",
       "       [6.9, 3.1, 5.1, 2.3],\n",
       "       [5.8, 2.7, 5.1, 1.9],\n",
       "       [6.8, 3.2, 5.9, 2.3],\n",
       "       [6.7, 3.3, 5.7, 2.5],\n",
       "       [6.7, 3. , 5.2, 2.3],\n",
       "       [6.3, 2.5, 5. , 1.9],\n",
       "       [6.5, 3. , 5.2, 2. ],\n",
       "       [6.2, 3.4, 5.4, 2.3],\n",
       "       [5.9, 3. , 5.1, 1.8]])"
      ]
     },
     "execution_count": 29,
     "metadata": {},
     "output_type": "execute_result"
    }
   ],
   "source": [
    "# here as we have imported the data through sckit's package , we will get the data in form of arrays,\n",
    "# so here our labes is stored in \n",
    "data.data"
   ]
  },
  {
   "cell_type": "code",
   "execution_count": 30,
   "id": "c10a5115",
   "metadata": {},
   "outputs": [
    {
     "data": {
      "text/plain": [
       "array([0, 0, 0, 0, 0, 0, 0, 0, 0, 0, 0, 0, 0, 0, 0, 0, 0, 0, 0, 0, 0, 0,\n",
       "       0, 0, 0, 0, 0, 0, 0, 0, 0, 0, 0, 0, 0, 0, 0, 0, 0, 0, 0, 0, 0, 0,\n",
       "       0, 0, 0, 0, 0, 0, 1, 1, 1, 1, 1, 1, 1, 1, 1, 1, 1, 1, 1, 1, 1, 1,\n",
       "       1, 1, 1, 1, 1, 1, 1, 1, 1, 1, 1, 1, 1, 1, 1, 1, 1, 1, 1, 1, 1, 1,\n",
       "       1, 1, 1, 1, 1, 1, 1, 1, 1, 1, 1, 1, 2, 2, 2, 2, 2, 2, 2, 2, 2, 2,\n",
       "       2, 2, 2, 2, 2, 2, 2, 2, 2, 2, 2, 2, 2, 2, 2, 2, 2, 2, 2, 2, 2, 2,\n",
       "       2, 2, 2, 2, 2, 2, 2, 2, 2, 2, 2, 2, 2, 2, 2, 2, 2, 2])"
      ]
     },
     "execution_count": 30,
     "metadata": {},
     "output_type": "execute_result"
    }
   ],
   "source": [
    "# and labels\n",
    "data.target"
   ]
  },
  {
   "cell_type": "code",
   "execution_count": 31,
   "id": "b1bede6b",
   "metadata": {},
   "outputs": [],
   "source": [
    "# First let's divide the dataset into data and target \n",
    "\n",
    "X = data.data[:, :2]   # X is the features in our dataset\n",
    "y = (data.target != 0) * 1  # y is the Labels in our dataset"
   ]
  },
  {
   "cell_type": "code",
   "execution_count": 32,
   "id": "e72ffa3b",
   "metadata": {},
   "outputs": [
    {
     "data": {
      "image/png": "[encoded data removed]",
      "text/plain": [
       "<Figure size 1000x600 with 1 Axes>"
      ]
     },
     "metadata": {},
     "output_type": "display_data"
    }
   ],
   "source": [
    "plt.figure(figsize=(10, 6))\n",
    "plt.scatter(X[y == 0][:, 0], X[y == 0][:, 1], color='b', label='0') \n",
    "plt.scatter(X[y == 1][:, 0], X[y == 1][:, 1], color='r', label='1')\n",
    "plt.legend();"
   ]
  },
  {
   "cell_type": "code",
   "execution_count": 33,
   "id": "de6cd044",
   "metadata": {},
   "outputs": [],
   "source": [
    "# import dependencies\n",
    "from sklearn.linear_model import LogisticRegression"
   ]
  },
  {
   "cell_type": "code",
   "execution_count": 34,
   "id": "52d7cfd8",
   "metadata": {},
   "outputs": [],
   "source": [
    "# load model\n",
    "model = LogisticRegression()"
   ]
  },
  {
   "cell_type": "code",
   "execution_count": 35,
   "id": "c858ab66",
   "metadata": {},
   "outputs": [
    {
     "data": {
      "text/html": [
       "<style>#sk-container-id-3 {color: black;background-color: white;}#sk-container-id-3 pre{padding: 0;}#sk-container-id-3 div.sk-toggleable {background-color: white;}#sk-container-id-3 label.sk-toggleable__label {cursor: pointer;display: block;width: 100%;margin-bottom: 0;padding: 0.3em;box-sizing: border-box;text-align: center;}#sk-container-id-3 label.sk-toggleable__label-arrow:before {content: \"▸\";float: left;margin-right: 0.25em;color: #696969;}#sk-container-id-3 label.sk-toggleable__label-arrow:hover:before {color: black;}#sk-container-id-3 div.sk-estimator:hover label.sk-toggleable__label-arrow:before {color: black;}#sk-container-id-3 div.sk-toggleable__content {max-height: 0;max-width: 0;overflow: hidden;text-align: left;background-color: #f0f8ff;}#sk-container-id-3 div.sk-toggleable__content pre {margin: 0.2em;color: black;border-radius: 0.25em;background-color: #f0f8ff;}#sk-container-id-3 input.sk-toggleable__control:checked~div.sk-toggleable__content {max-height: 200px;max-width: 100%;overflow: auto;}#sk-container-id-3 input.sk-toggleable__control:checked~label.sk-toggleable__label-arrow:before {content: \"▾\";}#sk-container-id-3 div.sk-estimator input.sk-toggleable__control:checked~label.sk-toggleable__label {background-color: #d4ebff;}#sk-container-id-3 div.sk-label input.sk-toggleable__control:checked~label.sk-toggleable__label {background-color: #d4ebff;}#sk-container-id-3 input.sk-hidden--visually {border: 0;clip: rect(1px 1px 1px 1px);clip: rect(1px, 1px, 1px, 1px);height: 1px;margin: -1px;overflow: hidden;padding: 0;position: absolute;width: 1px;}#sk-container-id-3 div.sk-estimator {font-family: monospace;background-color: #f0f8ff;border: 1px dotted black;border-radius: 0.25em;box-sizing: border-box;margin-bottom: 0.5em;}#sk-container-id-3 div.sk-estimator:hover {background-color: #d4ebff;}#sk-container-id-3 div.sk-parallel-item::after {content: \"\";width: 100%;border-bottom: 1px solid gray;flex-grow: 1;}#sk-container-id-3 div.sk-label:hover label.sk-toggleable__label {background-color: #d4ebff;}#sk-container-id-3 div.sk-serial::before {content: \"\";position: absolute;border-left: 1px solid gray;box-sizing: border-box;top: 0;bottom: 0;left: 50%;z-index: 0;}#sk-container-id-3 div.sk-serial {display: flex;flex-direction: column;align-items: center;background-color: white;padding-right: 0.2em;padding-left: 0.2em;position: relative;}#sk-container-id-3 div.sk-item {position: relative;z-index: 1;}#sk-container-id-3 div.sk-parallel {display: flex;align-items: stretch;justify-content: center;background-color: white;position: relative;}#sk-container-id-3 div.sk-item::before, #sk-container-id-3 div.sk-parallel-item::before {content: \"\";position: absolute;border-left: 1px solid gray;box-sizing: border-box;top: 0;bottom: 0;left: 50%;z-index: -1;}#sk-container-id-3 div.sk-parallel-item {display: flex;flex-direction: column;z-index: 1;position: relative;background-color: white;}#sk-container-id-3 div.sk-parallel-item:first-child::after {align-self: flex-end;width: 50%;}#sk-container-id-3 div.sk-parallel-item:last-child::after {align-self: flex-start;width: 50%;}#sk-container-id-3 div.sk-parallel-item:only-child::after {width: 0;}#sk-container-id-3 div.sk-dashed-wrapped {border: 1px dashed gray;margin: 0 0.4em 0.5em 0.4em;box-sizing: border-box;padding-bottom: 0.4em;background-color: white;}#sk-container-id-3 div.sk-label label {font-family: monospace;font-weight: bold;display: inline-block;line-height: 1.2em;}#sk-container-id-3 div.sk-label-container {text-align: center;}#sk-container-id-3 div.sk-container {/* jupyter's `normalize.less` sets `[hidden] { display: none; }` but bootstrap.min.css set `[hidden] { display: none !important; }` so we also need the `!important` here to be able to override the default hidden behavior on the sphinx rendered scikit-learn.org. See: https://github.com/scikit-learn/scikit-learn/issues/21755 */display: inline-block !important;position: relative;}#sk-container-id-3 div.sk-text-repr-fallback {display: none;}</style><div id=\"sk-container-id-3\" class=\"sk-top-container\"><div class=\"sk-text-repr-fallback\"><pre>LogisticRegression()</pre><b>In a Jupyter environment, please rerun this cell to show the HTML representation or trust the notebook. <br />On GitHub, the HTML representation is unable to render, please try loading this page with nbviewer.org.</b></div><div class=\"sk-container\" hidden><div class=\"sk-item\"><div class=\"sk-estimator sk-toggleable\"><input class=\"sk-toggleable__control sk-hidden--visually\" id=\"sk-estimator-id-3\" type=\"checkbox\" checked><label for=\"sk-estimator-id-3\" class=\"sk-toggleable__label sk-toggleable__label-arrow\">LogisticRegression</label><div class=\"sk-toggleable__content\"><pre>LogisticRegression()</pre></div></div></div></div></div>"
      ],
      "text/plain": [
       "LogisticRegression()"
      ]
     },
     "execution_count": 35,
     "metadata": {},
     "output_type": "execute_result"
    }
   ],
   "source": [
    "# fit model\n",
    "model.fit(X, y)"
   ]
  },
  {
   "cell_type": "code",
   "execution_count": 36,
   "id": "8ad8f965",
   "metadata": {},
   "outputs": [
    {
     "data": {
      "text/plain": [
       "array([0, 0, 0, 0, 0, 0, 0, 0, 0, 0, 0, 0, 0, 0, 0, 0, 0, 0, 0, 0, 0, 0,\n",
       "       0, 0, 0, 0, 0, 0, 0, 0, 0, 0, 0, 0, 0, 0, 0, 0, 0, 0, 0, 0, 0, 0,\n",
       "       0, 0, 0, 0, 0, 0, 1, 1, 1, 1, 1, 1, 1, 1, 1, 1, 1, 1, 1, 1, 1, 1,\n",
       "       1, 1, 1, 1, 1, 1, 1, 1, 1, 1, 1, 1, 1, 1, 1, 1, 1, 1, 1, 1, 1, 1,\n",
       "       1, 1, 1, 1, 1, 1, 1, 1, 1, 1, 1, 1, 1, 1, 1, 1, 1, 1, 1, 1, 1, 1,\n",
       "       1, 1, 1, 1, 1, 1, 1, 1, 1, 1, 1, 1, 1, 1, 1, 1, 1, 1, 1, 1, 1, 1,\n",
       "       1, 1, 1, 1, 1, 1, 1, 1, 1, 1, 1, 1, 1, 1, 1, 1, 1, 1])"
      ]
     },
     "execution_count": 36,
     "metadata": {},
     "output_type": "execute_result"
    }
   ],
   "source": [
    "# Predict Model\n",
    "preds = model.predict(X)\n",
    "preds"
   ]
  },
  {
   "cell_type": "code",
   "execution_count": 37,
   "id": "95d10eac",
   "metadata": {},
   "outputs": [
    {
     "data": {
      "text/plain": [
       "1.0"
      ]
     },
     "execution_count": 37,
     "metadata": {},
     "output_type": "execute_result"
    }
   ],
   "source": [
    "metrics.accuracy_score(y, preds)"
   ]
  },
  {
   "cell_type": "markdown",
   "id": "69a1221b",
   "metadata": {},
   "source": [
    "# Fourth Example"
   ]
  },
  {
   "cell_type": "code",
   "execution_count": 44,
   "id": "a2767154",
   "metadata": {},
   "outputs": [],
   "source": [
    "#Logistic Regression\n",
    "\n",
    "# Importing the libraries\n",
    "import numpy as np\n",
    "import matplotlib.pyplot as plt\n",
    "import pandas as pd\n",
    "#Importing the data\n",
    "df =pd.read_csv('Chip_test.csv').values"
   ]
  },
  {
   "cell_type": "code",
   "execution_count": 45,
   "id": "394386f5",
   "metadata": {},
   "outputs": [],
   "source": [
    "x= df[:, 0:2 ]\n",
    "y= df[:, -1] "
   ]
  },
  {
   "cell_type": "code",
   "execution_count": 46,
   "id": "d4920374",
   "metadata": {},
   "outputs": [],
   "source": [
    "# Splitting the dataset into the Training set and Test set\n",
    "from sklearn.model_selection import train_test_split\n",
    "x_train, x_test, y_train, y_test = train_test_split(x, y, test_size = 0.25)"
   ]
  },
  {
   "cell_type": "code",
   "execution_count": 47,
   "id": "fb3b1d39",
   "metadata": {},
   "outputs": [
    {
     "data": {
      "text/html": [
       "<style>#sk-container-id-5 {color: black;background-color: white;}#sk-container-id-5 pre{padding: 0;}#sk-container-id-5 div.sk-toggleable {background-color: white;}#sk-container-id-5 label.sk-toggleable__label {cursor: pointer;display: block;width: 100%;margin-bottom: 0;padding: 0.3em;box-sizing: border-box;text-align: center;}#sk-container-id-5 label.sk-toggleable__label-arrow:before {content: \"▸\";float: left;margin-right: 0.25em;color: #696969;}#sk-container-id-5 label.sk-toggleable__label-arrow:hover:before {color: black;}#sk-container-id-5 div.sk-estimator:hover label.sk-toggleable__label-arrow:before {color: black;}#sk-container-id-5 div.sk-toggleable__content {max-height: 0;max-width: 0;overflow: hidden;text-align: left;background-color: #f0f8ff;}#sk-container-id-5 div.sk-toggleable__content pre {margin: 0.2em;color: black;border-radius: 0.25em;background-color: #f0f8ff;}#sk-container-id-5 input.sk-toggleable__control:checked~div.sk-toggleable__content {max-height: 200px;max-width: 100%;overflow: auto;}#sk-container-id-5 input.sk-toggleable__control:checked~label.sk-toggleable__label-arrow:before {content: \"▾\";}#sk-container-id-5 div.sk-estimator input.sk-toggleable__control:checked~label.sk-toggleable__label {background-color: #d4ebff;}#sk-container-id-5 div.sk-label input.sk-toggleable__control:checked~label.sk-toggleable__label {background-color: #d4ebff;}#sk-container-id-5 input.sk-hidden--visually {border: 0;clip: rect(1px 1px 1px 1px);clip: rect(1px, 1px, 1px, 1px);height: 1px;margin: -1px;overflow: hidden;padding: 0;position: absolute;width: 1px;}#sk-container-id-5 div.sk-estimator {font-family: monospace;background-color: #f0f8ff;border: 1px dotted black;border-radius: 0.25em;box-sizing: border-box;margin-bottom: 0.5em;}#sk-container-id-5 div.sk-estimator:hover {background-color: #d4ebff;}#sk-container-id-5 div.sk-parallel-item::after {content: \"\";width: 100%;border-bottom: 1px solid gray;flex-grow: 1;}#sk-container-id-5 div.sk-label:hover label.sk-toggleable__label {background-color: #d4ebff;}#sk-container-id-5 div.sk-serial::before {content: \"\";position: absolute;border-left: 1px solid gray;box-sizing: border-box;top: 0;bottom: 0;left: 50%;z-index: 0;}#sk-container-id-5 div.sk-serial {display: flex;flex-direction: column;align-items: center;background-color: white;padding-right: 0.2em;padding-left: 0.2em;position: relative;}#sk-container-id-5 div.sk-item {position: relative;z-index: 1;}#sk-container-id-5 div.sk-parallel {display: flex;align-items: stretch;justify-content: center;background-color: white;position: relative;}#sk-container-id-5 div.sk-item::before, #sk-container-id-5 div.sk-parallel-item::before {content: \"\";position: absolute;border-left: 1px solid gray;box-sizing: border-box;top: 0;bottom: 0;left: 50%;z-index: -1;}#sk-container-id-5 div.sk-parallel-item {display: flex;flex-direction: column;z-index: 1;position: relative;background-color: white;}#sk-container-id-5 div.sk-parallel-item:first-child::after {align-self: flex-end;width: 50%;}#sk-container-id-5 div.sk-parallel-item:last-child::after {align-self: flex-start;width: 50%;}#sk-container-id-5 div.sk-parallel-item:only-child::after {width: 0;}#sk-container-id-5 div.sk-dashed-wrapped {border: 1px dashed gray;margin: 0 0.4em 0.5em 0.4em;box-sizing: border-box;padding-bottom: 0.4em;background-color: white;}#sk-container-id-5 div.sk-label label {font-family: monospace;font-weight: bold;display: inline-block;line-height: 1.2em;}#sk-container-id-5 div.sk-label-container {text-align: center;}#sk-container-id-5 div.sk-container {/* jupyter's `normalize.less` sets `[hidden] { display: none; }` but bootstrap.min.css set `[hidden] { display: none !important; }` so we also need the `!important` here to be able to override the default hidden behavior on the sphinx rendered scikit-learn.org. See: https://github.com/scikit-learn/scikit-learn/issues/21755 */display: inline-block !important;position: relative;}#sk-container-id-5 div.sk-text-repr-fallback {display: none;}</style><div id=\"sk-container-id-5\" class=\"sk-top-container\"><div class=\"sk-text-repr-fallback\"><pre>LogisticRegression()</pre><b>In a Jupyter environment, please rerun this cell to show the HTML representation or trust the notebook. <br />On GitHub, the HTML representation is unable to render, please try loading this page with nbviewer.org.</b></div><div class=\"sk-container\" hidden><div class=\"sk-item\"><div class=\"sk-estimator sk-toggleable\"><input class=\"sk-toggleable__control sk-hidden--visually\" id=\"sk-estimator-id-5\" type=\"checkbox\" checked><label for=\"sk-estimator-id-5\" class=\"sk-toggleable__label sk-toggleable__label-arrow\">LogisticRegression</label><div class=\"sk-toggleable__content\"><pre>LogisticRegression()</pre></div></div></div></div></div>"
      ],
      "text/plain": [
       "LogisticRegression()"
      ]
     },
     "execution_count": 47,
     "metadata": {},
     "output_type": "execute_result"
    }
   ],
   "source": [
    "#Fitting Logistic Regresssion to Training Set\n",
    "from sklearn.linear_model import LogisticRegression\n",
    "model = LogisticRegression()\n",
    "model.fit(x_train,y_train)"
   ]
  },
  {
   "cell_type": "code",
   "execution_count": 48,
   "id": "ac7a92d6",
   "metadata": {},
   "outputs": [
    {
     "data": {
      "text/plain": [
       "numpy.ndarray"
      ]
     },
     "execution_count": 48,
     "metadata": {},
     "output_type": "execute_result"
    }
   ],
   "source": [
    "type(df)"
   ]
  },
  {
   "cell_type": "code",
   "execution_count": 49,
   "id": "f86eb830",
   "metadata": {},
   "outputs": [
    {
     "data": {
      "text/plain": [
       "array([0., 1., 0., 0., 0., 0., 0., 1., 0., 0., 1., 1., 0., 1., 0., 0., 0.,\n",
       "       1., 0., 1., 0., 0., 0., 0., 0., 1., 1., 0., 0., 1.])"
      ]
     },
     "execution_count": 49,
     "metadata": {},
     "output_type": "execute_result"
    }
   ],
   "source": [
    "#Predicting the Test Set Results\n",
    "y_pred = model.predict(x_test)\n",
    "y_pred"
   ]
  },
  {
   "cell_type": "code",
   "execution_count": 50,
   "id": "3b8e446d",
   "metadata": {},
   "outputs": [
    {
     "data": {
      "text/plain": [
       "array([[ 7,  6],\n",
       "       [13,  4]], dtype=int64)"
      ]
     },
     "execution_count": 50,
     "metadata": {},
     "output_type": "execute_result"
    }
   ],
   "source": [
    "from sklearn.metrics import confusion_matrix\n",
    "cm = confusion_matrix(y_test,y_pred)\n",
    "cm"
   ]
  },
  {
   "cell_type": "code",
   "execution_count": 51,
   "id": "39098459",
   "metadata": {},
   "outputs": [
    {
     "data": {
      "text/plain": [
       "<Axes: >"
      ]
     },
     "execution_count": 51,
     "metadata": {},
     "output_type": "execute_result"
    },
    {
     "data": {
      "image/png": "[encoded data removed]",
      "text/plain": [
       "<Figure size 640x480 with 2 Axes>"
      ]
     },
     "metadata": {},
     "output_type": "display_data"
    }
   ],
   "source": [
    "import seaborn as sns\n",
    "sns.heatmap(cm, annot=True, cmap='Blues')"
   ]
  },
  {
   "cell_type": "code",
   "execution_count": 52,
   "id": "2a13679f",
   "metadata": {},
   "outputs": [
    {
     "data": {
      "text/plain": [
       "0.36666666666666664"
      ]
     },
     "execution_count": 52,
     "metadata": {},
     "output_type": "execute_result"
    }
   ],
   "source": [
    "metrics.accuracy_score(y_test, y_pred)"
   ]
  },
  {
   "cell_type": "markdown",
   "id": "0e3c0ea2",
   "metadata": {},
   "source": [
    "# Fifth example"
   ]
  },
  {
   "cell_type": "code",
   "execution_count": 53,
   "id": "5936d04a",
   "metadata": {},
   "outputs": [
    {
     "data": {
      "text/plain": [
       "(100, 3)"
      ]
     },
     "execution_count": 53,
     "metadata": {},
     "output_type": "execute_result"
    }
   ],
   "source": [
    "#Logistic Regression\n",
    "\n",
    "# Importing the libraries\n",
    "import numpy as np\n",
    "import matplotlib.pyplot as plt\n",
    "import pandas as pd\n",
    "\n",
    "# Importing the dataset\n",
    "df = pd.read_csv('examdata.csv').values\n",
    "df.shape"
   ]
  },
  {
   "cell_type": "code",
   "execution_count": 54,
   "id": "fe555690",
   "metadata": {},
   "outputs": [],
   "source": [
    "x = df[:, 0:2]\n",
    "y = df[:, 2]"
   ]
  },
  {
   "cell_type": "code",
   "execution_count": 55,
   "id": "0d20c067",
   "metadata": {},
   "outputs": [
    {
     "data": {
      "text/plain": [
       "(array([[34.62, 78.02],\n",
       "        [30.29, 43.89],\n",
       "        [35.85, 72.9 ],\n",
       "        [60.18, 86.31],\n",
       "        [79.03, 75.34],\n",
       "        [45.08, 56.32],\n",
       "        [61.11, 96.51],\n",
       "        [75.02, 46.55],\n",
       "        [76.1 , 87.42],\n",
       "        [84.43, 43.53],\n",
       "        [95.86, 38.23],\n",
       "        [75.01, 30.6 ],\n",
       "        [82.31, 76.48],\n",
       "        [69.36, 97.72],\n",
       "        [39.54, 76.04],\n",
       "        [53.97, 89.21],\n",
       "        [69.07, 52.74],\n",
       "        [67.95, 46.68],\n",
       "        [70.66, 92.93],\n",
       "        [76.98, 47.58],\n",
       "        [67.37, 42.84],\n",
       "        [89.68, 65.8 ],\n",
       "        [50.53, 48.86],\n",
       "        [34.21, 44.21],\n",
       "        [77.92, 68.97],\n",
       "        [62.27, 69.95],\n",
       "        [80.19, 44.82],\n",
       "        [93.11, 38.8 ],\n",
       "        [61.83, 50.26],\n",
       "        [38.79, 65.  ],\n",
       "        [61.38, 72.81],\n",
       "        [85.4 , 57.05],\n",
       "        [52.11, 63.13],\n",
       "        [52.05, 69.43],\n",
       "        [40.24, 71.17],\n",
       "        [54.64, 52.21],\n",
       "        [33.92, 98.87],\n",
       "        [64.18, 80.91],\n",
       "        [74.79, 41.57],\n",
       "        [34.18, 75.24],\n",
       "        [83.9 , 56.31],\n",
       "        [51.55, 46.86],\n",
       "        [94.44, 65.57],\n",
       "        [82.37, 40.62],\n",
       "        [51.05, 45.82],\n",
       "        [62.22, 52.06],\n",
       "        [77.19, 70.46],\n",
       "        [97.77, 86.73],\n",
       "        [62.07, 96.77],\n",
       "        [91.56, 88.7 ],\n",
       "        [79.94, 74.16],\n",
       "        [99.27, 61.  ],\n",
       "        [90.55, 43.39],\n",
       "        [34.52, 60.4 ],\n",
       "        [50.29, 49.8 ],\n",
       "        [49.59, 59.81],\n",
       "        [97.65, 68.86],\n",
       "        [32.58, 95.6 ],\n",
       "        [74.25, 69.82],\n",
       "        [71.8 , 78.45],\n",
       "        [75.4 , 85.76],\n",
       "        [35.29, 47.02],\n",
       "        [56.25, 39.26],\n",
       "        [30.06, 49.59],\n",
       "        [44.67, 66.45],\n",
       "        [66.56, 41.09],\n",
       "        [40.46, 97.54],\n",
       "        [49.07, 51.88],\n",
       "        [80.28, 92.12],\n",
       "        [66.75, 60.99],\n",
       "        [32.72, 43.31],\n",
       "        [64.04, 78.03],\n",
       "        [72.35, 96.23],\n",
       "        [60.46, 73.09],\n",
       "        [58.84, 75.86],\n",
       "        [99.83, 72.37],\n",
       "        [47.26, 88.48],\n",
       "        [50.46, 75.81],\n",
       "        [60.46, 42.51],\n",
       "        [82.23, 42.72],\n",
       "        [88.91, 69.8 ],\n",
       "        [94.83, 45.69],\n",
       "        [67.32, 66.59],\n",
       "        [57.24, 59.51],\n",
       "        [80.37, 90.96],\n",
       "        [68.47, 85.59],\n",
       "        [42.08, 78.84],\n",
       "        [75.48, 90.42],\n",
       "        [78.64, 96.65],\n",
       "        [52.35, 60.77],\n",
       "        [94.09, 77.16],\n",
       "        [90.45, 87.51],\n",
       "        [55.48, 35.57],\n",
       "        [74.49, 84.85],\n",
       "        [89.85, 45.36],\n",
       "        [83.49, 48.38],\n",
       "        [42.26, 87.1 ],\n",
       "        [99.32, 68.78],\n",
       "        [55.34, 64.93],\n",
       "        [74.78, 89.53]]),\n",
       " array([0., 0., 0., 1., 1., 0., 1., 1., 1., 1., 0., 0., 1., 1., 0., 1., 1.,\n",
       "        0., 1., 1., 0., 1., 0., 0., 1., 1., 1., 0., 0., 0., 1., 1., 0., 1.,\n",
       "        0., 0., 0., 1., 0., 0., 1., 0., 1., 0., 0., 0., 1., 1., 1., 1., 1.,\n",
       "        1., 1., 0., 0., 0., 1., 0., 1., 1., 1., 0., 0., 0., 0., 0., 1., 0.,\n",
       "        1., 1., 0., 1., 1., 1., 1., 1., 1., 1., 0., 0., 1., 1., 1., 1., 1.,\n",
       "        1., 0., 1., 1., 0., 1., 1., 0., 1., 1., 1., 1., 1., 1., 1.]))"
      ]
     },
     "execution_count": 55,
     "metadata": {},
     "output_type": "execute_result"
    }
   ],
   "source": [
    "x,y"
   ]
  },
  {
   "cell_type": "code",
   "execution_count": 56,
   "id": "4da42b23",
   "metadata": {},
   "outputs": [],
   "source": [
    "# Splitting the dataset into the Training set and Test set\n",
    "from sklearn.model_selection import train_test_split"
   ]
  },
  {
   "cell_type": "code",
   "execution_count": 58,
   "id": "44a78354",
   "metadata": {},
   "outputs": [],
   "source": [
    "x_train, x_test, y_train, y_test = train_test_split(x, y, test_size = 0.20)\n",
    "# 80% train data and 20% test data\n"
   ]
  },
  {
   "cell_type": "code",
   "execution_count": 59,
   "id": "32717d16",
   "metadata": {},
   "outputs": [],
   "source": [
    "# Feature Scaling\n",
    "from sklearn.preprocessing import StandardScaler"
   ]
  },
  {
   "cell_type": "code",
   "execution_count": 61,
   "id": "6e47d746",
   "metadata": {},
   "outputs": [],
   "source": [
    "# Feature Scaling\n",
    "from sklearn.preprocessing import StandardScaler\n",
    "sc_x = StandardScaler()\n",
    "x_train = sc_x.fit_transform(x_train)\n",
    "x_test = sc_x.transform(x_test)\n",
    "\n",
    "#Fitting Logistic Regresssion to Training Set\n",
    "from sklearn.linear_model import LogisticRegression\n",
    "classifier = LogisticRegression(random_state =0)\n",
    "classifier.fit(x_train,y_train)\n",
    "\n",
    "#Predicting the Test Set Results\n",
    "y_pred = classifier.predict(x_test)"
   ]
  },
  {
   "cell_type": "code",
   "execution_count": 63,
   "id": "a00e1b6e",
   "metadata": {},
   "outputs": [
    {
     "data": {
      "text/plain": [
       "array([[ 8,  1],\n",
       "       [ 1, 10]], dtype=int64)"
      ]
     },
     "execution_count": 63,
     "metadata": {},
     "output_type": "execute_result"
    }
   ],
   "source": [
    "#Making the Confusion Matrix\n",
    "from sklearn.metrics import confusion_matrix\n",
    "cm = confusion_matrix(y_test, y_pred)\n",
    "cm"
   ]
  },
  {
   "cell_type": "code",
   "execution_count": 64,
   "id": "b8099553",
   "metadata": {},
   "outputs": [
    {
     "name": "stderr",
     "output_type": "stream",
     "text": [
      "C:\\Users\\KIIT\\AppData\\Local\\Temp\\ipykernel_17940\\3276025860.py:11: UserWarning: *c* argument looks like a single numeric RGB or RGBA sequence, which should be avoided as value-mapping will have precedence in case its length matches with *x* & *y*.  Please use the *color* keyword-argument or provide a 2D array with a single row if you intend to specify the same RGB or RGBA value for all points.\n",
      "  plt.scatter(x_set[y_set == j ,0], x_set[y_set == j,1],\n"
     ]
    },
    {
     "data": {
      "image/png": "[encoded data removed]",
      "text/plain": [
       "<Figure size 640x480 with 1 Axes>"
      ]
     },
     "metadata": {},
     "output_type": "display_data"
    }
   ],
   "source": [
    "#Visualizing the Training Set Results\n",
    "from matplotlib.colors import ListedColormap\n",
    "x_set , y_set = x_train ,y_train\n",
    "x1, x2 = np.meshgrid(np.arange(start = x_set[:,0].min()-1,stop =x_set[:,0].max()+1,step=0.01),\n",
    "                    np.arange(start = x_set[:,1].min()-1,stop =x_set[:,1].max()+1,step=0.01))\n",
    "plt.contour(x1,x2,classifier.predict(np.array([x1.ravel(),x2.ravel()]).T).reshape(x1.shape),\n",
    "            alpha= 0.75 ,cmap = ListedColormap(('red','green')))\n",
    "plt.xlim(x1.min() ,x1.max())\n",
    "plt.ylim(x2.min() ,x2.max())\n",
    "for i,j in enumerate(np.unique(y_set)):\n",
    "    plt.scatter(x_set[y_set == j ,0], x_set[y_set == j,1],\n",
    "                c= ListedColormap(('red' , 'green'))(i) , label = j)\n",
    "plt.title('Logistic Regression(Training Set)')\n",
    "plt.legend()\n",
    "plt.show()"
   ]
  },
  {
   "cell_type": "code",
   "execution_count": 65,
   "id": "a2b1fdc3",
   "metadata": {},
   "outputs": [
    {
     "name": "stderr",
     "output_type": "stream",
     "text": [
      "C:\\Users\\KIIT\\AppData\\Local\\Temp\\ipykernel_17940\\899012761.py:11: UserWarning: *c* argument looks like a single numeric RGB or RGBA sequence, which should be avoided as value-mapping will have precedence in case its length matches with *x* & *y*.  Please use the *color* keyword-argument or provide a 2D array with a single row if you intend to specify the same RGB or RGBA value for all points.\n",
      "  plt.scatter(x_set[y_set == j ,0], x_set[y_set == j,1],\n"
     ]
    },
    {
     "data": {
      "text/plain": [
       "<matplotlib.legend.Legend at 0x1de365d6ed0>"
      ]
     },
     "execution_count": 65,
     "metadata": {},
     "output_type": "execute_result"
    },
    {
     "data": {
      "image/png": "[encoded data removed]",
      "text/plain": [
       "<Figure size 640x480 with 1 Axes>"
      ]
     },
     "metadata": {},
     "output_type": "display_data"
    }
   ],
   "source": [
    "#Visualizing the Test Set Results\n",
    "from matplotlib.colors import ListedColormap\n",
    "x_set , y_set = x_test ,y_test\n",
    "x1, x2 = np.meshgrid(np.arange(start = x_set[:,0].min()-1,stop =x_set[:,0].max()+1,step=0.01),\n",
    "                    np.arange(start = x_set[:,1].min()-1,stop =x_set[:,1].max()+1,step=0.01))\n",
    "plt.contour(x1,x2,classifier.predict(np.array([x1.ravel(),x2.ravel()]).T).reshape(x1.shape),\n",
    "            alpha= 0.75 ,cmap = ListedColormap(('red','green')))\n",
    "plt.xlim(x1.min() ,x1.max())\n",
    "plt.ylim(x2.min() ,x2.max())\n",
    "for i,j in enumerate(np.unique(y_set)):\n",
    "    plt.scatter(x_set[y_set == j ,0], x_set[y_set == j,1],\n",
    "                c= ListedColormap(('red' , 'green'))(i) , label = j)\n",
    "plt.title('Test Set')\n",
    " \n",
    "plt.legend()"
   ]
  },
  {
   "cell_type": "code",
   "execution_count": 66,
   "id": "fa80364b",
   "metadata": {},
   "outputs": [
    {
     "data": {
      "text/plain": [
       "0.9"
      ]
     },
     "execution_count": 66,
     "metadata": {},
     "output_type": "execute_result"
    }
   ],
   "source": [
    "metrics.accuracy_score(y_test, y_pred)"
   ]
  },
  {
   "cell_type": "markdown",
   "id": "8776aa00",
   "metadata": {},
   "source": [
    "# sixth example"
   ]
  },
  {
   "cell_type": "code",
   "execution_count": 67,
   "id": "68faa4a4",
   "metadata": {},
   "outputs": [
    {
     "data": {
      "text/plain": [
       "array([[108,  23],\n",
       "       [ 45,  16]], dtype=int64)"
      ]
     },
     "execution_count": 67,
     "metadata": {},
     "output_type": "execute_result"
    }
   ],
   "source": [
    "import numpy as np\n",
    "import matplotlib.pyplot as plt\n",
    "import pandas as pd\n",
    "\n",
    "# Importing the dataset\n",
    "dataset = pd.read_csv('LR_df.csv').values\n",
    "X = dataset[:, 0].reshape(-1, 1)\n",
    "y = dataset[:, -1] \n",
    "\n",
    "# Splitting the dataset into the Training set and Test set\n",
    "from sklearn.model_selection import train_test_split\n",
    "X_train, X_test, y_train, y_test = train_test_split(X, y, test_size = 0.25, random_state = 0)\n",
    "# Feature Scaling\n",
    "from sklearn.preprocessing import StandardScaler\n",
    "sc_X = StandardScaler() \n",
    "X_train = sc_X.fit_transform(X_train)\n",
    "X_test = sc_X.transform(X_test)\n",
    "\n",
    "#Fitting Logistic Regresssion to Training Set\n",
    "from sklearn.linear_model import LogisticRegression\n",
    "classifier = LogisticRegression(random_state =0)\n",
    "classifier.fit(X_train,y_train)\n",
    "\n",
    "#Predicting the Test Set Results\n",
    "y_pred = classifier.predict(X_test) \n",
    "\n",
    "#Making the Confusion Matrix\n",
    "from sklearn.metrics import confusion_matrix\n",
    "cm = confusion_matrix(y_test,y_pred)\n",
    "cm\n",
    "\n"
   ]
  },
  {
   "cell_type": "code",
   "execution_count": 68,
   "id": "215d58ca",
   "metadata": {},
   "outputs": [
    {
     "data": {
      "text/plain": [
       "<Axes: >"
      ]
     },
     "execution_count": 68,
     "metadata": {},
     "output_type": "execute_result"
    },
    {
     "data": {
      "image/png": "[encoded data removed]",
      "text/plain": [
       "<Figure size 640x480 with 2 Axes>"
      ]
     },
     "metadata": {},
     "output_type": "display_data"
    }
   ],
   "source": [
    "import seaborn as sns\n",
    "sns.heatmap(cm, annot=True, cmap='Blues')"
   ]
  },
  {
   "cell_type": "code",
   "execution_count": 69,
   "id": "830e97a3",
   "metadata": {},
   "outputs": [
    {
     "data": {
      "text/plain": [
       "0.6458333333333334"
      ]
     },
     "execution_count": 69,
     "metadata": {},
     "output_type": "execute_result"
    }
   ],
   "source": [
    "metrics.accuracy_score(y_test, y_pred)"
   ]
  },
  {
   "cell_type": "code",
   "execution_count": null,
   "id": "35a54a7e",
   "metadata": {},
   "outputs": [],
   "source": []
  }
 ],
 "metadata": {
  "kernelspec": {
   "display_name": "Python 3 (ipykernel)",
   "language": "python",
   "name": "python3"
  },
  "language_info": {
   "codemirror_mode": {
    "name": "ipython",
    "version": 3
   },
   "file_extension": ".py",
   "mimetype": "text/x-python",
   "name": "python",
   "nbconvert_exporter": "python",
   "pygments_lexer": "ipython3",
   "version": "3.11.3"
  }
 },
 "nbformat": 4,
 "nbformat_minor": 5
}
