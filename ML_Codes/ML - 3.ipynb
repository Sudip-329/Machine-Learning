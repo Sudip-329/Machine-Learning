{
 "cells": [
  {
   "cell_type": "code",
   "execution_count": 6,
   "id": "7c942d43",
   "metadata": {},
   "outputs": [
    {
     "data": {
      "text/plain": [
       "list"
      ]
     },
     "execution_count": 6,
     "metadata": {},
     "output_type": "execute_result"
    }
   ],
   "source": [
    "list = [1,1,1,1,1,2,3,4]\n",
    "type(list)"
   ]
  },
  {
   "cell_type": "code",
   "execution_count": 7,
   "id": "28980897",
   "metadata": {},
   "outputs": [
    {
     "data": {
      "text/plain": [
       "14"
      ]
     },
     "execution_count": 7,
     "metadata": {},
     "output_type": "execute_result"
    }
   ],
   "source": [
    "sum(list)"
   ]
  },
  {
   "cell_type": "code",
   "execution_count": 8,
   "id": "5b682740",
   "metadata": {},
   "outputs": [],
   "source": [
    "# count fnc counts total occurance in a list"
   ]
  },
  {
   "cell_type": "code",
   "execution_count": 9,
   "id": "be0162c3",
   "metadata": {},
   "outputs": [
    {
     "data": {
      "text/plain": [
       "5"
      ]
     },
     "execution_count": 9,
     "metadata": {},
     "output_type": "execute_result"
    }
   ],
   "source": [
    "list.count(1)"
   ]
  },
  {
   "cell_type": "code",
   "execution_count": 10,
   "id": "fcda91f0",
   "metadata": {},
   "outputs": [
    {
     "data": {
      "text/plain": [
       "4"
      ]
     },
     "execution_count": 10,
     "metadata": {},
     "output_type": "execute_result"
    }
   ],
   "source": [
    "max(list)"
   ]
  },
  {
   "cell_type": "code",
   "execution_count": 11,
   "id": "5abf9c9a",
   "metadata": {},
   "outputs": [
    {
     "data": {
      "text/plain": [
       "1"
      ]
     },
     "execution_count": 11,
     "metadata": {},
     "output_type": "execute_result"
    }
   ],
   "source": [
    "min(list)"
   ]
  },
  {
   "cell_type": "markdown",
   "id": "cb44dfbf",
   "metadata": {},
   "source": [
    "# Sets "
   ]
  },
  {
   "cell_type": "code",
   "execution_count": 12,
   "id": "a2890e78",
   "metadata": {},
   "outputs": [],
   "source": [
    "# set has no duplicate elements"
   ]
  },
  {
   "cell_type": "code",
   "execution_count": 13,
   "id": "afc5ea15",
   "metadata": {},
   "outputs": [
    {
     "name": "stdout",
     "output_type": "stream",
     "text": [
      "set()\n"
     ]
    }
   ],
   "source": [
    "set_var = set()\n",
    "print(set_var)"
   ]
  },
  {
   "cell_type": "code",
   "execution_count": 14,
   "id": "e76e81b7",
   "metadata": {},
   "outputs": [
    {
     "data": {
      "text/plain": [
       "set"
      ]
     },
     "execution_count": 14,
     "metadata": {},
     "output_type": "execute_result"
    }
   ],
   "source": [
    "type(set_var)"
   ]
  },
  {
   "cell_type": "code",
   "execution_count": 15,
   "id": "503a8509",
   "metadata": {},
   "outputs": [],
   "source": [
    "# 2nd bracjet on sets and 3rd bracket on list"
   ]
  },
  {
   "cell_type": "code",
   "execution_count": 16,
   "id": "28d4effb",
   "metadata": {},
   "outputs": [],
   "source": [
    "set_var = {'sudip', 'sorup', 'pappu'}"
   ]
  },
  {
   "cell_type": "code",
   "execution_count": 17,
   "id": "0a40c0b6",
   "metadata": {},
   "outputs": [
    {
     "name": "stdout",
     "output_type": "stream",
     "text": [
      "{'pappu', 'sudip', 'sorup'}\n"
     ]
    }
   ],
   "source": [
    "print(set_var)"
   ]
  },
  {
   "cell_type": "code",
   "execution_count": 18,
   "id": "a328026c",
   "metadata": {},
   "outputs": [
    {
     "name": "stdout",
     "output_type": "stream",
     "text": [
      "{1}\n"
     ]
    }
   ],
   "source": [
    "set_var2 = {1,1,1,1}\n",
    "print(set_var2)"
   ]
  },
  {
   "cell_type": "code",
   "execution_count": 19,
   "id": "e0918245",
   "metadata": {},
   "outputs": [],
   "source": [
    "#only one will show no duplicate"
   ]
  },
  {
   "cell_type": "markdown",
   "id": "52d0246a",
   "metadata": {},
   "source": [
    "set doesn't support indexing "
   ]
  },
  {
   "cell_type": "code",
   "execution_count": 20,
   "id": "a4423645",
   "metadata": {},
   "outputs": [
    {
     "ename": "TypeError",
     "evalue": "'set' object is not callable",
     "output_type": "error",
     "traceback": [
      "\u001b[1;31m---------------------------------------------------------------------------\u001b[0m",
      "\u001b[1;31mTypeError\u001b[0m                                 Traceback (most recent call last)",
      "Input \u001b[1;32mIn [20]\u001b[0m, in \u001b[0;36m<cell line: 1>\u001b[1;34m()\u001b[0m\n\u001b[1;32m----> 1\u001b[0m \u001b[43mset_var\u001b[49m\u001b[43m(\u001b[49m\u001b[38;5;241;43m1\u001b[39;49m\u001b[43m)\u001b[49m\n",
      "\u001b[1;31mTypeError\u001b[0m: 'set' object is not callable"
     ]
    }
   ],
   "source": [
    "set_var(1)"
   ]
  },
  {
   "cell_type": "code",
   "execution_count": 22,
   "id": "de37df0b",
   "metadata": {},
   "outputs": [
    {
     "ename": "TypeError",
     "evalue": "'set' object is not callable",
     "output_type": "error",
     "traceback": [
      "\u001b[1;31m---------------------------------------------------------------------------\u001b[0m",
      "\u001b[1;31mTypeError\u001b[0m                                 Traceback (most recent call last)",
      "Input \u001b[1;32mIn [22]\u001b[0m, in \u001b[0;36m<cell line: 1>\u001b[1;34m()\u001b[0m\n\u001b[1;32m----> 1\u001b[0m \u001b[43mset_var\u001b[49m\u001b[43m(\u001b[49m\u001b[38;5;124;43m'\u001b[39;49m\u001b[38;5;124;43mpappu\u001b[39;49m\u001b[38;5;124;43m'\u001b[39;49m\u001b[43m)\u001b[49m\n",
      "\u001b[1;31mTypeError\u001b[0m: 'set' object is not callable"
     ]
    }
   ],
   "source": [
    "set_var('pappu')"
   ]
  },
  {
   "cell_type": "code",
   "execution_count": 23,
   "id": "fc2a4678",
   "metadata": {},
   "outputs": [],
   "source": [
    "set_var.add(\"sapthak\")"
   ]
  },
  {
   "cell_type": "code",
   "execution_count": 24,
   "id": "3ebd33cd",
   "metadata": {},
   "outputs": [
    {
     "name": "stdout",
     "output_type": "stream",
     "text": [
      "{'pappu', 'sudip', 'sapthak', 'sorup'}\n"
     ]
    }
   ],
   "source": [
    "print(set_var)"
   ]
  },
  {
   "cell_type": "code",
   "execution_count": 25,
   "id": "37645441",
   "metadata": {},
   "outputs": [],
   "source": [
    "set_var.update('sudip')"
   ]
  },
  {
   "cell_type": "code",
   "execution_count": 26,
   "id": "2ddfc89a",
   "metadata": {},
   "outputs": [
    {
     "name": "stdout",
     "output_type": "stream",
     "text": [
      "{'sudip', 'sapthak', 's', 'd', 'p', 'i', 'sorup', 'u', 'pappu'}\n"
     ]
    }
   ],
   "source": [
    "print(set_var)"
   ]
  },
  {
   "cell_type": "code",
   "execution_count": 28,
   "id": "51f44117",
   "metadata": {},
   "outputs": [
    {
     "data": {
      "text/plain": [
       "set()"
      ]
     },
     "execution_count": 28,
     "metadata": {},
     "output_type": "execute_result"
    }
   ],
   "source": [
    "set1 = {1,2,3,4}\n",
    "set2 = {1,2,3,4,5}\n",
    "set2.difference(set1)\n",
    "set1.difference(set2)\n"
   ]
  },
  {
   "cell_type": "code",
   "execution_count": 29,
   "id": "9cbf8911",
   "metadata": {},
   "outputs": [
    {
     "data": {
      "text/plain": [
       "{5}"
      ]
     },
     "execution_count": 29,
     "metadata": {},
     "output_type": "execute_result"
    }
   ],
   "source": [
    "set2.difference(set1)"
   ]
  },
  {
   "cell_type": "code",
   "execution_count": 30,
   "id": "f6f64fe2",
   "metadata": {},
   "outputs": [
    {
     "data": {
      "text/plain": [
       "set()"
      ]
     },
     "execution_count": 30,
     "metadata": {},
     "output_type": "execute_result"
    }
   ],
   "source": [
    "set1.difference(set2)\n"
   ]
  },
  {
   "cell_type": "code",
   "execution_count": 32,
   "id": "b265fd0b",
   "metadata": {},
   "outputs": [
    {
     "data": {
      "text/plain": [
       "{1, 2, 3, 4}"
      ]
     },
     "execution_count": 32,
     "metadata": {},
     "output_type": "execute_result"
    }
   ],
   "source": [
    "set1.intersection(set2)"
   ]
  },
  {
   "cell_type": "code",
   "execution_count": 33,
   "id": "549b71cf",
   "metadata": {},
   "outputs": [
    {
     "data": {
      "text/plain": [
       "dict"
      ]
     },
     "execution_count": 33,
     "metadata": {},
     "output_type": "execute_result"
    }
   ],
   "source": [
    "ex = {}\n",
    "type(ex)"
   ]
  },
  {
   "cell_type": "code",
   "execution_count": 34,
   "id": "d612b8e3",
   "metadata": {},
   "outputs": [
    {
     "data": {
      "text/plain": [
       "set"
      ]
     },
     "execution_count": 34,
     "metadata": {},
     "output_type": "execute_result"
    }
   ],
   "source": [
    "ex = {1,2,3,4}\n",
    "type(ex)"
   ]
  },
  {
   "cell_type": "code",
   "execution_count": 36,
   "id": "cda9fe9d",
   "metadata": {},
   "outputs": [
    {
     "data": {
      "text/plain": [
       "dict"
      ]
     },
     "execution_count": 36,
     "metadata": {},
     "output_type": "execute_result"
    }
   ],
   "source": [
    "ex = {1 : 'sudip', 2 : 'pappu'}\n",
    "type(ex)"
   ]
  },
  {
   "cell_type": "markdown",
   "id": "e4f87548",
   "metadata": {},
   "source": [
    "Dictionary has key value pair"
   ]
  },
  {
   "cell_type": "code",
   "execution_count": 37,
   "id": "ac461d84",
   "metadata": {},
   "outputs": [
    {
     "data": {
      "text/plain": [
       "dict"
      ]
     },
     "execution_count": 37,
     "metadata": {},
     "output_type": "execute_result"
    }
   ],
   "source": [
    "my_dic = {'n1' : 'sudip', 'n2' : 'sapthak', 'n3' : 'pappu'}\n",
    "type(my_dic)"
   ]
  },
  {
   "cell_type": "code",
   "execution_count": 39,
   "id": "31f38c0d",
   "metadata": {},
   "outputs": [
    {
     "data": {
      "text/plain": [
       "'sudip'"
      ]
     },
     "execution_count": 39,
     "metadata": {},
     "output_type": "execute_result"
    }
   ],
   "source": [
    "my_dic['n1']  # giving key value to print the value"
   ]
  },
  {
   "cell_type": "code",
   "execution_count": 40,
   "id": "7cb08f58",
   "metadata": {},
   "outputs": [
    {
     "name": "stdout",
     "output_type": "stream",
     "text": [
      "n1\n",
      "n2\n",
      "n3\n"
     ]
    }
   ],
   "source": [
    "for x in my_dic:\n",
    "    print(x)"
   ]
  },
  {
   "cell_type": "code",
   "execution_count": 42,
   "id": "95c3105c",
   "metadata": {},
   "outputs": [],
   "source": [
    "my_dic['n4']= 'rajon'"
   ]
  },
  {
   "cell_type": "code",
   "execution_count": 44,
   "id": "2f97da1f",
   "metadata": {},
   "outputs": [
    {
     "name": "stdout",
     "output_type": "stream",
     "text": [
      "{'n1': 'sudip', 'n2': 'sapthak', 'n3': 'pappu', 'n4': 'rajon'}\n"
     ]
    }
   ],
   "source": [
    "print(my_dic)"
   ]
  },
  {
   "cell_type": "code",
   "execution_count": 45,
   "id": "6a7352df",
   "metadata": {},
   "outputs": [],
   "source": [
    "my_dic['n4']= 'rajon chutiya'"
   ]
  },
  {
   "cell_type": "code",
   "execution_count": 47,
   "id": "8e3301d6",
   "metadata": {},
   "outputs": [
    {
     "data": {
      "text/plain": [
       "{'n1': 'sudip', 'n2': 'sapthak', 'n3': 'pappu', 'n4': 'rajon chutiya'}"
      ]
     },
     "execution_count": 47,
     "metadata": {},
     "output_type": "execute_result"
    }
   ],
   "source": [
    "my_dic"
   ]
  },
  {
   "cell_type": "markdown",
   "id": "51cc2ea3",
   "metadata": {},
   "source": [
    "# Tuples\n",
    "## They are not mutable"
   ]
  },
  {
   "cell_type": "code",
   "execution_count": 48,
   "id": "4d30b15f",
   "metadata": {},
   "outputs": [],
   "source": [
    "# they start with round braces"
   ]
  },
  {
   "cell_type": "code",
   "execution_count": 53,
   "id": "ab563354",
   "metadata": {},
   "outputs": [],
   "source": [
    "my_tuple = (\"Krish\", \"Ankur\", \"John\", \"Krish\")\n"
   ]
  },
  {
   "cell_type": "code",
   "execution_count": 54,
   "id": "1bfe737c",
   "metadata": {},
   "outputs": [
    {
     "data": {
      "text/plain": [
       "tuple"
      ]
     },
     "execution_count": 54,
     "metadata": {},
     "output_type": "execute_result"
    }
   ],
   "source": [
    "type(my_tuple)"
   ]
  },
  {
   "cell_type": "code",
   "execution_count": 55,
   "id": "beb9b193",
   "metadata": {},
   "outputs": [
    {
     "data": {
      "text/plain": [
       "2"
      ]
     },
     "execution_count": 55,
     "metadata": {},
     "output_type": "execute_result"
    }
   ],
   "source": [
    "my_tuple.count(\"Krish\")"
   ]
  },
  {
   "cell_type": "code",
   "execution_count": null,
   "id": "8a8744be",
   "metadata": {},
   "outputs": [],
   "source": []
  }
 ],
 "metadata": {
  "kernelspec": {
   "display_name": "Python 3 (ipykernel)",
   "language": "python",
   "name": "python3"
  },
  "language_info": {
   "codemirror_mode": {
    "name": "ipython",
    "version": 3
   },
   "file_extension": ".py",
   "mimetype": "text/x-python",
   "name": "python",
   "nbconvert_exporter": "python",
   "pygments_lexer": "ipython3",
   "version": "3.9.12"
  }
 },
 "nbformat": 4,
 "nbformat_minor": 5
}
