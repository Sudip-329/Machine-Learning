{
 "cells": [
  {
   "cell_type": "markdown",
   "id": "67415d6e",
   "metadata": {},
   "source": [
    "# Map functions in Python"
   ]
  },
  {
   "cell_type": "code",
   "execution_count": 2,
   "id": "b812e708",
   "metadata": {},
   "outputs": [],
   "source": [
    "def even_or_odd(num):\n",
    "    if num%2==0:\n",
    "        return True\n",
    "    else:\n",
    "        return False"
   ]
  },
  {
   "cell_type": "code",
   "execution_count": 3,
   "id": "46e2d176",
   "metadata": {},
   "outputs": [
    {
     "data": {
      "text/plain": [
       "False"
      ]
     },
     "execution_count": 3,
     "metadata": {},
     "output_type": "execute_result"
    }
   ],
   "source": [
    "even_or_odd(5)"
   ]
  },
  {
   "cell_type": "code",
   "execution_count": 6,
   "id": "17166ef2",
   "metadata": {},
   "outputs": [],
   "source": [
    "def even_or_odd(num):\n",
    "    if num%2==0:\n",
    "        return 'The {} is Even'.format(num)\n",
    "    else:\n",
    "        return 'The {} is Odd'.format(num)"
   ]
  },
  {
   "cell_type": "code",
   "execution_count": 7,
   "id": "b45da33c",
   "metadata": {},
   "outputs": [
    {
     "data": {
      "text/plain": [
       "'The 6 is Even'"
      ]
     },
     "execution_count": 7,
     "metadata": {},
     "output_type": "execute_result"
    }
   ],
   "source": [
    "even_or_odd(6)"
   ]
  },
  {
   "cell_type": "code",
   "execution_count": 8,
   "id": "5c369d39",
   "metadata": {},
   "outputs": [
    {
     "data": {
      "text/plain": [
       "'The 9 is Odd'"
      ]
     },
     "execution_count": 8,
     "metadata": {},
     "output_type": "execute_result"
    }
   ],
   "source": [
    "even_or_odd(9)"
   ]
  },
  {
   "cell_type": "code",
   "execution_count": 11,
   "id": "1ce3cb75",
   "metadata": {},
   "outputs": [],
   "source": [
    "lst = [1,2,3,4,5,6,7,8,9,24,56,78]\n",
    "# if i want to find all the odds or even from the lsit i can \n",
    "# loop through the list\n",
    "#  best way is using the lambda function"
   ]
  },
  {
   "cell_type": "code",
   "execution_count": 13,
   "id": "35499e80",
   "metadata": {},
   "outputs": [
    {
     "data": {
      "text/plain": [
       "<map at 0x1c57534e890>"
      ]
     },
     "execution_count": 13,
     "metadata": {},
     "output_type": "execute_result"
    }
   ],
   "source": [
    "map(even_or_odd,lst)"
   ]
  },
  {
   "cell_type": "code",
   "execution_count": 14,
   "id": "cf00f951",
   "metadata": {},
   "outputs": [
    {
     "data": {
      "text/plain": [
       "['The 1 is Odd',\n",
       " 'The 2 is Even',\n",
       " 'The 3 is Odd',\n",
       " 'The 4 is Even',\n",
       " 'The 5 is Odd',\n",
       " 'The 6 is Even',\n",
       " 'The 7 is Odd',\n",
       " 'The 8 is Even',\n",
       " 'The 9 is Odd',\n",
       " 'The 24 is Even',\n",
       " 'The 56 is Even',\n",
       " 'The 78 is Even']"
      ]
     },
     "execution_count": 14,
     "metadata": {},
     "output_type": "execute_result"
    }
   ],
   "source": [
    "# to see as a list ---\n",
    "list(map(even_or_odd,lst))"
   ]
  },
  {
   "cell_type": "markdown",
   "id": "4eb380fe",
   "metadata": {},
   "source": [
    "New"
   ]
  },
  {
   "cell_type": "markdown",
   "id": "78d92d0a",
   "metadata": {},
   "source": [
    "# Lambda Function\n",
    "\n",
    "## Anonymous Function\n",
    "## A function with no name"
   ]
  },
  {
   "cell_type": "code",
   "execution_count": 15,
   "id": "0efee16b",
   "metadata": {},
   "outputs": [],
   "source": [
    "def add(a,b):\n",
    "    return a+b"
   ]
  },
  {
   "cell_type": "code",
   "execution_count": 16,
   "id": "28c8d513",
   "metadata": {},
   "outputs": [
    {
     "data": {
      "text/plain": [
       "9"
      ]
     },
     "execution_count": 16,
     "metadata": {},
     "output_type": "execute_result"
    }
   ],
   "source": [
    "add(5,4)"
   ]
  },
  {
   "cell_type": "code",
   "execution_count": 17,
   "id": "6a886600",
   "metadata": {},
   "outputs": [],
   "source": [
    "# its a one line function so we can convert it as lambda function"
   ]
  },
  {
   "cell_type": "code",
   "execution_count": 21,
   "id": "db31bf05",
   "metadata": {},
   "outputs": [],
   "source": [
    "addi = lambda a,b:a+b"
   ]
  },
  {
   "cell_type": "code",
   "execution_count": 22,
   "id": "2998e7f2",
   "metadata": {},
   "outputs": [
    {
     "data": {
      "text/plain": [
       "7"
      ]
     },
     "execution_count": 22,
     "metadata": {},
     "output_type": "execute_result"
    }
   ],
   "source": [
    "addi(3,4)"
   ]
  },
  {
   "cell_type": "code",
   "execution_count": 23,
   "id": "9079636f",
   "metadata": {},
   "outputs": [],
   "source": [
    "# only possible if we have a single expression to execute"
   ]
  },
  {
   "cell_type": "code",
   "execution_count": 24,
   "id": "1e6b67a4",
   "metadata": {},
   "outputs": [],
   "source": [
    "def even(num):\n",
    "    if num%2 == 0:\n",
    "        return True"
   ]
  },
  {
   "cell_type": "code",
   "execution_count": 25,
   "id": "89192717",
   "metadata": {},
   "outputs": [
    {
     "data": {
      "text/plain": [
       "True"
      ]
     },
     "execution_count": 25,
     "metadata": {},
     "output_type": "execute_result"
    }
   ],
   "source": [
    "even(6)"
   ]
  },
  {
   "cell_type": "code",
   "execution_count": 26,
   "id": "b0f2f7a5",
   "metadata": {},
   "outputs": [],
   "source": [
    "even = lambda a: a%2==0"
   ]
  },
  {
   "cell_type": "code",
   "execution_count": 27,
   "id": "7befc534",
   "metadata": {},
   "outputs": [
    {
     "data": {
      "text/plain": [
       "False"
      ]
     },
     "execution_count": 27,
     "metadata": {},
     "output_type": "execute_result"
    }
   ],
   "source": [
    "even(11)"
   ]
  },
  {
   "cell_type": "code",
   "execution_count": 28,
   "id": "c17e0cb9",
   "metadata": {},
   "outputs": [
    {
     "data": {
      "text/plain": [
       "True"
      ]
     },
     "execution_count": 28,
     "metadata": {},
     "output_type": "execute_result"
    }
   ],
   "source": [
    "even(56)"
   ]
  },
  {
   "cell_type": "code",
   "execution_count": 29,
   "id": "0d069918",
   "metadata": {},
   "outputs": [],
   "source": [
    "def addition(x,y,z):\n",
    "    return x+y+z"
   ]
  },
  {
   "cell_type": "code",
   "execution_count": 30,
   "id": "bdcdabbc",
   "metadata": {},
   "outputs": [
    {
     "data": {
      "text/plain": [
       "6"
      ]
     },
     "execution_count": 30,
     "metadata": {},
     "output_type": "execute_result"
    }
   ],
   "source": [
    "addition(1,2,3)"
   ]
  },
  {
   "cell_type": "code",
   "execution_count": 34,
   "id": "d06a8b30",
   "metadata": {},
   "outputs": [],
   "source": [
    "result = lambda a,y,z:a+y+z"
   ]
  },
  {
   "cell_type": "code",
   "execution_count": 35,
   "id": "a3e5f34a",
   "metadata": {},
   "outputs": [
    {
     "data": {
      "text/plain": [
       "6"
      ]
     },
     "execution_count": 35,
     "metadata": {},
     "output_type": "execute_result"
    }
   ],
   "source": [
    "result(1,2,3)"
   ]
  },
  {
   "cell_type": "markdown",
   "id": "fc450b8d",
   "metadata": {},
   "source": [
    "# Filter functions in python"
   ]
  },
  {
   "cell_type": "code",
   "execution_count": 36,
   "id": "02aa8cf3",
   "metadata": {},
   "outputs": [],
   "source": [
    "def even(num):\n",
    "    if num%2 == 0:\n",
    "        return True"
   ]
  },
  {
   "cell_type": "code",
   "execution_count": 37,
   "id": "5792b9fe",
   "metadata": {},
   "outputs": [],
   "source": [
    "lst = [1,2,3,4,5,6,7,8,9]"
   ]
  },
  {
   "cell_type": "code",
   "execution_count": 38,
   "id": "13ac1a31",
   "metadata": {},
   "outputs": [
    {
     "data": {
      "text/plain": [
       "[2, 4, 6, 8]"
      ]
     },
     "execution_count": 38,
     "metadata": {},
     "output_type": "execute_result"
    }
   ],
   "source": [
    "list(filter(even,lst))"
   ]
  },
  {
   "cell_type": "code",
   "execution_count": 40,
   "id": "232ed6da",
   "metadata": {},
   "outputs": [
    {
     "data": {
      "text/plain": [
       "<filter at 0x1c5752c9c00>"
      ]
     },
     "execution_count": 40,
     "metadata": {},
     "output_type": "execute_result"
    }
   ],
   "source": [
    "filter(lambda num:num%2==0,lst)"
   ]
  },
  {
   "cell_type": "code",
   "execution_count": 41,
   "id": "7a80bb8e",
   "metadata": {},
   "outputs": [
    {
     "data": {
      "text/plain": [
       "[2, 4, 6, 8]"
      ]
     },
     "execution_count": 41,
     "metadata": {},
     "output_type": "execute_result"
    }
   ],
   "source": [
    "list(filter(lambda num:num%2==0,lst))"
   ]
  },
  {
   "cell_type": "code",
   "execution_count": 42,
   "id": "286bc3c6",
   "metadata": {},
   "outputs": [],
   "source": [
    "# The benefit is no need to create an extra function"
   ]
  },
  {
   "cell_type": "code",
   "execution_count": 43,
   "id": "2f81e072",
   "metadata": {},
   "outputs": [
    {
     "data": {
      "text/plain": [
       "[False, True, False, True, False, True, False, True, False]"
      ]
     },
     "execution_count": 43,
     "metadata": {},
     "output_type": "execute_result"
    }
   ],
   "source": [
    "list(map(lambda num:num%2==0,lst))"
   ]
  },
  {
   "cell_type": "code",
   "execution_count": null,
   "id": "690faa00",
   "metadata": {},
   "outputs": [],
   "source": []
  }
 ],
 "metadata": {
  "kernelspec": {
   "display_name": "Python 3 (ipykernel)",
   "language": "python",
   "name": "python3"
  },
  "language_info": {
   "codemirror_mode": {
    "name": "ipython",
    "version": 3
   },
   "file_extension": ".py",
   "mimetype": "text/x-python",
   "name": "python",
   "nbconvert_exporter": "python",
   "pygments_lexer": "ipython3",
   "version": "3.10.9"
  }
 },
 "nbformat": 4,
 "nbformat_minor": 5
}
